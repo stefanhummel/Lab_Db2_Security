{
 "cells": [
  {
   "cell_type": "markdown",
   "metadata": {
    "hideCode": false,
    "hidePrompt": false
   },
   "source": [
    "# Db2 Row and Column Access Control (RCAC)"
   ]
  },
  {
   "cell_type": "markdown",
   "metadata": {
    "hideCode": false,
    "hidePrompt": false
   },
   "source": [
    "Row permissions and column masks are two database concepts in Db2 that address the shortcomings of traditional security methods. These features act as a second layer of security that complements the table privileges security model available in prior releases of Db2.\n",
    "\n",
    "One advantage of row permissions and column masks is that no database user is automatically exempted from them — not even users with the DATAACCESS authority. The ability to manage row permissions and column masks within a database is vested solely in a user with SECADM, thereby ensuring that users with DATAACCESS authority can no longer freely access all data in the database.\n",
    "   \n",
    "Another key advantage is that row permissions and column masks ensure that table data is protected regardless of how the SQL accesses the table, be it through an application, through ad hoc query tools, or through report generation tools.\n",
    "   \n",
    "Finally, and perhaps most significantly, row permissions and column masks require no application changes; RCAC is transparent to existing applications."
   ]
  },
  {
   "cell_type": "markdown",
   "metadata": {},
   "source": [
    "In this lab we are using HMO (Health Maintenance Organization) data to demonstrate RCAC. \n",
    "\n",
    "This scenario presents the fictitious organization called ExampleHMO, a national organization with a large and active list of patients, as a user of row and column access control. ExampleHMO uses row and column access control to ensure that their database policies reflect government regulatory requirements for privacy and security, as well as management business objectives.\n",
    "\n",
    "Organizations that handle patient health information and their personal information, like ExampleHMO, must comply with government privacy and data protection regulations, for example the Health Insurance Portability and Accountability Act (HIPAA). These privacy and data protection regulations ensure that any sensitive patient medical or personal information is shared, viewed, and modified only by authorities who are privileged to do so. Any violation of the act results in huge penalties including civil and criminal suits.\n",
    "\n",
    "ExampleHMO must ensure that the data stored in their database systems is secure and only privileged users have access to the data. According to typical privacy regulations, certain patient information can be accessed and modified by only privileged users."
   ]
  },
  {
   "cell_type": "code",
   "execution_count": 1,
   "metadata": {},
   "outputs": [
    {
     "name": "stdout",
     "output_type": "stream",
     "text": [
      "DB2 Extensions Loaded.\n"
     ]
    },
    {
     "data": {
      "text/html": [
       "<style>\n",
       "  table {margin-left: 0 !important; text-align: left;}\n",
       "</style>\n"
      ],
      "text/plain": [
       "<IPython.core.display.HTML object>"
      ]
     },
     "metadata": {},
     "output_type": "display_data"
    }
   ],
   "source": [
    "%run ../db2.ipynb"
   ]
  },
  {
   "cell_type": "code",
   "execution_count": null,
   "metadata": {},
   "outputs": [],
   "source": [
    "!easy_install ibm_db"
   ]
  },
  {
   "cell_type": "markdown",
   "metadata": {},
   "source": [
    "<a id='top'></a>\n",
    "## Table of Contents\n",
    "\n",
    "* [Security policies](#policies)\n",
    "* [Database users and roles](#users)\n",
    "* [Database tables](#tables)\n",
    "* [Security administration](#secadm)\n",
    "* [Row permissions](#rowperm)\n",
    "* [Column masks](#colmask)\n",
    "* [Data manipulation](#users)\n",
    "  * [Data insertion](#insert)\n",
    "  * [Data updates](#update)\n",
    "* [Data queries](#query)\n",
    "* [View creation](#view)\n",
    "* [Secure functions](#secfct)\n",
    "* [Secure triggers](#trigger)\n",
    "* [Revoke authority](#revoke)\n",
    "<p>\n",
    "* [Answers](#answers)\n",
    "* [Clean all](#clean)\n",
    "    "
   ]
  },
  {
   "cell_type": "markdown",
   "metadata": {},
   "source": [
    "[Back to Top](#top)"
   ]
  },
  {
   "cell_type": "markdown",
   "metadata": {},
   "source": [
    "## Security policies <a id='policies'></a>"
   ]
  },
  {
   "cell_type": "markdown",
   "metadata": {},
   "source": [
    "ExampleHMO implements a security strategy where data access to databases are made available according to certain security policies.\n",
    "\n",
    "The security policies conform to government privacy and data protection regulations. The first column outlines the policies and the challenges faced by the organization, the second column outlines the row and column access control feature which addresses the challenge."
   ]
  },
  {
   "cell_type": "markdown",
   "metadata": {},
   "source": [
    "<table> \n",
    "    <thead> <tr> \n",
    "        <th style=\"text-align:left;\" width=300px>Security challenge </th> \n",
    "        <th>Row and column access control feature which addresses the security challenge</th>  \n",
    "    </tr> </thead> \n",
    "    <tbody> \n",
    "        <tr> \n",
    "            <td style=\"text-align:left;\">Limiting column access to only privileged users. For example, Jane, who is a drug researcher at a partner company, is not permitted to view sensitive patient medical information or personal data like their insurance number.</td> \n",
    "            <td style=\"text-align:left;\">Column masks can be used to filter or hide sensitive data from Jane.</td> \n",
    "        </tr> \n",
    "        <tr> \n",
    "            <td style=\"text-align:left;\">Limiting row access to only privileged users. Dr. Lee is only permitted to view patient information for his own patients, not all patients in the ExampleHMO system.</td> \n",
    "            <td style=\"text-align:left;\">Row permissions can be implemented to control which user can view any particular row.</td>\n",
    "        </tr> \n",
    "        <tr> \n",
    "            <td style=\"text-align:left;\">Restricting data on a need-to-know basis.</td> \n",
    "            <td style=\"text-align:left;\">Row permissions can help with this challenge as well by restricting table level data at the user level.</td>\n",
    "        </tr> \n",
    "        <tr> \n",
    "            <td style=\"text-align:left;\">Restricting other database objects like UDFs, triggers, views on RCAC secured data.</td> \n",
    "            <td style=\"text-align:left;\">Row and column access control protects data at the data level. It is this data-centric nature of the row and column access control solution that enforces security policies on even database objects like UDFs, triggers, and views.</td>\n",
    "        </tr> \n",
    "    </tbody> \n",
    "</table>"
   ]
  },
  {
   "cell_type": "markdown",
   "metadata": {},
   "source": [
    "[Back to Top](#top)"
   ]
  },
  {
   "cell_type": "markdown",
   "metadata": {},
   "source": [
    "## Database users and roles <a id='users'></a>"
   ]
  },
  {
   "cell_type": "markdown",
   "metadata": {},
   "source": [
    "In this scenario, a number of different people create, secure, and use ExampleHMO data. These people have different user rights and database authorities.\n",
    "\n",
    "ExampleHMO implemented their security strategy to classify the way data is accessed from the database. Internal and external access to data is based on the separation of duties to users who access the data and their data access privileges. ExampleHMO created the following database roles to separate these duties:\n",
    "\n",
    "--> tabelle mit IDs und Rollen\n",
    "    \n",
    "| Role          | Duty                         |\n",
    "|:--------------|:-----------------------------|\n",
    "| PCP           | For primary care physicians. |\n",
    "| DRUG_RESEARCH | For researchers.             |\n",
    "| ACCOUNTING    | For accountants.             |\n",
    "| MEMBERSHIP    | For members who add patients for opt-in and opt-out.  |\n",
    "| PATIENT       | For patients.                |\n",
    "|               |                              |\n",
    "\n",
    "The following people create, secure, and use ExampleHMO data:\n",
    "    \n",
    "* **`Alex`**     Chief Security Administrator. He holds the SECADM authority.\n",
    "* **`Peter`**    Database Administrator. He holds the DBADM authority.\n",
    "* **`Paul`**     Database Developer. He has the privileges to create triggers and user-defined functions.\n",
    "* **`Dr. Lee`**     Physician. He belongs to the PCP role.\n",
    "* **`Jane`**     Drug researcher at Innovative Pharmaceutical Company, a ExampleHMO partner. She belongs to the DRUG_RESEARCH role.\n",
    "* **`John`**     Accounting Department. He belongs to the ACCOUNTING role.\n",
    "* **`Tom`**     Membership Officer. He belongs to the MEMBERSHIP role.\n",
    "* **`Bob`**     Patient. He belongs to the PATIENT role.\n"
   ]
  },
  {
   "cell_type": "markdown",
   "metadata": {},
   "source": [
    "The user IDs are alreday defined in the lab preparation in file \"xxx\".\n",
    "\n",
    "The following SQL statements create each role and grant SELECT and INSERT permissions to the various tables in the ExampleHMO database to the users:"
   ]
  },
  {
   "cell_type": "code",
   "execution_count": 2,
   "metadata": {},
   "outputs": [
    {
     "name": "stdout",
     "output_type": "stream",
     "text": [
      "Connection successful.\n"
     ]
    }
   ],
   "source": [
    "%sql CONNECT TO SAMPLE user db2inst1 using db2inst1"
   ]
  },
  {
   "cell_type": "code",
   "execution_count": 5,
   "metadata": {},
   "outputs": [
    {
     "data": {
      "text/html": [
       "<p><p style=\"border:2px; border-style:solid; border-color:#FF0000; background-color:#ffe6e6; padding: 1em;\">SQL0601N  The name of the object to be created is identical to the existing name \"PCP\" of type \"ROLE\".  SQLSTATE=42710 SQLCODE=-601</p>"
      ],
      "text/plain": [
       "<IPython.core.display.HTML object>"
      ]
     },
     "metadata": {},
     "output_type": "display_data"
    },
    {
     "data": {
      "text/html": [
       "<p><p style=\"border:2px; border-style:solid; border-color:#FF0000; background-color:#ffe6e6; padding: 1em;\">SQL0601N  The name of the object to be created is identical to the existing name \"DRUG_RESEARCH\" of type \"ROLE\".  SQLSTATE=42710 SQLCODE=-601</p>"
      ],
      "text/plain": [
       "<IPython.core.display.HTML object>"
      ]
     },
     "metadata": {},
     "output_type": "display_data"
    },
    {
     "data": {
      "text/html": [
       "<p><p style=\"border:2px; border-style:solid; border-color:#FF0000; background-color:#ffe6e6; padding: 1em;\">SQL0601N  The name of the object to be created is identical to the existing name \"ACCOUNTING\" of type \"ROLE\".  SQLSTATE=42710 SQLCODE=-601</p>"
      ],
      "text/plain": [
       "<IPython.core.display.HTML object>"
      ]
     },
     "metadata": {},
     "output_type": "display_data"
    },
    {
     "data": {
      "text/html": [
       "<p><p style=\"border:2px; border-style:solid; border-color:#FF0000; background-color:#ffe6e6; padding: 1em;\">SQL0601N  The name of the object to be created is identical to the existing name \"MEMBERSHIP\" of type \"ROLE\".  SQLSTATE=42710 SQLCODE=-601</p>"
      ],
      "text/plain": [
       "<IPython.core.display.HTML object>"
      ]
     },
     "metadata": {},
     "output_type": "display_data"
    },
    {
     "data": {
      "text/html": [
       "<p><p style=\"border:2px; border-style:solid; border-color:#FF0000; background-color:#ffe6e6; padding: 1em;\">SQL0601N  The name of the object to be created is identical to the existing name \"PATIENT\" of type \"ROLE\".  SQLSTATE=42710 SQLCODE=-601</p>"
      ],
      "text/plain": [
       "<IPython.core.display.HTML object>"
      ]
     },
     "metadata": {},
     "output_type": "display_data"
    },
    {
     "name": "stdout",
     "output_type": "stream",
     "text": [
      "Command completed.\n"
     ]
    }
   ],
   "source": [
    "%%sql\n",
    "\n",
    "CREATE ROLE PCP;\n",
    "CREATE ROLE DRUG_RESEARCH;\n",
    "CREATE ROLE ACCOUNTING;\n",
    "CREATE ROLE MEMBERSHIP;\n",
    "CREATE ROLE PATIENT;\n",
    "\n",
    "GRANT ROLE PCP TO USER LEE;\n",
    "GRANT ROLE DRUG_RESEARCH TO USER JANE;\n",
    "GRANT ROLE ACCOUNTING  TO USER JOHN;\n",
    "GRANT ROLE MEMBERSHIP TO USER TOM;\n",
    "GRANT ROLE PATIENT TO USER BOB;"
   ]
  },
  {
   "cell_type": "code",
   "execution_count": 6,
   "metadata": {},
   "outputs": [
    {
     "name": "stdout",
     "output_type": "stream",
     "text": [
      "Command completed.\n"
     ]
    }
   ],
   "source": [
    "%%sql\n",
    "-- test\n",
    "GRANT DBADM WITH DATAACCESS WITH ACCESSCTRL ON DATABASE TO USER peter"
   ]
  },
  {
   "cell_type": "markdown",
   "metadata": {},
   "source": [
    "[Back to Top](#top)"
   ]
  },
  {
   "cell_type": "markdown",
   "metadata": {},
   "source": [
    "## Database tables <a id='tables'></a>"
   ]
  },
  {
   "cell_type": "markdown",
   "metadata": {},
   "source": [
    "This scenario focuses on two tables in the ExampleHMO database: the **PATIENT** table and the **PATIENTCHOICE** table.\n",
    "\n",
    "The PATIENT table stores basic patient information and health information. This scenario considers the following columns within the PATIENT table:\n",
    "* **`SSN`**     The patient's insurance number. A patient's insurance number is considered personal information.\n",
    "* **`NAME`**     The patient's name. A patient's name is considered personal information.\n",
    "* **`ADDRESS`**     The patient's address. A patient's address is considered personal information.\n",
    "* **`USERID`**     The patient's database ID.\n",
    "* **`PHARMACY`**     The patient's medical information.\n",
    "* **`ACCT_BALANCE`**     The patient's billing information.\n",
    "* **`PCP_ID`**     The patient's primary care physician database ID\n",
    "\n",
    "\n",
    "The **PATIENTCHOICE** table stores individual patient opt-in and opt-out information which decides whether a patient wants to expose his health information to outsiders for research purposes in this table. This scenario considers the following columns within the **PATIENTCHOICE** table:\n",
    "* **`SSN`**     The patient's insurance number is used to match patients with their choices.\n",
    "* **`CHOICE`**     The name of a choice a patient can make.\n",
    "* **`VALUE`**     The decision made by the patients about the choice.\n",
    "\n",
    "For example, the row 123-45-6789, drug_research, opt-in says that patient with SSN 123-45-6789 agrees to disclose their information for medical research purposes.\n",
    "\n",
    "The following example SQL statements create the PATIENT, PATIENTCHOICE, and ACCT_HISTORY tables. Authority is granted on the tables and data is inserted:"
   ]
  },
  {
   "cell_type": "code",
   "execution_count": 10,
   "metadata": {},
   "outputs": [
    {
     "name": "stdout",
     "output_type": "stream",
     "text": [
      "Command completed.\n"
     ]
    }
   ],
   "source": [
    "%%sql\n",
    "--Patient table storing information regarding patient \n",
    "CREATE TABLE HMO.PATIENT (\n",
    "    SSN CHAR(11),\n",
    "    USERID VARCHAR(18),\n",
    "    NAME VARCHAR(128),\n",
    "    ADDRESS VARCHAR(128),\n",
    "    PHARMACY VARCHAR(250),\n",
    "    ACCT_BALANCE DECIMAL(12,2) WITH DEFAULT,\n",
    "    PCP_ID VARCHAR(18)\n",
    "    );\n",
    "\n",
    "\n",
    "--Patientchoice table which stores what patient opts \n",
    "--to expose regarding his health information\n",
    "CREATE TABLE HMO.PATIENTCHOICE (\n",
    "    SSN CHAR(11),\n",
    "    CHOICE VARCHAR(128),\n",
    "    VALUE VARCHAR(128)\n",
    ");\n",
    "\n",
    "--Log table to track account balance\n",
    "CREATE TABLE HMO.ACCT_HISTORY(\n",
    "    SSN             CHAR(11),\n",
    "    BEFORE_BALANCE  DECIMAL(12,2),\n",
    "    AFTER_BALANCE    DECIMAL(12,2),\n",
    "    WHEN             DATE,\n",
    "    BY_WHO             VARCHAR(20)\n",
    ");\n",
    "\n",
    "\n",
    "--Grant authority\n",
    "\n",
    "GRANT SELECT, UPDATE ON TABLE HMO.PATIENT TO ROLE PCP;\n",
    "GRANT SELECT ON TABLE HMO.PATIENT TO ROLE DRUG_RESEARCH;\n",
    "GRANT SELECT, UPDATE ON TABLE HMO.PATIENT TO ROLE ACCOUNTING;\n",
    "GRANT SELECT ON TABLE HMO.ACCT_HISTORY TO ROLE ACCOUNTING;\n",
    "GRANT SELECT, UPDATE, INSERT ON TABLE HMO.PATIENT TO ROLE MEMBERSHIP;\n",
    "GRANT INSERT ON TABLE HMO.PATIENTCHOICE TO ROLE MEMBERSHIP;\n",
    "GRANT SELECT ON TABLE HMO.PATIENT TO ROLE PATIENT;\n",
    "GRANT SELECT, ALTER ON TABLE HMO.PATIENT TO USER ALEX;\n",
    "GRANT ALTER, SELECT ON TABLE HMO.PATIENT TO USER PAUL;\n",
    "GRANT INSERT ON TABLE HMO.ACCT_HISTORY TO USER PAUL;\n",
    "\n",
    "--Insert patient data\n",
    "INSERT INTO HMO.PATIENT\n",
    "  VALUES('123-55-1234', 'MAX', 'Max', 'First Strt', 'hypertension', 89.70,'LEE');\n",
    "INSERT INTO HMO.PATIENTCHOICE\n",
    "  VALUES('123-55-1234', 'drug-research', 'opt-out');\n",
    "\n",
    "INSERT INTO HMO.PATIENT\n",
    "  VALUES('123-58-9812', 'MIKE', 'Mike', 'Long Strt', null, 8.30,'JAMES');\n",
    "INSERT INTO HMO.PATIENTCHOICE\n",
    "  VALUES('123-58-9812', 'drug-research', 'opt-out');\n",
    "\n",
    "INSERT INTO HMO.PATIENT\n",
    "  VALUES('123-11-9856', 'SAM', 'Sam', 'Big Strt', null, 0.00,'LEE');\n",
    "INSERT INTO HMO.PATIENTCHOICE\n",
    "  VALUES('123-11-9856', 'drug-research', 'opt-in');\n",
    "\n",
    "INSERT INTO HMO.PATIENT\n",
    "  VALUES('123-19-1454', 'DUG', 'Dug', 'Good Strt', null, 0.00,'JAMES');\n",
    "INSERT INTO HMO.PATIENTCHOICE\n",
    "  VALUES('123-19-1454', 'drug-research', 'opt-in');"
   ]
  },
  {
   "cell_type": "markdown",
   "metadata": {},
   "source": [
    "[Back to Top](#top)"
   ]
  },
  {
   "cell_type": "markdown",
   "metadata": {},
   "source": [
    "## Security administration <a id='secadm'></a>"
   ]
  },
  {
   "cell_type": "markdown",
   "metadata": {},
   "source": [
    "Security administration and the security administrator (SECADM) role play important parts in securing patient and company data at ExampleHMO. At ExampleHMO, management decided that different people hold database administration authority and security administration authority.\n",
    "\n",
    "The management team at ExampleHMO decides to create a role for administering access to their data. The team also decides that even users with DATAACCESS authority are not able to view protected health and personal data by default.\n",
    "\n",
    "The management team selects Alex to be the sole security administrator for ExampleHMO. From now on, Alex controls all data access authority. With this authority, Alex defines security rules such as row permissions, column masks, and whether functions and triggers are secure or not. These rules control which users have access to any given data under his control.\n",
    "\n",
    "After Peter, the database administrator, creates the required tables and sets up the required roles, duties are separated. The database administration and security administration duties are separated by making Alex the security administrator.\n",
    "\n",
    "Peter connects to the database and grants Alex SECADM authority. Peter can grant SECADM authority since he currently holds the DBADM, DATAACCESS, and SECADM authorities."
   ]
  },
  {
   "cell_type": "code",
   "execution_count": null,
   "metadata": {},
   "outputs": [],
   "source": [
    "%%sql\n",
    "GRANT SECADM ON DATABASE TO USER ALEX;"
   ]
  },
  {
   "cell_type": "markdown",
   "metadata": {},
   "source": [
    "Alex, after receiving the SECADM authority, connects to the database and revokes the security administrator privilege from Peter. The duties are now separated and Alex becomes the sole authority to grant data access to others within and outside ExampleHMO. The following SQL statement shows how Alex revoked SECADM authority from Peter:"
   ]
  },
  {
   "cell_type": "code",
   "execution_count": 4,
   "metadata": {
    "scrolled": false
   },
   "outputs": [
    {
     "name": "stdout",
     "output_type": "stream",
     "text": [
      "Connection successful.\n"
     ]
    }
   ],
   "source": [
    "%sql CONNECT TO SAMPLE user alex using p123"
   ]
  },
  {
   "cell_type": "code",
   "execution_count": null,
   "metadata": {
    "scrolled": true
   },
   "outputs": [],
   "source": [
    "%%sql\n",
    "REVOKE SECADM ON DATABASE FROM USER db2inst1;"
   ]
  },
  {
   "cell_type": "markdown",
   "metadata": {},
   "source": [
    "In these exercises we change the user context with the command `SET SESSION AUTHORIZATION <id>;`. This requires the authorization `SETSESSIONUSER`, which the user Peter holds:"
   ]
  },
  {
   "cell_type": "code",
   "execution_count": null,
   "metadata": {},
   "outputs": [],
   "source": [
    "%%sql \n",
    "grant setsessionuser on user lee to user peter;\n",
    "grant setsessionuser on user jane to user peter;\n",
    "grant setsessionuser on user john to user peter;\n",
    "grant setsessionuser on user tom to user peter;\n",
    "grant setsessionuser on user bob to user peter;\n"
   ]
  },
  {
   "cell_type": "code",
   "execution_count": null,
   "metadata": {},
   "outputs": [],
   "source": [
    "%sql CONNECT RESET"
   ]
  },
  {
   "cell_type": "markdown",
   "metadata": {},
   "source": [
    "<font color=\"blue\" size=\"+1\"><b>Exercise 1</b></font> <a id='exercise_1'></a>\n",
    "\n",
    "* Connect to SAMPLE as DBA\n",
    "* Switch the user conext to another user\n",
    "* Check the privileges of the user you switched to (repeat this step for different users)\n",
    "* Disconnect from SAMPLE"
   ]
  },
  {
   "cell_type": "code",
   "execution_count": null,
   "metadata": {},
   "outputs": [],
   "source": [
    "%sql CONNECT TO SAMPLE ..."
   ]
  },
  {
   "cell_type": "code",
   "execution_count": null,
   "metadata": {},
   "outputs": [],
   "source": [
    "%sql SET ..."
   ]
  },
  {
   "cell_type": "code",
   "execution_count": null,
   "metadata": {},
   "outputs": [],
   "source": [
    "%%sql\n",
    "SELECT authid, privilege, objectschema, objectname, objecttype \n",
    "    FROM SYSIBMADM.PRIVILEGES\n",
    "    WHERE AUTHID = ..."
   ]
  },
  {
   "cell_type": "code",
   "execution_count": null,
   "metadata": {},
   "outputs": [],
   "source": [
    "%sql CONNECT RESET"
   ]
  },
  {
   "cell_type": "markdown",
   "metadata": {},
   "source": [
    "[Solution to exercise 1](#answers_exercise_1)\n"
   ]
  },
  {
   "cell_type": "markdown",
   "metadata": {},
   "source": [
    "[Back to Top](#top)"
   ]
  },
  {
   "cell_type": "markdown",
   "metadata": {},
   "source": [
    "## Row permissions <a id='rowperm'></a>"
   ]
  },
  {
   "cell_type": "markdown",
   "metadata": {},
   "source": [
    "Alex, the security administrator, starts to restrict data access on the ExampleHMO database by using row permissions, a part of row and column access control. Row permissions filter the data returned to users by row.\n",
    "\n",
    "Patients are permitted to view their own data. A physician is permitted to view the data of all his patients, but not the data of patients who see other physicians. Users belonging to the MEMBERSHIP, ACCOUNTING, or DRUG_RESEARCH roles can access all patient information. Alex, the security administrator, is asked to implement these permissions to restrict who can see any given row on a need-to-know basis.\n",
    "\n",
    "Row permissions restrict or filter rows based on the user who has logged on to the database. At ExampleHMO, the row permissions create a horizontal data restriction on the table named PATIENT.\n",
    "\n",
    "Alex implements the following row permissions so that a user in each role is restricted to view a result set that they are privileged to view:"
   ]
  },
  {
   "cell_type": "code",
   "execution_count": 15,
   "metadata": {},
   "outputs": [
    {
     "name": "stdout",
     "output_type": "stream",
     "text": [
      "Connection successful.\n"
     ]
    }
   ],
   "source": [
    "%sql CONNECT TO SAMPLE user alex using p123"
   ]
  },
  {
   "cell_type": "code",
   "execution_count": 17,
   "metadata": {},
   "outputs": [
    {
     "name": "stdout",
     "output_type": "stream",
     "text": [
      "Command completed.\n"
     ]
    }
   ],
   "source": [
    "%%sql\n",
    "CREATE PERMISSION ROW_ACCESS ON HMO.PATIENT\n",
    "-------------------------------------------------------\n",
    "-- Accounting information:\n",
    "-- ROLE PATIENT is allowed to access his or her own row\n",
    "-- ROLE PCP is allowed to access his or her patients' rows\n",
    "-- ROLE MEMBERSHIP, ACCOUNTING, and DRUG_RESEARCH are\n",
    "-- allowed to access all rows\n",
    "------------------------------------------------------------\n",
    "FOR ROWS WHERE(VERIFY_ROLE_FOR_USER(SESSION_USER,'PATIENT') = 1\n",
    "AND\n",
    "HMO.PATIENT.USERID = SESSION_USER) OR\n",
    "(VERIFY_ROLE_FOR_USER(SESSION_USER,'PCP') = 1\n",
    "AND\n",
    "HMO.PATIENT.PCP_ID = SESSION_USER) OR\n",
    "    (VERIFY_ROLE_FOR_USER(SESSION_USER,'MEMBERSHIP') = 1 OR\n",
    "    VERIFY_ROLE_FOR_USER(SESSION_USER,'ACCOUNTING') = 1 OR\n",
    "    VERIFY_ROLE_FOR_USER(SESSION_USER, 'DRUG_RESEARCH') = 1)\n",
    "ENFORCED FOR ALL ACCESS\n",
    "ENABLE;"
   ]
  },
  {
   "cell_type": "markdown",
   "metadata": {},
   "source": [
    "Alex observes that even after creating a row permission, all data can still be viewed by the other employees. A row permission is not applied until it is activated on the table for which it was defined. Alex must now activate the permission:"
   ]
  },
  {
   "cell_type": "code",
   "execution_count": 18,
   "metadata": {},
   "outputs": [
    {
     "name": "stdout",
     "output_type": "stream",
     "text": [
      "Command completed.\n"
     ]
    }
   ],
   "source": [
    "%%sql\n",
    "ALTER TABLE HMO.PATIENT ACTIVATE ROW ACCESS CONTROL;"
   ]
  },
  {
   "cell_type": "markdown",
   "metadata": {},
   "source": [
    "[Back to Top](#top)"
   ]
  },
  {
   "cell_type": "markdown",
   "metadata": {},
   "source": [
    "## Column masks <a id='colmask'></a>"
   ]
  },
  {
   "cell_type": "markdown",
   "metadata": {},
   "source": [
    "Alex, the security administrator, further restricts data access on the ExampleHMO database by using column masks, a part of row and column access control. Column masks hide data returned to users by column unless they are permitted to view the data.\n",
    "\n",
    "Patient payment details must only be accessible to the users in the accounts department. The account balance must not be seen by any other database users. Alex is asked to prevent access by anyone other than users belonging to the ACCOUNTING role.\n",
    "\n",
    "Alex implements the following column mask so that a user in each role is restricted to view a result set that they are privileged to view:"
   ]
  },
  {
   "cell_type": "code",
   "execution_count": 19,
   "metadata": {},
   "outputs": [
    {
     "name": "stdout",
     "output_type": "stream",
     "text": [
      "Command completed.\n"
     ]
    }
   ],
   "source": [
    "%%sql\n",
    "--Create a Column MASK ON ACCT_BALANCE column on the PATIENT table\n",
    "\n",
    "CREATE OR REPLACE MASK ACCT_BALANCE_MASK ON HMO.PATIENT FOR\n",
    "------------------------------------------------------------\n",
    "-- Accounting information:\n",
    "-- Role ACCOUNTING is allowed to access the full information\n",
    "-- on column ACCT_BALANCE.\n",
    "-- Other roles accessing this column will strictly view a\n",
    "-- zero value.\n",
    "------------------------------------------------------------\n",
    "COLUMN ACCT_BALANCE RETURN\n",
    "    CASE WHEN VERIFY_ROLE_FOR_USER(SESSION_USER,'ACCOUNTING') = 1\n",
    "        THEN ACCT_BALANCE\n",
    "        ELSE 0.00\n",
    "    END\n",
    "ENABLE;"
   ]
  },
  {
   "cell_type": "markdown",
   "metadata": {},
   "source": [
    "Alex observes that even after creating a column mask, the data can still be viewed by the other employees. A column mask is not applied until it is activated on the table for which it was defined. Alex must now activate the mask:"
   ]
  },
  {
   "cell_type": "code",
   "execution_count": 20,
   "metadata": {},
   "outputs": [
    {
     "name": "stdout",
     "output_type": "stream",
     "text": [
      "Command completed.\n"
     ]
    }
   ],
   "source": [
    "%%sql\n",
    "ALTER TABLE HMO.PATIENT ACTIVATE COLUMN ACCESS CONTROL;"
   ]
  },
  {
   "cell_type": "markdown",
   "metadata": {},
   "source": [
    "Alex is asked by management to hide the insurance number of the patients. Only a patient, physician, accountant, or people in the MEMBERSHIP role can view the SSN column.\n",
    "\n",
    "Also, to protect the PHARMACY detail of a patient, the information in the PHARMACY column must only be viewed by a drug researcher or a physician. Drug researchers can see the data only if the patient has agreed to disclose the information.\n",
    "\n",
    "Alex implements the following column masks so that a user in each role is restricted to view a result set that they are privileged to view:"
   ]
  },
  {
   "cell_type": "code",
   "execution_count": 27,
   "metadata": {},
   "outputs": [
    {
     "name": "stdout",
     "output_type": "stream",
     "text": [
      "Command completed.\n"
     ]
    }
   ],
   "source": [
    "%%sql\n",
    "CREATE MASK SSN_MASK ON HMO.PATIENT FOR\n",
    "----------------------------------------------------\n",
    "-- Personal contact information:\n",
    "-- Roles PATIENT, PCP, MEMBERSHIP, and ACCOUNTING are allowed\n",
    "-- to access the full information on columns SSN, USERID, NAME,\n",
    "-- and ADDRESS. Other roles accessing these columns will\n",
    "-- strictly view a masked value.\n",
    "-----------------------------------------------------\n",
    "COLUMN SSN RETURN\n",
    "    CASE WHEN \n",
    "        VERIFY_ROLE_FOR_USER(SESSION_USER,'PATIENT') = 1 OR\n",
    "        VERIFY_ROLE_FOR_USER(SESSION_USER,'PCP') = 1 OR\n",
    "        VERIFY_ROLE_FOR_USER(SESSION_USER,'MEMBERSHIP') = 1 OR\n",
    "        VERIFY_ROLE_FOR_USER(SESSION_USER,'ACCOUNTING') = 1\n",
    "    THEN SSN\n",
    "    ELSE CHAR('XXX-XX-' || SUBSTR(SSN,8,4))\tEND\n",
    "ENABLE;\n",
    "\n",
    "CREATE MASK PHARMACY_MASK ON HMO.PATIENT FOR\n",
    "--------------------------------------------------------\n",
    "-- Medical information:\n",
    "-- Role PCP is allowed to access the full information on\n",
    "-- column PHARMACY.\n",
    "-- For the purposes of drug research, Role DRUG_RESEARCH can\n",
    "-- conditionally see a patient's medical information\n",
    "-- provided that the patient has opted-in.\n",
    "-- In all other cases, null values are rendered as column\n",
    "-- values.\n",
    "----------------------------------------------------\n",
    "COLUMN PHARMACY RETURN\n",
    "        CASE WHEN \n",
    "        VERIFY_ROLE_FOR_USER(SESSION_USER,'PCP') = 1 OR\n",
    "        (VERIFY_ROLE_FOR_USER(SESSION_USER,'DRUG_RESEARCH') = 1\n",
    "        AND\n",
    "            EXISTS (SELECT 1 FROM HMO.PATIENTCHOICE C\n",
    "    WHERE HMO.PATIENT.SSN = C.SSN AND C.CHOICE = 'drug-research' AND C.VALUE = 'opt-in'))\n",
    "        THEN PHARMACY\n",
    "        ELSE NULL\n",
    "END\n",
    "ENABLE;"
   ]
  },
  {
   "cell_type": "markdown",
   "metadata": {},
   "source": [
    "Alex observes that after creating these two column masks that the data is only viewable to the intended users. The PATIENT table already had column access control activated."
   ]
  },
  {
   "cell_type": "markdown",
   "metadata": {},
   "source": [
    "[Back to Top](#top)"
   ]
  },
  {
   "cell_type": "markdown",
   "metadata": {},
   "source": [
    "## Data insertion <a id='insert'></a>"
   ]
  },
  {
   "cell_type": "markdown",
   "metadata": {},
   "source": [
    "When a new patient is admitted for treatment in the hospital, the new patient record must be added to the ExampleHMO database.\n",
    "\n",
    "Bob is a new patient, and his records must be added to the ExampleHMO database. A user with the required security authority must create the new record for Bob. Tom, from the ExampleHMO membership department, with the MEMBERSHIP role, enrolls Bob as a new member. After connecting to the ExampleHMO database, Tom runs the following SQL statements to add Bob to the ExampleHMO database:"
   ]
  },
  {
   "cell_type": "code",
   "execution_count": 28,
   "metadata": {
    "scrolled": true
   },
   "outputs": [
    {
     "name": "stdout",
     "output_type": "stream",
     "text": [
      "Connection successful.\n"
     ]
    }
   ],
   "source": [
    "%sql CONNECT TO SAMPLE user peter using p123"
   ]
  },
  {
   "cell_type": "code",
   "execution_count": 29,
   "metadata": {},
   "outputs": [
    {
     "name": "stdout",
     "output_type": "stream",
     "text": [
      "Command completed.\n"
     ]
    }
   ],
   "source": [
    "%%sql\n",
    "SET SESSION_USER = \"TOM\";\n"
   ]
  },
  {
   "cell_type": "code",
   "execution_count": 30,
   "metadata": {},
   "outputs": [
    {
     "name": "stdout",
     "output_type": "stream",
     "text": [
      "Command completed.\n"
     ]
    }
   ],
   "source": [
    "%%sql\n",
    "INSERT INTO HMO.PATIENT\n",
    "  VALUES('123-45-6789', 'BOB', 'Bob', '123 Some St.', 'hypertension', 9.00,'LEE');\n",
    "INSERT INTO HMO.PATIENTCHOICE\n",
    "  VALUES('123-45-6789', 'drug-research', 'opt-in');"
   ]
  },
  {
   "cell_type": "markdown",
   "metadata": {},
   "source": [
    "Tom confirmed that Bob was added to the database by querying the same from the PATIENT table in the ExampleHMO database:"
   ]
  },
  {
   "cell_type": "code",
   "execution_count": 31,
   "metadata": {},
   "outputs": [
    {
     "data": {
      "text/html": [
       "<div>\n",
       "<style scoped>\n",
       "    .dataframe tbody tr th:only-of-type {\n",
       "        vertical-align: middle;\n",
       "    }\n",
       "\n",
       "    .dataframe tbody tr th {\n",
       "        vertical-align: top;\n",
       "    }\n",
       "\n",
       "    .dataframe thead th {\n",
       "        text-align: right;\n",
       "    }\n",
       "</style>\n",
       "<table border=\"1\" class=\"dataframe\">\n",
       "  <thead>\n",
       "    <tr style=\"text-align: right;\">\n",
       "      <th></th>\n",
       "      <th>SSN</th>\n",
       "      <th>USERID</th>\n",
       "      <th>NAME</th>\n",
       "      <th>ADDRESS</th>\n",
       "      <th>PHARMACY</th>\n",
       "      <th>ACCT_BALANCE</th>\n",
       "      <th>PCP_ID</th>\n",
       "    </tr>\n",
       "  </thead>\n",
       "  <tbody>\n",
       "    <tr>\n",
       "      <th>0</th>\n",
       "      <td>123-45-6789</td>\n",
       "      <td>BOB</td>\n",
       "      <td>Bob</td>\n",
       "      <td>123 Some St.</td>\n",
       "      <td>None</td>\n",
       "      <td>0.0</td>\n",
       "      <td>LEE</td>\n",
       "    </tr>\n",
       "  </tbody>\n",
       "</table>\n",
       "</div>"
      ],
      "text/plain": [
       "           SSN USERID NAME       ADDRESS PHARMACY  ACCT_BALANCE PCP_ID\n",
       "0  123-45-6789    BOB  Bob  123 Some St.     None           0.0    LEE"
      ]
     },
     "execution_count": 31,
     "metadata": {},
     "output_type": "execute_result"
    }
   ],
   "source": [
    "%%sql\n",
    "Select * FROM HMO.PATIENT WHERE NAME = 'Bob';\n",
    "           "
   ]
  },
  {
   "cell_type": "markdown",
   "metadata": {},
   "source": [
    "[Back to Top](#top)"
   ]
  },
  {
   "cell_type": "markdown",
   "metadata": {},
   "source": [
    "## Data updates <a id='update'></a>"
   ]
  },
  {
   "cell_type": "markdown",
   "metadata": {},
   "source": [
    "While in the hospital, Bob gets his treatment changed. As a result his records in the ExampleHMO database need updating.\n",
    "\n",
    "Dr. Lee, who is Bob's physician, advises a treatment change and changes Bob's medicine. Bob's record in the ExampleHMO systems must be updated. The row permission rules set in the ExampleHMO database specify that anyone who cannot view the data in a row cannot update the data in that row. Since Bob's PCPID contains Dr. Lee's ID, and the row permission is set, Dr. Lee can both view, and update Bob's record using the following example SQL statement:"
   ]
  },
  {
   "cell_type": "code",
   "execution_count": 32,
   "metadata": {},
   "outputs": [
    {
     "name": "stdout",
     "output_type": "stream",
     "text": [
      "Command completed.\n"
     ]
    }
   ],
   "source": [
    "%%sql\n",
    "SET SESSION_USER = \"LEE\";\n"
   ]
  },
  {
   "cell_type": "code",
   "execution_count": 34,
   "metadata": {},
   "outputs": [
    {
     "name": "stdout",
     "output_type": "stream",
     "text": [
      "Command completed.\n"
     ]
    }
   ],
   "source": [
    "%sql UPDATE HMO.PATIENT SET PHARMACY = 'codeine' WHERE NAME = 'Bob';"
   ]
  },
  {
   "cell_type": "markdown",
   "metadata": {},
   "source": [
    "Dr. Lee checks the update:"
   ]
  },
  {
   "cell_type": "code",
   "execution_count": 35,
   "metadata": {},
   "outputs": [
    {
     "data": {
      "text/html": [
       "<div>\n",
       "<style scoped>\n",
       "    .dataframe tbody tr th:only-of-type {\n",
       "        vertical-align: middle;\n",
       "    }\n",
       "\n",
       "    .dataframe tbody tr th {\n",
       "        vertical-align: top;\n",
       "    }\n",
       "\n",
       "    .dataframe thead th {\n",
       "        text-align: right;\n",
       "    }\n",
       "</style>\n",
       "<table border=\"1\" class=\"dataframe\">\n",
       "  <thead>\n",
       "    <tr style=\"text-align: right;\">\n",
       "      <th></th>\n",
       "      <th>SSN</th>\n",
       "      <th>USERID</th>\n",
       "      <th>NAME</th>\n",
       "      <th>ADDRESS</th>\n",
       "      <th>PHARMACY</th>\n",
       "      <th>ACCT_BALANCE</th>\n",
       "      <th>PCP_ID</th>\n",
       "    </tr>\n",
       "  </thead>\n",
       "  <tbody>\n",
       "    <tr>\n",
       "      <th>0</th>\n",
       "      <td>123-45-6789</td>\n",
       "      <td>BOB</td>\n",
       "      <td>Bob</td>\n",
       "      <td>123 Some St.</td>\n",
       "      <td>codeine</td>\n",
       "      <td>0.0</td>\n",
       "      <td>LEE</td>\n",
       "    </tr>\n",
       "  </tbody>\n",
       "</table>\n",
       "</div>"
      ],
      "text/plain": [
       "           SSN USERID NAME       ADDRESS PHARMACY  ACCT_BALANCE PCP_ID\n",
       "0  123-45-6789    BOB  Bob  123 Some St.  codeine           0.0    LEE"
      ]
     },
     "execution_count": 35,
     "metadata": {},
     "output_type": "execute_result"
    }
   ],
   "source": [
    "%%sql\n",
    "Select * FROM HMO.PATIENT WHERE NAME = 'Bob';"
   ]
  },
  {
   "cell_type": "markdown",
   "metadata": {},
   "source": [
    "Dug is a patient who is under the care of Dr. James, one of Dr. Lee's colleagues. Dr. Lee attempts the same update on the record for Dug:"
   ]
  },
  {
   "cell_type": "code",
   "execution_count": 36,
   "metadata": {},
   "outputs": [
    {
     "data": {
      "text/html": [
       "<p><p style=\"border:2px; border-style:solid; border-color:#FF0000; background-color:#ffe6e6; padding: 1em;\">No rows found.</p>"
      ],
      "text/plain": [
       "<IPython.core.display.HTML object>"
      ]
     },
     "metadata": {},
     "output_type": "display_data"
    },
    {
     "name": "stdout",
     "output_type": "stream",
     "text": [
      "Command completed.\n"
     ]
    }
   ],
   "source": [
    "%%sql\n",
    "UPDATE HMO.PATIENT SET PHARMACY = 'codeine' WHERE NAME = 'Dug';"
   ]
  },
  {
   "cell_type": "markdown",
   "metadata": {},
   "source": [
    "[Back to Top](#top)"
   ]
  },
  {
   "cell_type": "markdown",
   "metadata": {},
   "source": [
    "## Data queries <a id='query'></a>"
   ]
  },
  {
   "cell_type": "markdown",
   "metadata": {},
   "source": [
    "With row and column access control, people in different roles can have different result sets from the same database queries. For example, Peter, the database administrator with DATAACCESS authority, cannot see any data on the PATIENT table.\n",
    "\n",
    "<font color=\"blue\" size=\"+1\"><b>Exercise 2</b></font> <a id='exercise_2'></a>\n",
    "\n",
    "Run the following SQL query as Peter, Bob, Dr. Lee, Tom, Jane, and John and compare the result set. Switch the user context with:\n",
    "\n",
    "`SET SESSION_USER = <name>`"
   ]
  },
  {
   "cell_type": "code",
   "execution_count": 58,
   "metadata": {},
   "outputs": [
    {
     "data": {
      "text/html": [
       "<div>\n",
       "<style scoped>\n",
       "    .dataframe tbody tr th:only-of-type {\n",
       "        vertical-align: middle;\n",
       "    }\n",
       "\n",
       "    .dataframe tbody tr th {\n",
       "        vertical-align: top;\n",
       "    }\n",
       "\n",
       "    .dataframe thead th {\n",
       "        text-align: right;\n",
       "    }\n",
       "</style>\n",
       "<table border=\"1\" class=\"dataframe\">\n",
       "  <thead>\n",
       "    <tr style=\"text-align: right;\">\n",
       "      <th></th>\n",
       "      <th>SSN</th>\n",
       "      <th>USERID</th>\n",
       "      <th>NAME</th>\n",
       "      <th>ADDRESS</th>\n",
       "      <th>PHARMACY</th>\n",
       "      <th>ACCT_BALANCE</th>\n",
       "      <th>PCP_ID</th>\n",
       "    </tr>\n",
       "  </thead>\n",
       "  <tbody>\n",
       "    <tr>\n",
       "      <th>0</th>\n",
       "      <td>XXX-XX-1234</td>\n",
       "      <td>MAX</td>\n",
       "      <td>Max</td>\n",
       "      <td>First Strt</td>\n",
       "      <td>None</td>\n",
       "      <td>0.0</td>\n",
       "      <td>LEE</td>\n",
       "    </tr>\n",
       "    <tr>\n",
       "      <th>1</th>\n",
       "      <td>XXX-XX-9812</td>\n",
       "      <td>MIKE</td>\n",
       "      <td>Mike</td>\n",
       "      <td>Long Strt</td>\n",
       "      <td>None</td>\n",
       "      <td>0.0</td>\n",
       "      <td>JAMES</td>\n",
       "    </tr>\n",
       "    <tr>\n",
       "      <th>2</th>\n",
       "      <td>XXX-XX-9856</td>\n",
       "      <td>SAM</td>\n",
       "      <td>Sam</td>\n",
       "      <td>Big Strt</td>\n",
       "      <td>None</td>\n",
       "      <td>0.0</td>\n",
       "      <td>LEE</td>\n",
       "    </tr>\n",
       "    <tr>\n",
       "      <th>3</th>\n",
       "      <td>XXX-XX-1454</td>\n",
       "      <td>DUG</td>\n",
       "      <td>Dug</td>\n",
       "      <td>Good Strt</td>\n",
       "      <td>None</td>\n",
       "      <td>0.0</td>\n",
       "      <td>JAMES</td>\n",
       "    </tr>\n",
       "    <tr>\n",
       "      <th>4</th>\n",
       "      <td>XXX-XX-6789</td>\n",
       "      <td>BOB</td>\n",
       "      <td>Bob</td>\n",
       "      <td>123 Some St.</td>\n",
       "      <td>codeine</td>\n",
       "      <td>0.0</td>\n",
       "      <td>LEE</td>\n",
       "    </tr>\n",
       "  </tbody>\n",
       "</table>\n",
       "</div>"
      ],
      "text/plain": [
       "           SSN USERID  NAME       ADDRESS PHARMACY  ACCT_BALANCE PCP_ID\n",
       "0  XXX-XX-1234    MAX   Max    First Strt     None           0.0    LEE\n",
       "1  XXX-XX-9812   MIKE  Mike     Long Strt     None           0.0  JAMES\n",
       "2  XXX-XX-9856    SAM   Sam      Big Strt     None           0.0    LEE\n",
       "3  XXX-XX-1454    DUG   Dug     Good Strt     None           0.0  JAMES\n",
       "4  XXX-XX-6789    BOB   Bob  123 Some St.  codeine           0.0    LEE"
      ]
     },
     "execution_count": 58,
     "metadata": {},
     "output_type": "execute_result"
    }
   ],
   "source": [
    "%%sql\n",
    "SET SESSION_USER = jane;\n",
    "SELECT SSN, USERID, NAME, ADDRESS, PHARMACY, ACCT_BALANCE, PCP_ID FROM HMO.PATIENT;"
   ]
  },
  {
   "cell_type": "markdown",
   "metadata": {},
   "source": [
    "Results of the query vary according to who runs the query. The row and column access control rules created by Alex are applied on these queries.\n",
    "\n",
    "* Even though there is data in the table and Peter is the database administrator, he lacks the authority to see all data.\n",
    "* Jane cannot see the complete SSN\n",
    "* ...\n",
    "\n"
   ]
  },
  {
   "cell_type": "code",
   "execution_count": 60,
   "metadata": {},
   "outputs": [
    {
     "name": "stdout",
     "output_type": "stream",
     "text": [
      "Connection closed.\n"
     ]
    }
   ],
   "source": [
    "%sql CONNECT RESET"
   ]
  },
  {
   "cell_type": "markdown",
   "metadata": {},
   "source": [
    "[Solution to exercise 2](#answers_exercise_2)"
   ]
  },
  {
   "cell_type": "markdown",
   "metadata": {},
   "source": [
    "[Back to Top](#top)"
   ]
  },
  {
   "cell_type": "markdown",
   "metadata": {},
   "source": [
    "## View creation <a id='view'></a>"
   ]
  },
  {
   "cell_type": "markdown",
   "metadata": {},
   "source": [
    "Views can be created on tables that have row and column access control defined. Alex, the security administrator, is asked to create a view on the PATIENT table that medical researchers can use.\n",
    "\n",
    "Researchers, that have a partnership with ExampleHMO, can have access to limited patient data if patients have opted-in to permit this access. Alex and the IT team are asked to create a view to list only specific information related to research of the patient. The report must contain the patient insurance number, name of the patient and the disclosure option chosen by the patient.\n",
    "\n",
    "The view created fetches the patient basic information and the health condition disclosure option. This view ensures that patient information is protected and fetched only with their permission for any other purpose.\n",
    "\n",
    "Alex and the IT team implement the following view:"
   ]
  },
  {
   "cell_type": "code",
   "execution_count": 80,
   "metadata": {},
   "outputs": [
    {
     "name": "stdout",
     "output_type": "stream",
     "text": [
      "Connection successful.\n"
     ]
    }
   ],
   "source": [
    "%sql CONNECT TO SAMPLE user alex using p123"
   ]
  },
  {
   "cell_type": "code",
   "execution_count": 64,
   "metadata": {},
   "outputs": [
    {
     "name": "stdout",
     "output_type": "stream",
     "text": [
      "Command completed.\n"
     ]
    }
   ],
   "source": [
    "%%sql\n",
    "DROP VIEW HMO.PATIENT_INFO_VIEW;"
   ]
  },
  {
   "cell_type": "code",
   "execution_count": 67,
   "metadata": {},
   "outputs": [
    {
     "name": "stdout",
     "output_type": "stream",
     "text": [
      "Command completed.\n"
     ]
    }
   ],
   "source": [
    "%%sql\n",
    "CREATE VIEW HMO.PATIENT_INFO_VIEW AS\n",
    " SELECT P.SSN, P.NAME \n",
    "    FROM HMO.PATIENT P, \n",
    "         HMO.PATIENTCHOICE C\n",
    "    WHERE P.SSN = C.SSN AND\n",
    "          C.CHOICE = 'drug-research' AND\n",
    "          C.VALUE = 'opt-in';\n",
    "\n",
    "GRANT SELECT ON TABLE HMO.PATIENT_INFO_VIEW TO public;"
   ]
  },
  {
   "cell_type": "code",
   "execution_count": 82,
   "metadata": {},
   "outputs": [
    {
     "name": "stdout",
     "output_type": "stream",
     "text": [
      "Connection closed.\n"
     ]
    }
   ],
   "source": [
    "%sql CONNECT RESET"
   ]
  },
  {
   "cell_type": "markdown",
   "metadata": {},
   "source": [
    "After Alex and his team create the view, users can query the view. They see data according to the row and column access control rules defined on the base tables on which the view is created.\n",
    "\n",
    "<font color=\"blue\" size=\"+1\"><b>Exercise</b></font>\n",
    "\n",
    "How many rows do Alex, Dr. Lee and Bob see? \n",
    "Think about it first before you execute the following SQL queries\n"
   ]
  },
  {
   "cell_type": "code",
   "execution_count": 83,
   "metadata": {},
   "outputs": [
    {
     "name": "stdout",
     "output_type": "stream",
     "text": [
      "Connection successful.\n"
     ]
    }
   ],
   "source": [
    "%sql CONNECT TO SAMPLE user peter using p123"
   ]
  },
  {
   "cell_type": "code",
   "execution_count": null,
   "metadata": {},
   "outputs": [],
   "source": [
    "%%sql\n",
    "SET SESSION AUTHORIZATION jane;\n",
    "SELECT SSN, NAME FROM HMO.PATIENT_INFO_VIEW;"
   ]
  },
  {
   "cell_type": "code",
   "execution_count": 75,
   "metadata": {},
   "outputs": [
    {
     "name": "stdout",
     "output_type": "stream",
     "text": [
      "Connection closed.\n"
     ]
    }
   ],
   "source": [
    "%sql CONNECT RESET"
   ]
  },
  {
   "cell_type": "markdown",
   "metadata": {},
   "source": [
    "[Back to Top](#top)"
   ]
  },
  {
   "cell_type": "markdown",
   "metadata": {},
   "source": [
    "## Secure functions <a id='secfct'></a>"
   ]
  },
  {
   "cell_type": "markdown",
   "metadata": {},
   "source": [
    "Functions must be deemed secure before they can be called within row and column access control definitions. Alex, the security administrator, discusses how Paul, a database developer at ExampleHMO, can create a secure function for his new accounting application.\n",
    "\n",
    "After the privacy and security policy went into effect at ExampleHMO, Alex is notified that the accounting department has developed a powerful accounting application. ExampleHMOAccountingUDF is a SQL scalar user-defined function (UDF) that is used in the column mask ACCT_BALANCE_MASK on the PATIENT.ACCT_BALANCE table and row.\n",
    "\n",
    "Only UDFs that are secure can be invoked within a column mask. Alex first discusses the UDF with Paul, who wrote the UDF, to ensure the operation inside the UDF is secure.\n",
    "\n",
    "When Alex is satisfied that the function is secure, he grants a system privilege to Paul so Paul can alter the UDF to be secure:"
   ]
  },
  {
   "cell_type": "code",
   "execution_count": 96,
   "metadata": {},
   "outputs": [
    {
     "name": "stdout",
     "output_type": "stream",
     "text": [
      "Connection successful.\n"
     ]
    }
   ],
   "source": [
    "%sql CONNECT TO SAMPLE user alex using p123"
   ]
  },
  {
   "cell_type": "code",
   "execution_count": 97,
   "metadata": {},
   "outputs": [
    {
     "name": "stdout",
     "output_type": "stream",
     "text": [
      "Command completed.\n"
     ]
    }
   ],
   "source": [
    "%sql GRANT CREATE_SECURE_OBJECT ON DATABASE TO USER PAUL; "
   ]
  },
  {
   "cell_type": "code",
   "execution_count": 98,
   "metadata": {},
   "outputs": [
    {
     "name": "stdout",
     "output_type": "stream",
     "text": [
      "Connection successful.\n"
     ]
    }
   ],
   "source": [
    "%sql CONNECT RESET;"
   ]
  },
  {
   "cell_type": "markdown",
   "metadata": {},
   "source": [
    "To create a secured UDF, or alter a UDF to be secured, a developer must be granted CREATE_SECURE_OBJECT authority.\n",
    "\n",
    "Paul creates the function:"
   ]
  },
  {
   "cell_type": "code",
   "execution_count": 118,
   "metadata": {},
   "outputs": [
    {
     "name": "stdout",
     "output_type": "stream",
     "text": [
      "Connection successful.\n"
     ]
    }
   ],
   "source": [
    "%sql CONNECT TO SAMPLE user paul using p123;"
   ]
  },
  {
   "cell_type": "code",
   "execution_count": 114,
   "metadata": {},
   "outputs": [
    {
     "name": "stdout",
     "output_type": "stream",
     "text": [
      "Command completed.\n"
     ]
    }
   ],
   "source": [
    "%sql DROP FUNCTION HMO.ExampleHMOAccountingUDF;"
   ]
  },
  {
   "cell_type": "code",
   "execution_count": 120,
   "metadata": {},
   "outputs": [
    {
     "name": "stdout",
     "output_type": "stream",
     "text": [
      "Command completed.\n"
     ]
    }
   ],
   "source": [
    "%%sql\n",
    "CREATE FUNCTION HMO.ExampleHMOAccountingUDF(X DECIMAL(12,2))\n",
    "       RETURNS DECIMAL(12,2)\n",
    "       LANGUAGE SQL\n",
    "       CONTAINS SQL\n",
    "       DETERMINISTIC\n",
    "       NO EXTERNAL ACTION\n",
    "       RETURN X*(1.0 + RAND(X));"
   ]
  },
  {
   "cell_type": "markdown",
   "metadata": {},
   "source": [
    "Paul alters the function so it is secured:\n"
   ]
  },
  {
   "cell_type": "code",
   "execution_count": 121,
   "metadata": {},
   "outputs": [
    {
     "name": "stdout",
     "output_type": "stream",
     "text": [
      "Command completed.\n"
     ]
    }
   ],
   "source": [
    "%sql ALTER FUNCTION HMO.ExampleHMOAccountingUDF SECURED;"
   ]
  },
  {
   "cell_type": "code",
   "execution_count": 122,
   "metadata": {},
   "outputs": [
    {
     "name": "stdout",
     "output_type": "stream",
     "text": [
      "Connection successful.\n"
     ]
    }
   ],
   "source": [
    "%sql CONNECT RESET;"
   ]
  },
  {
   "cell_type": "markdown",
   "metadata": {},
   "source": [
    "Alex now drops and recreates the mask ACC_BALANCE_MASK so the new UDF is used:"
   ]
  },
  {
   "cell_type": "code",
   "execution_count": 195,
   "metadata": {},
   "outputs": [
    {
     "name": "stdout",
     "output_type": "stream",
     "text": [
      "Connection successful.\n"
     ]
    }
   ],
   "source": [
    "%sql CONNECT TO SAMPLE user alex using p123;"
   ]
  },
  {
   "cell_type": "code",
   "execution_count": 198,
   "metadata": {},
   "outputs": [
    {
     "name": "stdout",
     "output_type": "stream",
     "text": [
      "Command completed.\n"
     ]
    }
   ],
   "source": [
    "%%sql\n",
    "CREATE OR REPLACE MASK HMO.ACCT_BALANCE_MASK ON HMO.PATIENT FOR\n",
    "------------------------------------------------------------\n",
    "-- Accounting information:\n",
    "-- Role ACCOUNTING is allowed to invoke the secured UDF\n",
    "-- ExampleHMOAccountingUDFL passing column ACCT_BALANCE as\n",
    "-- the input argument\n",
    "-- Other ROLEs accessing this column will strictly view a\n",
    "-- zero value.\n",
    "------------------------------------------------------------\n",
    "COLUMN ACCT_BALANCE RETURN\n",
    "CASE WHEN VERIFY_ROLE_FOR_USER(SESSION_USER,'ACCOUNTING') = 1\n",
    "THEN HMO.ExampleHMOAccountingUDF(ACCT_BALANCE)\n",
    "ELSE 0.00\n",
    "END\n",
    "ENABLE;"
   ]
  },
  {
   "cell_type": "code",
   "execution_count": 199,
   "metadata": {},
   "outputs": [
    {
     "name": "stdout",
     "output_type": "stream",
     "text": [
      "Connection successful.\n"
     ]
    }
   ],
   "source": [
    "%sql CONNECT RESET;"
   ]
  },
  {
   "cell_type": "markdown",
   "metadata": {},
   "source": [
    "Dr. Lee, who has the PCP role, must call a drug analysis user-defined function. DrugUDF returns patient drug information. In the past, Dr. Lee issues a SELECT statement that calls DrugUDF and receives the result set quickly. After the PATIENT table has been protected with row and column access control, the same query takes more time to return a result set.\n",
    "\n",
    "Dr. Lee consults with the ExampleHMO IT staff and Alex, the security administrator, about this performance degradation. Alex tells Dr. Lee, if the UDF is not secure, the query cannot be optimized as well and it takes longer to return a result set.\n",
    "\n",
    "Alex looks into the UDF with Dr. Lee and the owner, Paul, to ensure the operation inside the UDF is secure. Alex asks Paul to alter the UDF to be secure as Paul still has the CREATE_SECURE_OBJECT privilege granted by Alex:"
   ]
  },
  {
   "cell_type": "code",
   "execution_count": 200,
   "metadata": {},
   "outputs": [
    {
     "name": "stdout",
     "output_type": "stream",
     "text": [
      "Connection successful.\n"
     ]
    }
   ],
   "source": [
    "%sql CONNECT TO SAMPLE user paul using p123;"
   ]
  },
  {
   "cell_type": "code",
   "execution_count": 201,
   "metadata": {},
   "outputs": [
    {
     "name": "stdout",
     "output_type": "stream",
     "text": [
      "Command completed.\n"
     ]
    }
   ],
   "source": [
    "%%sql -d\n",
    "CREATE OR REPLACE FUNCTION HMO.DrugUDF(PHARMACY VARCHAR(5000))\n",
    "      RETURNS VARCHAR(5000)\n",
    "      NO EXTERNAL ACTION\n",
    "      BEGIN ATOMIC\n",
    "        IF PHARMACY IS NULL THEN\n",
    "          RETURN NULL;\n",
    "            ELSE\n",
    "                RETURN 'Normal';\n",
    "        END IF;\n",
    "      END;\n",
    "@"
   ]
  },
  {
   "cell_type": "code",
   "execution_count": 202,
   "metadata": {},
   "outputs": [
    {
     "name": "stdout",
     "output_type": "stream",
     "text": [
      "Command completed.\n"
     ]
    }
   ],
   "source": [
    "%%sql\n",
    "ALTER FUNCTION HMO.DrugUDF SECURED;\n",
    "GRANT EXECUTE ON FUNCTION HMO.DrugUDF TO USER LEE;"
   ]
  },
  {
   "cell_type": "code",
   "execution_count": 203,
   "metadata": {},
   "outputs": [
    {
     "name": "stdout",
     "output_type": "stream",
     "text": [
      "Connection successful.\n"
     ]
    }
   ],
   "source": [
    "%sql CONNECT RESET;"
   ]
  },
  {
   "cell_type": "markdown",
   "metadata": {},
   "source": [
    "Dr. Lee can issue the query and the query can be optimized as expected:"
   ]
  },
  {
   "cell_type": "code",
   "execution_count": 204,
   "metadata": {},
   "outputs": [
    {
     "name": "stdout",
     "output_type": "stream",
     "text": [
      "Connection successful.\n"
     ]
    }
   ],
   "source": [
    "%sql CONNECT TO SAMPLE user peter using p123"
   ]
  },
  {
   "cell_type": "code",
   "execution_count": 205,
   "metadata": {},
   "outputs": [
    {
     "data": {
      "text/html": [
       "<div>\n",
       "<style scoped>\n",
       "    .dataframe tbody tr th:only-of-type {\n",
       "        vertical-align: middle;\n",
       "    }\n",
       "\n",
       "    .dataframe tbody tr th {\n",
       "        vertical-align: top;\n",
       "    }\n",
       "\n",
       "    .dataframe thead th {\n",
       "        text-align: right;\n",
       "    }\n",
       "</style>\n",
       "<table border=\"1\" class=\"dataframe\">\n",
       "  <thead>\n",
       "    <tr style=\"text-align: right;\">\n",
       "      <th></th>\n",
       "      <th>PHARMACY</th>\n",
       "    </tr>\n",
       "  </thead>\n",
       "  <tbody>\n",
       "    <tr>\n",
       "      <th>0</th>\n",
       "      <td>codeine</td>\n",
       "    </tr>\n",
       "  </tbody>\n",
       "</table>\n",
       "</div>"
      ],
      "text/plain": [
       "  PHARMACY\n",
       "0  codeine"
      ]
     },
     "execution_count": 205,
     "metadata": {},
     "output_type": "execute_result"
    }
   ],
   "source": [
    "%%sql\n",
    "SET SESSION AUTHORIZATION lee;\n",
    "SELECT PHARMACY FROM HMO.PATIENT\n",
    "    WHERE HMO.DrugUDF(PHARMACY) = 'Normal' \n",
    "    AND SSN = '123-45-6789';"
   ]
  },
  {
   "cell_type": "code",
   "execution_count": 206,
   "metadata": {},
   "outputs": [
    {
     "name": "stdout",
     "output_type": "stream",
     "text": [
      "Connection successful.\n"
     ]
    }
   ],
   "source": [
    "%sql CONNECT RESET;"
   ]
  },
  {
   "cell_type": "markdown",
   "metadata": {},
   "source": [
    "[Back to Top](#top)"
   ]
  },
  {
   "cell_type": "markdown",
   "metadata": {},
   "source": [
    "## Secure triggers <a id='trigger'></a>"
   ]
  },
  {
   "cell_type": "markdown",
   "metadata": {},
   "source": [
    "Triggers defined on a table with row or column access control activated must be secure. Alex, the security administrator, discusses how Paul, a database developer at ExampleHMO, can create a secure trigger for his new accounting application.\n",
    "\n",
    "Alex speaks to the accounting department and learns that an AFTER UPDATE trigger is needed for the PATIENT table. This trigger monitors the history of the ACCT_BALANCE column.\n",
    "\n",
    "Alex explains to Paul, who has the necessary privileges to create the trigger, that any trigger defined on a row and column access protected table must be marked secure. Paul and Alex review the action of the new trigger and deem it to be secure.\n",
    "\n",
    "ExampleHMO_ACCT_BALANCE_TRIGGER monitors the ACCT_BALANCE column in the PATIENT table. Every time that column is updated, the trigger is fired, and inserts the current account balance details into the ACCT_HISTORY table.\n",
    "\n",
    "Paul creates the trigger:"
   ]
  },
  {
   "cell_type": "code",
   "execution_count": 207,
   "metadata": {},
   "outputs": [
    {
     "name": "stdout",
     "output_type": "stream",
     "text": [
      "Connection successful.\n"
     ]
    }
   ],
   "source": [
    "%sql CONNECT TO SAMPLE user paul using p123"
   ]
  },
  {
   "cell_type": "code",
   "execution_count": 209,
   "metadata": {},
   "outputs": [
    {
     "name": "stdout",
     "output_type": "stream",
     "text": [
      "Command completed.\n"
     ]
    }
   ],
   "source": [
    "%%sql -d\n",
    "CREATE OR REPLACE TRIGGER HMO.NETHMO_ACCT_BALANCE_TRIGGER \n",
    "  AFTER UPDATE OF ACCT_BALANCE ON HMO.PATIENT \n",
    "  REFERENCING OLD AS O NEW AS N \n",
    "  FOR EACH ROW MODE DB2SQL SECURED \n",
    "  BEGIN  ATOMIC \n",
    "  INSERT INTO HMO.ACCT_HISTORY\n",
    "  (SSN, BEFORE_BALANCE, AFTER_BALANCE, WHEN, BY_WHO) \n",
    "  VALUES(O.SSN, O.ACCT_BALANCE, N.ACCT_BALANCE,\n",
    "  CURRENT TIMESTAMP, SESSION_USER); \n",
    "END\n",
    "@"
   ]
  },
  {
   "cell_type": "code",
   "execution_count": 210,
   "metadata": {},
   "outputs": [
    {
     "name": "stdout",
     "output_type": "stream",
     "text": [
      "Connection successful.\n"
     ]
    }
   ],
   "source": [
    "%sql CONNECT RESET;"
   ]
  },
  {
   "cell_type": "markdown",
   "metadata": {},
   "source": [
    "John, from the accounting department, must update the account balance for the patient Bob whose SSN is '123-45-6789'.\n",
    "\n",
    "John looks at the data for Bob before running the update:"
   ]
  },
  {
   "cell_type": "code",
   "execution_count": 211,
   "metadata": {},
   "outputs": [
    {
     "name": "stdout",
     "output_type": "stream",
     "text": [
      "Connection successful.\n"
     ]
    }
   ],
   "source": [
    "%sql CONNECT TO SAMPLE user peter using p123"
   ]
  },
  {
   "cell_type": "code",
   "execution_count": 212,
   "metadata": {},
   "outputs": [
    {
     "name": "stdout",
     "output_type": "stream",
     "text": [
      "Command completed.\n"
     ]
    }
   ],
   "source": [
    "%sql SET SESSION AUTHORIZATION john;"
   ]
  },
  {
   "cell_type": "code",
   "execution_count": 213,
   "metadata": {},
   "outputs": [
    {
     "data": {
      "text/html": [
       "<div>\n",
       "<style scoped>\n",
       "    .dataframe tbody tr th:only-of-type {\n",
       "        vertical-align: middle;\n",
       "    }\n",
       "\n",
       "    .dataframe tbody tr th {\n",
       "        vertical-align: top;\n",
       "    }\n",
       "\n",
       "    .dataframe thead th {\n",
       "        text-align: right;\n",
       "    }\n",
       "</style>\n",
       "<table border=\"1\" class=\"dataframe\">\n",
       "  <thead>\n",
       "    <tr style=\"text-align: right;\">\n",
       "      <th></th>\n",
       "      <th>ACCT_BALANCE</th>\n",
       "    </tr>\n",
       "  </thead>\n",
       "  <tbody>\n",
       "    <tr>\n",
       "      <th>0</th>\n",
       "      <td>17.96</td>\n",
       "    </tr>\n",
       "  </tbody>\n",
       "</table>\n",
       "</div>"
      ],
      "text/plain": [
       "   ACCT_BALANCE\n",
       "0         17.96"
      ]
     },
     "execution_count": 213,
     "metadata": {},
     "output_type": "execute_result"
    }
   ],
   "source": [
    "%sql SELECT ACCT_BALANCE FROM HMO.PATIENT WHERE SSN = '123-45-6789'; "
   ]
  },
  {
   "cell_type": "code",
   "execution_count": 214,
   "metadata": {},
   "outputs": [
    {
     "data": {
      "text/html": [
       "<p><p style=\"border:2px; border-style:solid; border-color:#FF0000; background-color:#ffe6e6; padding: 1em;\">No rows found</p>"
      ],
      "text/plain": [
       "<IPython.core.display.HTML object>"
      ]
     },
     "metadata": {},
     "output_type": "display_data"
    },
    {
     "name": "stdout",
     "output_type": "stream",
     "text": [
      "Command completed.\n"
     ]
    }
   ],
   "source": [
    "%sql SELECT * FROM HMO.ACCT_HISTORY WHERE SSN = '123-45-6789'; "
   ]
  },
  {
   "cell_type": "markdown",
   "metadata": {},
   "source": [
    "John then runs the update:"
   ]
  },
  {
   "cell_type": "code",
   "execution_count": 215,
   "metadata": {},
   "outputs": [
    {
     "data": {
      "text/html": [
       "<p><p style=\"border:2px; border-style:solid; border-color:#FF0000; background-color:#ffe6e6; padding: 1em;\">SQL20478N  The statement failed because the column mask \"HMO.ACCT_BALANCE_MASK\" defined for column \"HMO.PATIENT.ACCT_BALANCE\" exists and the column mask cannot be applied or the column mask conflicts with the failed statement. Reason code \"30\"  SQLSTATE=428HD SQLCODE=-20478</p>"
      ],
      "text/plain": [
       "<IPython.core.display.HTML object>"
      ]
     },
     "metadata": {},
     "output_type": "display_data"
    },
    {
     "name": "stdout",
     "output_type": "stream",
     "text": [
      "Command completed.\n"
     ]
    }
   ],
   "source": [
    "%sql UPDATE HMO.PATIENT SET ACCT_BALANCE = ACCT_BALANCE * 0.9 WHERE SSN = '123-45-6789'; "
   ]
  },
  {
   "cell_type": "code",
   "execution_count": 216,
   "metadata": {},
   "outputs": [
    {
     "name": "stdout",
     "output_type": "stream",
     "text": [
      "Connection successful.\n"
     ]
    }
   ],
   "source": [
    "%sql CONNECT RESET;"
   ]
  },
  {
   "cell_type": "markdown",
   "metadata": {},
   "source": [
    "[Back to Top](#top)"
   ]
  },
  {
   "cell_type": "markdown",
   "metadata": {},
   "source": [
    "## Revoke authority <a id='revoke'></a>"
   ]
  },
  {
   "cell_type": "markdown",
   "metadata": {},
   "source": [
    "Alex, as security administrator, is responsible for controlling who can create secure objects. When developers are done creating secure objects, Alex revokes their authority on the database.\n",
    "\n",
    "Paul, the database developer, is done with development activities. Alex immediately revokes the create authority from Paul:"
   ]
  },
  {
   "cell_type": "code",
   "execution_count": null,
   "metadata": {},
   "outputs": [],
   "source": [
    "%sql CONNECT TO SAMPLE user alex using p123"
   ]
  },
  {
   "cell_type": "code",
   "execution_count": null,
   "metadata": {},
   "outputs": [],
   "source": [
    "%sql REVOKE CREATE_SECURE_OBJECT ON DATABASE FROM USER PAUL;"
   ]
  },
  {
   "cell_type": "code",
   "execution_count": null,
   "metadata": {},
   "outputs": [],
   "source": [
    "%sql CONNECT RESET;"
   ]
  },
  {
   "cell_type": "markdown",
   "metadata": {},
   "source": [
    "If Paul must create secure objects in the future, he must speak to Alex to have the create authority granted again."
   ]
  },
  {
   "cell_type": "markdown",
   "metadata": {},
   "source": [
    "[Back to Top](#top)"
   ]
  },
  {
   "cell_type": "markdown",
   "metadata": {},
   "source": [
    "## Answers <a id='answers'></a>"
   ]
  },
  {
   "cell_type": "markdown",
   "metadata": {},
   "source": [
    "### Exercise 1  <a id='answers_exercise_1'></a>"
   ]
  },
  {
   "cell_type": "code",
   "execution_count": null,
   "metadata": {},
   "outputs": [],
   "source": [
    "%sql CONNECT TO SAMPLE user peter using p123"
   ]
  },
  {
   "cell_type": "code",
   "execution_count": null,
   "metadata": {},
   "outputs": [],
   "source": [
    "%sql SET SESSION AUTHORIZATION lee"
   ]
  },
  {
   "cell_type": "code",
   "execution_count": null,
   "metadata": {},
   "outputs": [],
   "source": [
    "%%sql\n",
    "SELECT authid, privilege, objectschema, objectname, objecttype \n",
    "    FROM SYSIBMADM.PRIVILEGES\n",
    "    WHERE AUTHID = SESSION_USER"
   ]
  },
  {
   "cell_type": "code",
   "execution_count": null,
   "metadata": {},
   "outputs": [],
   "source": [
    "%sql CONNECT RESET"
   ]
  },
  {
   "cell_type": "markdown",
   "metadata": {},
   "source": [
    "[Back to Execrise 1](#exercise_1)"
   ]
  },
  {
   "cell_type": "markdown",
   "metadata": {},
   "source": [
    "### Exercise 2  <a id='answers_exercise_2'></a>"
   ]
  },
  {
   "cell_type": "code",
   "execution_count": null,
   "metadata": {},
   "outputs": [],
   "source": []
  },
  {
   "cell_type": "markdown",
   "metadata": {},
   "source": [
    "[Back to Execrise 2](#exercise_2)"
   ]
  },
  {
   "cell_type": "markdown",
   "metadata": {},
   "source": [
    "## Clean all <a id='clean'></a>"
   ]
  },
  {
   "cell_type": "markdown",
   "metadata": {},
   "source": [
    "#### Drop roles"
   ]
  },
  {
   "cell_type": "code",
   "execution_count": null,
   "metadata": {},
   "outputs": [],
   "source": [
    "%%sql\n",
    "DROP ROLE PCP;\n",
    "DROP ROLE DRUG_RESEARCH;\n",
    "DROP ROLE ACCOUNTING;\n",
    "DROP ROLE MEMBERSHIP;\n",
    "DROP ROLE PATIENT;\n"
   ]
  },
  {
   "cell_type": "markdown",
   "metadata": {},
   "source": [
    "#### Drop tables"
   ]
  },
  {
   "cell_type": "code",
   "execution_count": 9,
   "metadata": {},
   "outputs": [
    {
     "name": "stdout",
     "output_type": "stream",
     "text": [
      "Command completed.\n"
     ]
    }
   ],
   "source": [
    "%%sql\n",
    "DROP VIEW HMO.PATIENT_INFO_VIEW;\n",
    "DROP TABLE HMO.PATIENT;\n",
    "DROP TABLE HMO.PATIENTCHOICE;\n",
    "DROP TABLE HMO.ACCT_HISTORY;"
   ]
  },
  {
   "cell_type": "markdown",
   "metadata": {},
   "source": []
  },
  {
   "cell_type": "markdown",
   "metadata": {},
   "source": []
  },
  {
   "cell_type": "markdown",
   "metadata": {},
   "source": []
  },
  {
   "cell_type": "markdown",
   "metadata": {},
   "source": []
  },
  {
   "cell_type": "markdown",
   "metadata": {},
   "source": [
    "[Back to Top](#top)"
   ]
  },
  {
   "cell_type": "markdown",
   "metadata": {},
   "source": [
    "# <font color=red> The End"
   ]
  },
  {
   "cell_type": "code",
   "execution_count": null,
   "metadata": {
    "hideCode": false,
    "hideOutput": false,
    "hidePrompt": false
   },
   "outputs": [],
   "source": [
    "%run db2.ipynb"
   ]
  },
  {
   "cell_type": "markdown",
   "metadata": {},
   "source": [
    "### Connect to the SAMPLE database"
   ]
  },
  {
   "cell_type": "code",
   "execution_count": null,
   "metadata": {},
   "outputs": [],
   "source": [
    "%sql CONNECT TO SAMPLE"
   ]
  },
  {
   "cell_type": "markdown",
   "metadata": {},
   "source": [
    "We populate the database with the EMPLOYEE and DEPARTMENT tables so that we can run the various examples."
   ]
  },
  {
   "cell_type": "code",
   "execution_count": null,
   "metadata": {},
   "outputs": [],
   "source": [
    "%sql -sampledata"
   ]
  },
  {
   "cell_type": "markdown",
   "metadata": {
    "hideCode": false,
    "hidePrompt": false
   },
   "source": [
    "## Health Care Scenario\n",
    "\n",
    "We will use a sample scenario based on the Health-care industry.\n",
    " \n",
    "Data in a hospital needs to be provided to a number of individuals,including other organizations like insurance companies, clearing house etc. Each of these companies have their own employees, and there are government regulations in place dictating who can see what data or parts of patient data.\n",
    "\n",
    "As a result security policies must be in place to ensure the rules are being met.\n",
    "\n",
    "Across the scenario there will be different groups of individuals that access the database and there must be security in place to ensure each group or individual only sees the data they are allowed to see.\n",
    "\n",
    "This SQL will create the base PATIENT table and populate it with information."
   ]
  },
  {
   "cell_type": "code",
   "execution_count": null,
   "metadata": {
    "hideCode": false,
    "hidePrompt": false
   },
   "outputs": [],
   "source": [
    "%%sql -q\n",
    "DROP TABLE HC.PATIENTS;\n",
    "\n",
    "CREATE TABLE HC.PATIENTS\n",
    "  (\n",
    "  SIN      VARCHAR(11),\n",
    "  USERID   VARCHAR(8),\n",
    "  NAME     VARCHAR(8),\n",
    "  ADDRESS  VARCHAR(12),\n",
    "  PHARMACY VARCHAR(12),\n",
    "  ACCT_BALANCE DEC(9,2),\n",
    "  PCP_ID   VARCHAR(8)\n",
    "  );\n",
    "\n",
    "INSERT INTO HC.PATIENTS VALUES\n",
    "  ('123 551 234','MAX','Max','First St.','hypertension',89.7,'LEE'),\n",
    "  ('123 589 812','MIKE','Mike','Long St.','diabetics',8.3,'JAMES'),\n",
    "  ('123 119 856','SAM','Sam','Big St.','aspirin',12.5,'LEE'),\n",
    "  ('123 191 454','DOUG','Doug','Good St.','influenza',7.68,'JAMES'),\n",
    "  ('123 456 789','BOB','Bob','123 Some St.','hypertension',9,'LEE');\n",
    "\n",
    "SELECT * FROM HC.PATIENTS;"
   ]
  },
  {
   "cell_type": "markdown",
   "metadata": {
    "hideCode": false,
    "hidePrompt": false
   },
   "source": [
    "## Setting Permissions for Access\n",
    "The following permissions need to be defined for accessing the PATIENT data:\n",
    "\n",
    "- Patients can only access their own data\n",
    "- Physicians Can only access their own patients' data\n",
    "- Membership officers, Accounting, and Drug researchers can access all data\n",
    "- All other access is denied\n",
    "\n",
    "Normally SQL similar to the following is used to define who can access the data.\n",
    "```\n",
    "verify_role_for_user(SESSION_USER,'PATIENT') = 1\n",
    "   AND patient.userid = SESSION_USER\n",
    "```\n",
    "Changing from one user to another requires a number of `SECADM` features and separate connections, so in order to simplify the demo we will use a `ROLE` table and a `UDF` to simulate this capability."
   ]
  },
  {
   "cell_type": "markdown",
   "metadata": {},
   "source": [
    "## Create ROLE table\n",
    "The ROLE table will simulate what ROLES does natively in DB2. The table contains two \n",
    "columns:\n",
    "\n",
    "- USERID - the name or ID of the user\n",
    "- ROLE   - what their ROLE is \n",
    "\n",
    "Users can have more than one ROLE in this table."
   ]
  },
  {
   "cell_type": "code",
   "execution_count": null,
   "metadata": {},
   "outputs": [],
   "source": [
    "%%sql\n",
    "DROP TABLE HC.ROLES;\n",
    "CREATE TABLE HC.ROLES\n",
    "  (\n",
    "  USERID VARCHAR(8),\n",
    "  ROLE   VARCHAR(10)\n",
    "  );"
   ]
  },
  {
   "cell_type": "markdown",
   "metadata": {},
   "source": [
    "We also need to create a `SESSION_USER` global variable that can be used to identify the \"current\" user. Normally you would just use the `SESSION_USER` variable in the rules, but since we don't want to use SECADM we need to fake the userid."
   ]
  },
  {
   "cell_type": "code",
   "execution_count": null,
   "metadata": {},
   "outputs": [],
   "source": [
    "%sql CREATE OR REPLACE VARIABLE HC.SESSION_USER VARCHAR(8);"
   ]
  },
  {
   "cell_type": "markdown",
   "metadata": {},
   "source": [
    "The `HC.VERIFY_ROLE_FOR_USER` function will mimic what the `VERIFY_ROLE_FOR_USER`\n",
    "function does by returning a value of 1 if the user has that particular ROLE."
   ]
  },
  {
   "cell_type": "code",
   "execution_count": null,
   "metadata": {},
   "outputs": [],
   "source": [
    "%%sql -d\n",
    "CREATE OR REPLACE FUNCTION \n",
    "  HC.VERIFY_ROLE_FOR_USER(UID VARCHAR(8), IN_ROLE VARCHAR(10))\n",
    "    SECURED NO EXTERNAL ACTION DETERMINISTIC\n",
    "    RETURNS INT\n",
    "    BEGIN ATOMIC\n",
    "      RETURN\n",
    "       SELECT COUNT(*) FROM HC.ROLES H\n",
    "         WHERE H.USERID = UID AND H.ROLE = IN_ROLE;\n",
    "    END@"
   ]
  },
  {
   "cell_type": "markdown",
   "metadata": {},
   "source": [
    "Create some ROLES for people in the Healthcare scenario."
   ]
  },
  {
   "cell_type": "code",
   "execution_count": null,
   "metadata": {},
   "outputs": [],
   "source": [
    "%%sql\n",
    "INSERT INTO HC.ROLES\n",
    "  VALUES\n",
    "    ('LEE','PCP'),('JAMES','PCP'),\n",
    "    ('MAX','PATIENT'),('MIKE','PATIENT'),('SAM','PATIENT'),\n",
    "    ('DOUG','PATIENT'),('BOB','PATIENT'),\n",
    "    ('JOHN','ACCOUNTING'),\n",
    "    ('TOM','MEMBERSHIP'),\n",
    "    ('JANE','RESEARCH'),\n",
    "    ('FRED','DBA');"
   ]
  },
  {
   "cell_type": "markdown",
   "metadata": {},
   "source": [
    "Now we can test to see if a user has a particular role. This first test checks to see the Dr. Lee is a PCP (Primary Care Provider)."
   ]
  },
  {
   "cell_type": "code",
   "execution_count": null,
   "metadata": {},
   "outputs": [],
   "source": [
    "%%sql\n",
    "SET HC.SESSION_USER = 'LEE';\n",
    "\n",
    "VALUES\n",
    "   HC.VERIFY_ROLE_FOR_USER(HC.SESSION_USER,'PCP');"
   ]
  },
  {
   "cell_type": "markdown",
   "metadata": {},
   "source": [
    "At this point in time we can set up some rules on what the various groups can see."
   ]
  },
  {
   "cell_type": "code",
   "execution_count": null,
   "metadata": {},
   "outputs": [],
   "source": [
    "%%sql\n",
    "CREATE OR REPLACE PERMISSION HC.ROW_ACCESS ON HC.PATIENTS\n",
    "  FOR ROWS WHERE\n",
    "  (\n",
    "     HC.VERIFY_ROLE_FOR_USER(HC.SESSION_USER,'PATIENT') = 1 AND\n",
    "     HC.SESSION_USER = USERID\n",
    "  )\n",
    "  OR\n",
    "  (   \n",
    "     HC.VERIFY_ROLE_FOR_USER(HC.SESSION_USER,'PCP') = 1 AND\n",
    "     HC.SESSION_USER = PCP_ID\n",
    "  )\n",
    "  OR\n",
    "  (\n",
    "     HC.VERIFY_ROLE_FOR_USER(HC.SESSION_USER,'MEMBERSHIP') = 1 OR\n",
    "     HC.VERIFY_ROLE_FOR_USER(HC.SESSION_USER,'ACCOUNTING') = 1 OR\n",
    "     HC.VERIFY_ROLE_FOR_USER(HC.SESSION_USER,'RESEARCH') = 1\n",
    "  )\n",
    "  ENFORCED FOR ALL ACCESS\n",
    "  ENABLE;"
   ]
  },
  {
   "cell_type": "markdown",
   "metadata": {},
   "source": [
    "The rules now need to be activated in order for them to be enforced."
   ]
  },
  {
   "cell_type": "code",
   "execution_count": null,
   "metadata": {},
   "outputs": [],
   "source": [
    "%sql ALTER TABLE HC.PATIENTS ACTIVATE ROW ACCESS CONTROL;"
   ]
  },
  {
   "cell_type": "markdown",
   "metadata": {},
   "source": [
    "## Updating a Patient Record\n",
    "Dr. Lee needs to update the medication that his patient Sam is taking.\n",
    "\n",
    "First we examine the original record in the table."
   ]
  },
  {
   "cell_type": "code",
   "execution_count": null,
   "metadata": {},
   "outputs": [],
   "source": [
    "%%sql \n",
    "SET HC.SESSION_USER = 'LEE';\n",
    "\n",
    "SELECT * FROM HC.PATIENTS WHERE NAME = 'Sam';"
   ]
  },
  {
   "cell_type": "markdown",
   "metadata": {},
   "source": [
    "Dr. Lee decides to give Sam some codeine for his pain. The update is successful and we can see the results."
   ]
  },
  {
   "cell_type": "code",
   "execution_count": null,
   "metadata": {},
   "outputs": [],
   "source": [
    "%%sql\n",
    "UPDATE HC.PATIENTS SET PHARMACY = 'Codeine' WHERE NAME = 'Sam';\n",
    "\n",
    "SELECT * FROM HC.PATIENTS WHERE NAME = 'Sam'"
   ]
  },
  {
   "cell_type": "markdown",
   "metadata": {},
   "source": [
    "## Update Failure\n",
    "\n",
    "If a doctor is not assigned to a patient, they will not be able to update their\n",
    "record. The rule is that if you can't read (select) the record then you can't\n",
    "update it.\n"
   ]
  },
  {
   "cell_type": "code",
   "execution_count": null,
   "metadata": {},
   "outputs": [],
   "source": [
    "%%sql\n",
    "SET HC.SESSION_USER = 'LEE';\n",
    "\n",
    "UPDATE HC.PATIENTS SET PHARMACY = 'Codeine' WHERE NAME = 'Doug';"
   ]
  },
  {
   "cell_type": "markdown",
   "metadata": {},
   "source": [
    "The UPDATE completes, but no records are modified. To see all of the records, we need to change our userid to someone who can see all records (John in accounting). Note there is no way around this restriction - you must have the proper clearance to see the records."
   ]
  },
  {
   "cell_type": "code",
   "execution_count": null,
   "metadata": {},
   "outputs": [],
   "source": [
    "%%sql\n",
    "SET HC.SESSION_USER = 'JOHN';\n",
    "\n",
    "SELECT * FROM HC.PATIENTS WHERE NAME = 'Doug'"
   ]
  },
  {
   "cell_type": "markdown",
   "metadata": {},
   "source": [
    "## Selecting Rows from a Table\n",
    "\n",
    "The rule with Row and Column access control is that if you can read (select) the data then you can potentially update it. Here is a select statement issued by Dr. Lee and you can see that only patients assigned to him are displayed."
   ]
  },
  {
   "cell_type": "code",
   "execution_count": null,
   "metadata": {},
   "outputs": [],
   "source": [
    "%%sql\n",
    "SET HC.SESSION_USER = 'LEE';\n",
    "\n",
    "SELECT * FROM HC.PATIENTS;"
   ]
  },
  {
   "cell_type": "markdown",
   "metadata": {},
   "source": [
    "Changing the current user to Dr. James will change the results that are displayed."
   ]
  },
  {
   "cell_type": "code",
   "execution_count": null,
   "metadata": {},
   "outputs": [],
   "source": [
    "%%sql\n",
    "SET HC.SESSION_USER = 'JAMES';\n",
    "\n",
    "SELECT * FROM HC.PATIENTS;"
   ]
  },
  {
   "cell_type": "markdown",
   "metadata": {},
   "source": [
    "Changing the current user to one of the accounting, research, or fund raising users will result in all records being displayed."
   ]
  },
  {
   "cell_type": "code",
   "execution_count": null,
   "metadata": {},
   "outputs": [],
   "source": [
    "%%sql\n",
    "SET HC.SESSION_USER = 'JOHN';\n",
    "\n",
    "SELECT * FROM HC.PATIENTS;"
   ]
  },
  {
   "cell_type": "markdown",
   "metadata": {},
   "source": [
    "Patients are able to see only their row."
   ]
  },
  {
   "cell_type": "code",
   "execution_count": null,
   "metadata": {},
   "outputs": [],
   "source": [
    "%%sql\n",
    "SET HC.SESSION_USER = 'BOB';\n",
    "\n",
    "SELECT * FROM HC.PATIENTS;"
   ]
  },
  {
   "cell_type": "markdown",
   "metadata": {},
   "source": [
    "A DBA (Fred) who is not part of any of these groups will not be able to see any of the records, even though they may performance maintenance on the table itself."
   ]
  },
  {
   "cell_type": "code",
   "execution_count": null,
   "metadata": {},
   "outputs": [],
   "source": [
    "%%sql\n",
    "SET HC.SESSION_USER = 'FRED';\n",
    "\n",
    "SELECT * FROM HC.PATIENTS;"
   ]
  },
  {
   "cell_type": "markdown",
   "metadata": {},
   "source": [
    "## Column Masks\n",
    "Column access control is implemented in the form of a mask, or lack thereof, on the data.\n",
    "\n",
    "Using our Health-care scenario as the base, we will implement column access control/rules in two forms:\n",
    "\n",
    "- We MASK the account balance column. Only the ACCOUNTING team can see the account balance in the table and all others see a balance of zero.\n",
    "\n",
    "- We MASK the SIN column (Social Insurance Number column). Only the PATIENT themselves can see the full Social Insurance number and all others see only the last three digits of the number.\n",
    "\n",
    "This first MASK is on account balance and sets it to zero for everyone except for those people in accounting."
   ]
  },
  {
   "cell_type": "code",
   "execution_count": null,
   "metadata": {},
   "outputs": [],
   "source": [
    "%%sql\n",
    "CREATE OR REPLACE MASK HC.ACCT_BALANCE_MASK ON HC.PATIENTS FOR\n",
    "  COLUMN ACCT_BALANCE RETURN\n",
    "     CASE\n",
    "        WHEN HC.VERIFY_ROLE_FOR_USER(HC.SESSION_USER,'ACCOUNTING') = 1\n",
    "           THEN ACCT_BALANCE\n",
    "        ELSE 0.00\n",
    "     END\n",
    "  ENABLE;"
   ]
  },
  {
   "cell_type": "markdown",
   "metadata": {},
   "source": [
    "The second mask will return the entire SIN number for the PATIENT, but only the last three digits of the SIN for all others."
   ]
  },
  {
   "cell_type": "code",
   "execution_count": null,
   "metadata": {},
   "outputs": [],
   "source": [
    "%%sql\n",
    "CREATE OR REPLACE MASK HC.SIN_MASK ON HC.PATIENTS FOR\n",
    "  COLUMN SIN RETURN\n",
    "     CASE\n",
    "        WHEN HC.VERIFY_ROLE_FOR_USER(HC.SESSION_USER,'PATIENT') = 1\n",
    "          THEN SIN\n",
    "        ELSE\n",
    "         'XXX XXX ' || SUBSTR(SIN,9,3)\n",
    "     END\n",
    "  ENABLE;"
   ]
  },
  {
   "cell_type": "markdown",
   "metadata": {},
   "source": [
    "In order for the MASKS to be effective, they need to be enabled for the table."
   ]
  },
  {
   "cell_type": "code",
   "execution_count": null,
   "metadata": {},
   "outputs": [],
   "source": [
    "%sql ALTER TABLE HC.PATIENTS ACTIVATE COLUMN ACCESS CONTROL;"
   ]
  },
  {
   "cell_type": "markdown",
   "metadata": {},
   "source": [
    "When someone from accounting now views the records, they will only see the last three digits of the SIN field but they will see all of the accounting data."
   ]
  },
  {
   "cell_type": "code",
   "execution_count": null,
   "metadata": {},
   "outputs": [],
   "source": [
    "%%sql\n",
    "SET HC.SESSION_USER = 'JOHN';\n",
    "\n",
    "SELECT * FROM HC.PATIENTS;"
   ]
  },
  {
   "cell_type": "markdown",
   "metadata": {},
   "source": [
    "When a researcher looks at the data, they will also only see the last three digits of the SIN field, but they will get a zero balance in the accounting field."
   ]
  },
  {
   "cell_type": "code",
   "execution_count": null,
   "metadata": {},
   "outputs": [],
   "source": [
    "%%sql\n",
    "SET HC.SESSION_USER = 'JANE';\n",
    "\n",
    "SELECT * FROM HC.PATIENTS;"
   ]
  },
  {
   "cell_type": "markdown",
   "metadata": {},
   "source": [
    "Dr. Lee will only see his patients (ROW CONTROL) and will see the last three digits of the SIN field and zero for the account balance (COLUMN MASK)."
   ]
  },
  {
   "cell_type": "code",
   "execution_count": null,
   "metadata": {},
   "outputs": [],
   "source": [
    "%%sql\n",
    "SET HC.SESSION_USER = 'LEE';\n",
    "\n",
    "SELECT * FROM HC.PATIENTS;"
   ]
  },
  {
   "cell_type": "markdown",
   "metadata": {},
   "source": [
    "Finally, the patients will be able to see their own SIN field, but the account balance will show as zero (presumably so they don't get sick over the amount!)."
   ]
  },
  {
   "cell_type": "code",
   "execution_count": null,
   "metadata": {},
   "outputs": [],
   "source": [
    "%%sql\n",
    "SET HC.SESSION_USER = 'BOB';\n",
    "\n",
    "SELECT * FROM HC.PATIENTS;"
   ]
  },
  {
   "cell_type": "markdown",
   "metadata": {},
   "source": [
    "## Catalog Views\n",
    "The information about the ROW and COLUMN permissions can be found in the `SYSCAT.CONTROLS` table. One line is found in this table for each column permission and one for the row permission on a table."
   ]
  },
  {
   "cell_type": "code",
   "execution_count": null,
   "metadata": {},
   "outputs": [],
   "source": [
    "%sql -a SELECT * FROM SYSCAT.CONTROLS;"
   ]
  },
  {
   "cell_type": "markdown",
   "metadata": {
    "collapsed": true
   },
   "source": [
    "#### Credits: IBM 2019, George Baklarz [baklarz@ca.ibm.com]"
   ]
  }
 ],
 "metadata": {
  "hide_code_all_hidden": false,
  "kernelspec": {
   "display_name": "Python 3",
   "language": "python",
   "name": "python3"
  },
  "language_info": {
   "codemirror_mode": {
    "name": "ipython",
    "version": 3
   },
   "file_extension": ".py",
   "mimetype": "text/x-python",
   "name": "python",
   "nbconvert_exporter": "python",
   "pygments_lexer": "ipython3",
   "version": "3.7.3"
  }
 },
 "nbformat": 4,
 "nbformat_minor": 2
}
