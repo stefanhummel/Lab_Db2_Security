{
 "cells": [
  {
   "cell_type": "markdown",
   "metadata": {
    "hideCode": false,
    "hidePrompt": false
   },
   "source": [
    "# Db2 Row and Column Access Control"
   ]
  },
  {
   "cell_type": "raw",
   "metadata": {
    "hideCode": false,
    "hidePrompt": false
   },
   "source": [
    "Row permissions and column masks are two new database concepts introduced in DB2 10 that address the shortcomings of traditional security methods. These new features act as a second layer of security that complements the table privileges security model available in prior releases of DB2.\n",
    "\n",
    "One advantage of row permissions and column masks is that no database user is automatically exempted from them — not even users with the DATAACCESS authority. The ability to manage row permissions and column masks within a database is vested solely in a user with SECADM, thereby ensuring that users with DATAACCESS authority can no longer freely access all data in the database.\n",
    "   \n",
    "Another key advantage is that row permissions and column masks ensure that table data is protected regardless of how the SQL accesses the table, be it through an application, through ad hoc query tools, or through report generation tools.\n",
    "   \n",
    "Finally, and perhaps most significantly, row permissions and column masks require no application changes; RCAC is transparent to existing applications."
   ]
  },
  {
   "cell_type": "code",
   "execution_count": 1,
   "metadata": {
    "hideCode": false,
    "hideOutput": false,
    "hidePrompt": false
   },
   "outputs": [
    {
     "name": "stdout",
     "output_type": "stream",
     "text": [
      "DB2 Extensions Loaded.\n"
     ]
    },
    {
     "data": {
      "text/html": [
       "<style>\n",
       "  table {margin-left: 0 !important; text-align: left;}\n",
       "</style>\n"
      ],
      "text/plain": [
       "<IPython.core.display.HTML object>"
      ]
     },
     "metadata": {},
     "output_type": "display_data"
    }
   ],
   "source": [
    "%run db2.ipynb"
   ]
  },
  {
   "cell_type": "markdown",
   "metadata": {},
   "source": [
    "### Connect to the SAMPLE database"
   ]
  },
  {
   "cell_type": "code",
   "execution_count": 2,
   "metadata": {},
   "outputs": [
    {
     "name": "stdout",
     "output_type": "stream",
     "text": [
      "Connection successful.\n"
     ]
    }
   ],
   "source": [
    "%sql CONNECT TO SAMPLE"
   ]
  },
  {
   "cell_type": "markdown",
   "metadata": {},
   "source": [
    "We populate the database with the EMPLOYEE and DEPARTMENT tables so that we can run the various examples."
   ]
  },
  {
   "cell_type": "code",
   "execution_count": 3,
   "metadata": {},
   "outputs": [
    {
     "name": "stdout",
     "output_type": "stream",
     "text": [
      "Sample tables [EMPLOYEE, DEPARTMENT] created.\n"
     ]
    }
   ],
   "source": [
    "%sql -sampledata"
   ]
  },
  {
   "cell_type": "markdown",
   "metadata": {
    "hideCode": false,
    "hidePrompt": false
   },
   "source": [
    "## Health Care Scenario\n",
    "\n",
    "We will use a sample scenario based on the Health-care industry.\n",
    " \n",
    "Data in a hospital needs to be provided to a number of individuals,including other organizations like insurance companies, clearing house etc. Each of these companies have their own employees, and there are government regulations in place dictating who can see what data or parts of patient data.\n",
    "\n",
    "As a result security policies must be in place to ensure the rules are being met.\n",
    "\n",
    "Across the scenario there will be different groups of individuals that access the database and there must be security in place to ensure each group or individual only sees the data they are allowed to see.\n",
    "\n",
    "This SQL will create the base PATIENT table and populate it with information."
   ]
  },
  {
   "cell_type": "code",
   "execution_count": 4,
   "metadata": {
    "hideCode": false,
    "hidePrompt": false
   },
   "outputs": [
    {
     "data": {
      "text/html": [
       "<div>\n",
       "<style scoped>\n",
       "    .dataframe tbody tr th:only-of-type {\n",
       "        vertical-align: middle;\n",
       "    }\n",
       "\n",
       "    .dataframe tbody tr th {\n",
       "        vertical-align: top;\n",
       "    }\n",
       "\n",
       "    .dataframe thead th {\n",
       "        text-align: right;\n",
       "    }\n",
       "</style>\n",
       "<table border=\"1\" class=\"dataframe\">\n",
       "  <thead>\n",
       "    <tr style=\"text-align: right;\">\n",
       "      <th></th>\n",
       "      <th>SIN</th>\n",
       "      <th>USERID</th>\n",
       "      <th>NAME</th>\n",
       "      <th>ADDRESS</th>\n",
       "      <th>PHARMACY</th>\n",
       "      <th>ACCT_BALANCE</th>\n",
       "      <th>PCP_ID</th>\n",
       "    </tr>\n",
       "  </thead>\n",
       "  <tbody>\n",
       "    <tr>\n",
       "      <th>0</th>\n",
       "      <td>123 551 234</td>\n",
       "      <td>MAX</td>\n",
       "      <td>Max</td>\n",
       "      <td>First St.</td>\n",
       "      <td>hypertension</td>\n",
       "      <td>89.70</td>\n",
       "      <td>LEE</td>\n",
       "    </tr>\n",
       "    <tr>\n",
       "      <th>1</th>\n",
       "      <td>123 589 812</td>\n",
       "      <td>MIKE</td>\n",
       "      <td>Mike</td>\n",
       "      <td>Long St.</td>\n",
       "      <td>diabetics</td>\n",
       "      <td>8.30</td>\n",
       "      <td>JAMES</td>\n",
       "    </tr>\n",
       "    <tr>\n",
       "      <th>2</th>\n",
       "      <td>123 119 856</td>\n",
       "      <td>SAM</td>\n",
       "      <td>Sam</td>\n",
       "      <td>Big St.</td>\n",
       "      <td>aspirin</td>\n",
       "      <td>12.50</td>\n",
       "      <td>LEE</td>\n",
       "    </tr>\n",
       "    <tr>\n",
       "      <th>3</th>\n",
       "      <td>123 191 454</td>\n",
       "      <td>DOUG</td>\n",
       "      <td>Doug</td>\n",
       "      <td>Good St.</td>\n",
       "      <td>influenza</td>\n",
       "      <td>7.68</td>\n",
       "      <td>JAMES</td>\n",
       "    </tr>\n",
       "    <tr>\n",
       "      <th>4</th>\n",
       "      <td>123 456 789</td>\n",
       "      <td>BOB</td>\n",
       "      <td>Bob</td>\n",
       "      <td>123 Some St.</td>\n",
       "      <td>hypertension</td>\n",
       "      <td>9.00</td>\n",
       "      <td>LEE</td>\n",
       "    </tr>\n",
       "  </tbody>\n",
       "</table>\n",
       "</div>"
      ],
      "text/plain": [
       "           SIN USERID  NAME       ADDRESS      PHARMACY  ACCT_BALANCE PCP_ID\n",
       "0  123 551 234    MAX   Max     First St.  hypertension         89.70    LEE\n",
       "1  123 589 812   MIKE  Mike      Long St.     diabetics          8.30  JAMES\n",
       "2  123 119 856    SAM   Sam       Big St.       aspirin         12.50    LEE\n",
       "3  123 191 454   DOUG  Doug      Good St.     influenza          7.68  JAMES\n",
       "4  123 456 789    BOB   Bob  123 Some St.  hypertension          9.00    LEE"
      ]
     },
     "execution_count": 4,
     "metadata": {},
     "output_type": "execute_result"
    }
   ],
   "source": [
    "%%sql -q\n",
    "DROP TABLE HC.PATIENTS;\n",
    "\n",
    "CREATE TABLE HC.PATIENTS\n",
    "  (\n",
    "  SIN      VARCHAR(11),\n",
    "  USERID   VARCHAR(8),\n",
    "  NAME     VARCHAR(8),\n",
    "  ADDRESS  VARCHAR(12),\n",
    "  PHARMACY VARCHAR(12),\n",
    "  ACCT_BALANCE DEC(9,2),\n",
    "  PCP_ID   VARCHAR(8)\n",
    "  );\n",
    "\n",
    "INSERT INTO HC.PATIENTS VALUES\n",
    "  ('123 551 234','MAX','Max','First St.','hypertension',89.7,'LEE'),\n",
    "  ('123 589 812','MIKE','Mike','Long St.','diabetics',8.3,'JAMES'),\n",
    "  ('123 119 856','SAM','Sam','Big St.','aspirin',12.5,'LEE'),\n",
    "  ('123 191 454','DOUG','Doug','Good St.','influenza',7.68,'JAMES'),\n",
    "  ('123 456 789','BOB','Bob','123 Some St.','hypertension',9,'LEE');\n",
    "\n",
    "SELECT * FROM HC.PATIENTS;"
   ]
  },
  {
   "cell_type": "markdown",
   "metadata": {
    "hideCode": false,
    "hidePrompt": false
   },
   "source": [
    "## Setting Permissions for Access\n",
    "The following permissions need to be defined for accessing the PATIENT data:\n",
    "\n",
    "- Patients can only access their own data\n",
    "- Physicians Can only access their own patients' data\n",
    "- Membership officers, Accounting, and Drug researchers can access all data\n",
    "- All other access is denied\n",
    "\n",
    "Normally SQL similar to the following is used to define who can access the data.\n",
    "```\n",
    "verify_role_for_user(SESSION_USER,'PATIENT') = 1\n",
    "   AND patient.userid = SESSION_USER\n",
    "```\n",
    "Changing from one user to another requires a number of `SECADM` features and separate connections, so in order to simplify the demo we will use a `ROLE` table and a `UDF` to simulate this capability."
   ]
  },
  {
   "cell_type": "markdown",
   "metadata": {},
   "source": [
    "## Create ROLE table\n",
    "The ROLE table will simulate what ROLES does natively in DB2. The table contains two \n",
    "columns:\n",
    "\n",
    "- USERID - the name or ID of the user\n",
    "- ROLE   - what their ROLE is \n",
    "\n",
    "Users can have more than one ROLE in this table."
   ]
  },
  {
   "cell_type": "code",
   "execution_count": 5,
   "metadata": {},
   "outputs": [
    {
     "name": "stdout",
     "output_type": "stream",
     "text": [
      "Command completed.\n"
     ]
    }
   ],
   "source": [
    "%%sql\n",
    "DROP TABLE HC.ROLES;\n",
    "CREATE TABLE HC.ROLES\n",
    "  (\n",
    "  USERID VARCHAR(8),\n",
    "  ROLE   VARCHAR(10)\n",
    "  );"
   ]
  },
  {
   "cell_type": "markdown",
   "metadata": {},
   "source": [
    "We also need to create a `SESSION_USER` global variable that can be used to identify the \"current\" user. Normally you would just use the `SESSION_USER` variable in the rules, but since we don't want to use SECADM we need to fake the userid."
   ]
  },
  {
   "cell_type": "code",
   "execution_count": 6,
   "metadata": {},
   "outputs": [
    {
     "name": "stdout",
     "output_type": "stream",
     "text": [
      "Command completed.\n"
     ]
    }
   ],
   "source": [
    "%sql CREATE OR REPLACE VARIABLE HC.SESSION_USER VARCHAR(8);"
   ]
  },
  {
   "cell_type": "markdown",
   "metadata": {},
   "source": [
    "The `HC.VERIFY_ROLE_FOR_USER` function will mimic what the `VERIFY_ROLE_FOR_USER`\n",
    "function does by returning a value of 1 if the user has that particular ROLE."
   ]
  },
  {
   "cell_type": "code",
   "execution_count": 7,
   "metadata": {},
   "outputs": [
    {
     "name": "stdout",
     "output_type": "stream",
     "text": [
      "Command completed.\n"
     ]
    }
   ],
   "source": [
    "%%sql -d\n",
    "CREATE OR REPLACE FUNCTION \n",
    "  HC.VERIFY_ROLE_FOR_USER(UID VARCHAR(8), IN_ROLE VARCHAR(10))\n",
    "    SECURED NO EXTERNAL ACTION DETERMINISTIC\n",
    "    RETURNS INT\n",
    "    BEGIN ATOMIC\n",
    "      RETURN\n",
    "       SELECT COUNT(*) FROM HC.ROLES H\n",
    "         WHERE H.USERID = UID AND H.ROLE = IN_ROLE;\n",
    "    END@"
   ]
  },
  {
   "cell_type": "markdown",
   "metadata": {},
   "source": [
    "Create some ROLES for people in the Healthcare scenario."
   ]
  },
  {
   "cell_type": "code",
   "execution_count": 8,
   "metadata": {},
   "outputs": [
    {
     "name": "stdout",
     "output_type": "stream",
     "text": [
      "Command completed.\n"
     ]
    }
   ],
   "source": [
    "%%sql\n",
    "INSERT INTO HC.ROLES\n",
    "  VALUES\n",
    "    ('LEE','PCP'),('JAMES','PCP'),\n",
    "    ('MAX','PATIENT'),('MIKE','PATIENT'),('SAM','PATIENT'),\n",
    "    ('DOUG','PATIENT'),('BOB','PATIENT'),\n",
    "    ('JOHN','ACCOUNTING'),\n",
    "    ('TOM','MEMBERSHIP'),\n",
    "    ('JANE','RESEARCH'),\n",
    "    ('FRED','DBA');"
   ]
  },
  {
   "cell_type": "markdown",
   "metadata": {},
   "source": [
    "Now we can test to see if a user has a particular role. This first test checks to see the Dr. Lee is a PCP (Primary Care Provider)."
   ]
  },
  {
   "cell_type": "code",
   "execution_count": 9,
   "metadata": {},
   "outputs": [
    {
     "data": {
      "text/html": [
       "<div>\n",
       "<style scoped>\n",
       "    .dataframe tbody tr th:only-of-type {\n",
       "        vertical-align: middle;\n",
       "    }\n",
       "\n",
       "    .dataframe tbody tr th {\n",
       "        vertical-align: top;\n",
       "    }\n",
       "\n",
       "    .dataframe thead th {\n",
       "        text-align: right;\n",
       "    }\n",
       "</style>\n",
       "<table border=\"1\" class=\"dataframe\">\n",
       "  <thead>\n",
       "    <tr style=\"text-align: right;\">\n",
       "      <th></th>\n",
       "      <th>1</th>\n",
       "    </tr>\n",
       "  </thead>\n",
       "  <tbody>\n",
       "    <tr>\n",
       "      <th>0</th>\n",
       "      <td>1</td>\n",
       "    </tr>\n",
       "  </tbody>\n",
       "</table>\n",
       "</div>"
      ],
      "text/plain": [
       "   1\n",
       "0  1"
      ]
     },
     "execution_count": 9,
     "metadata": {},
     "output_type": "execute_result"
    }
   ],
   "source": [
    "%%sql\n",
    "SET HC.SESSION_USER = 'LEE';\n",
    "\n",
    "VALUES\n",
    "   HC.VERIFY_ROLE_FOR_USER(HC.SESSION_USER,'PCP');"
   ]
  },
  {
   "cell_type": "markdown",
   "metadata": {},
   "source": [
    "At this point in time we can set up some rules on what the various groups can see."
   ]
  },
  {
   "cell_type": "code",
   "execution_count": 10,
   "metadata": {},
   "outputs": [
    {
     "name": "stdout",
     "output_type": "stream",
     "text": [
      "Command completed.\n"
     ]
    }
   ],
   "source": [
    "%%sql\n",
    "CREATE OR REPLACE PERMISSION HC.ROW_ACCESS ON HC.PATIENTS\n",
    "  FOR ROWS WHERE\n",
    "  (\n",
    "     HC.VERIFY_ROLE_FOR_USER(HC.SESSION_USER,'PATIENT') = 1 AND\n",
    "     HC.SESSION_USER = USERID\n",
    "  )\n",
    "  OR\n",
    "  (   \n",
    "     HC.VERIFY_ROLE_FOR_USER(HC.SESSION_USER,'PCP') = 1 AND\n",
    "     HC.SESSION_USER = PCP_ID\n",
    "  )\n",
    "  OR\n",
    "  (\n",
    "     HC.VERIFY_ROLE_FOR_USER(HC.SESSION_USER,'MEMBERSHIP') = 1 OR\n",
    "     HC.VERIFY_ROLE_FOR_USER(HC.SESSION_USER,'ACCOUNTING') = 1 OR\n",
    "     HC.VERIFY_ROLE_FOR_USER(HC.SESSION_USER,'RESEARCH') = 1\n",
    "  )\n",
    "  ENFORCED FOR ALL ACCESS\n",
    "  ENABLE;"
   ]
  },
  {
   "cell_type": "markdown",
   "metadata": {},
   "source": [
    "The rules now need to be activated in order for them to be enforced."
   ]
  },
  {
   "cell_type": "code",
   "execution_count": 11,
   "metadata": {},
   "outputs": [
    {
     "name": "stdout",
     "output_type": "stream",
     "text": [
      "Command completed.\n"
     ]
    }
   ],
   "source": [
    "%sql ALTER TABLE HC.PATIENTS ACTIVATE ROW ACCESS CONTROL;"
   ]
  },
  {
   "cell_type": "markdown",
   "metadata": {},
   "source": [
    "## Updating a Patient Record\n",
    "Dr. Lee needs to update the medication that his patient Sam is taking.\n",
    "\n",
    "First we examine the original record in the table."
   ]
  },
  {
   "cell_type": "code",
   "execution_count": 12,
   "metadata": {},
   "outputs": [
    {
     "data": {
      "text/html": [
       "<div>\n",
       "<style scoped>\n",
       "    .dataframe tbody tr th:only-of-type {\n",
       "        vertical-align: middle;\n",
       "    }\n",
       "\n",
       "    .dataframe tbody tr th {\n",
       "        vertical-align: top;\n",
       "    }\n",
       "\n",
       "    .dataframe thead th {\n",
       "        text-align: right;\n",
       "    }\n",
       "</style>\n",
       "<table border=\"1\" class=\"dataframe\">\n",
       "  <thead>\n",
       "    <tr style=\"text-align: right;\">\n",
       "      <th></th>\n",
       "      <th>SIN</th>\n",
       "      <th>USERID</th>\n",
       "      <th>NAME</th>\n",
       "      <th>ADDRESS</th>\n",
       "      <th>PHARMACY</th>\n",
       "      <th>ACCT_BALANCE</th>\n",
       "      <th>PCP_ID</th>\n",
       "    </tr>\n",
       "  </thead>\n",
       "  <tbody>\n",
       "    <tr>\n",
       "      <th>0</th>\n",
       "      <td>123 119 856</td>\n",
       "      <td>SAM</td>\n",
       "      <td>Sam</td>\n",
       "      <td>Big St.</td>\n",
       "      <td>aspirin</td>\n",
       "      <td>12.5</td>\n",
       "      <td>LEE</td>\n",
       "    </tr>\n",
       "  </tbody>\n",
       "</table>\n",
       "</div>"
      ],
      "text/plain": [
       "           SIN USERID NAME  ADDRESS PHARMACY  ACCT_BALANCE PCP_ID\n",
       "0  123 119 856    SAM  Sam  Big St.  aspirin          12.5    LEE"
      ]
     },
     "execution_count": 12,
     "metadata": {},
     "output_type": "execute_result"
    }
   ],
   "source": [
    "%%sql \n",
    "SET HC.SESSION_USER = 'LEE';\n",
    "\n",
    "SELECT * FROM HC.PATIENTS WHERE NAME = 'Sam';"
   ]
  },
  {
   "cell_type": "markdown",
   "metadata": {},
   "source": [
    "Dr. Lee decides to give Sam some codeine for his pain. The update is successful and we can see the results."
   ]
  },
  {
   "cell_type": "code",
   "execution_count": 13,
   "metadata": {},
   "outputs": [
    {
     "data": {
      "text/html": [
       "<div>\n",
       "<style scoped>\n",
       "    .dataframe tbody tr th:only-of-type {\n",
       "        vertical-align: middle;\n",
       "    }\n",
       "\n",
       "    .dataframe tbody tr th {\n",
       "        vertical-align: top;\n",
       "    }\n",
       "\n",
       "    .dataframe thead th {\n",
       "        text-align: right;\n",
       "    }\n",
       "</style>\n",
       "<table border=\"1\" class=\"dataframe\">\n",
       "  <thead>\n",
       "    <tr style=\"text-align: right;\">\n",
       "      <th></th>\n",
       "      <th>SIN</th>\n",
       "      <th>USERID</th>\n",
       "      <th>NAME</th>\n",
       "      <th>ADDRESS</th>\n",
       "      <th>PHARMACY</th>\n",
       "      <th>ACCT_BALANCE</th>\n",
       "      <th>PCP_ID</th>\n",
       "    </tr>\n",
       "  </thead>\n",
       "  <tbody>\n",
       "    <tr>\n",
       "      <th>0</th>\n",
       "      <td>123 119 856</td>\n",
       "      <td>SAM</td>\n",
       "      <td>Sam</td>\n",
       "      <td>Big St.</td>\n",
       "      <td>Codeine</td>\n",
       "      <td>12.5</td>\n",
       "      <td>LEE</td>\n",
       "    </tr>\n",
       "  </tbody>\n",
       "</table>\n",
       "</div>"
      ],
      "text/plain": [
       "           SIN USERID NAME  ADDRESS PHARMACY  ACCT_BALANCE PCP_ID\n",
       "0  123 119 856    SAM  Sam  Big St.  Codeine          12.5    LEE"
      ]
     },
     "execution_count": 13,
     "metadata": {},
     "output_type": "execute_result"
    }
   ],
   "source": [
    "%%sql\n",
    "UPDATE HC.PATIENTS SET PHARMACY = 'Codeine' WHERE NAME = 'Sam';\n",
    "\n",
    "SELECT * FROM HC.PATIENTS WHERE NAME = 'Sam'"
   ]
  },
  {
   "cell_type": "markdown",
   "metadata": {},
   "source": [
    "## Update Failure\n",
    "\n",
    "If a doctor is not assigned to a patient, they will not be able to update their\n",
    "record. The rule is that if you can't read (select) the record then you can't\n",
    "update it.\n"
   ]
  },
  {
   "cell_type": "code",
   "execution_count": 14,
   "metadata": {},
   "outputs": [
    {
     "data": {
      "text/html": [
       "<p><p style=\"border:2px; border-style:solid; border-color:#FF0000; background-color:#ffe6e6; padding: 1em;\">No rows found.</p>"
      ],
      "text/plain": [
       "<IPython.core.display.HTML object>"
      ]
     },
     "metadata": {},
     "output_type": "display_data"
    },
    {
     "name": "stdout",
     "output_type": "stream",
     "text": [
      "Command completed.\n"
     ]
    }
   ],
   "source": [
    "%%sql\n",
    "SET HC.SESSION_USER = 'LEE';\n",
    "\n",
    "UPDATE HC.PATIENTS SET PHARMACY = 'Codeine' WHERE NAME = 'Doug';"
   ]
  },
  {
   "cell_type": "markdown",
   "metadata": {},
   "source": [
    "The UPDATE completes, but no records are modified. To see all of the records, we need to change our userid to someone who can see all records (John in accounting). Note there is no way around this restriction - you must have the proper clearance to see the records."
   ]
  },
  {
   "cell_type": "code",
   "execution_count": 15,
   "metadata": {},
   "outputs": [
    {
     "data": {
      "text/html": [
       "<div>\n",
       "<style scoped>\n",
       "    .dataframe tbody tr th:only-of-type {\n",
       "        vertical-align: middle;\n",
       "    }\n",
       "\n",
       "    .dataframe tbody tr th {\n",
       "        vertical-align: top;\n",
       "    }\n",
       "\n",
       "    .dataframe thead th {\n",
       "        text-align: right;\n",
       "    }\n",
       "</style>\n",
       "<table border=\"1\" class=\"dataframe\">\n",
       "  <thead>\n",
       "    <tr style=\"text-align: right;\">\n",
       "      <th></th>\n",
       "      <th>SIN</th>\n",
       "      <th>USERID</th>\n",
       "      <th>NAME</th>\n",
       "      <th>ADDRESS</th>\n",
       "      <th>PHARMACY</th>\n",
       "      <th>ACCT_BALANCE</th>\n",
       "      <th>PCP_ID</th>\n",
       "    </tr>\n",
       "  </thead>\n",
       "  <tbody>\n",
       "    <tr>\n",
       "      <th>0</th>\n",
       "      <td>123 191 454</td>\n",
       "      <td>DOUG</td>\n",
       "      <td>Doug</td>\n",
       "      <td>Good St.</td>\n",
       "      <td>influenza</td>\n",
       "      <td>7.68</td>\n",
       "      <td>JAMES</td>\n",
       "    </tr>\n",
       "  </tbody>\n",
       "</table>\n",
       "</div>"
      ],
      "text/plain": [
       "           SIN USERID  NAME   ADDRESS   PHARMACY  ACCT_BALANCE PCP_ID\n",
       "0  123 191 454   DOUG  Doug  Good St.  influenza          7.68  JAMES"
      ]
     },
     "execution_count": 15,
     "metadata": {},
     "output_type": "execute_result"
    }
   ],
   "source": [
    "%%sql\n",
    "SET HC.SESSION_USER = 'JOHN';\n",
    "\n",
    "SELECT * FROM HC.PATIENTS WHERE NAME = 'Doug'"
   ]
  },
  {
   "cell_type": "markdown",
   "metadata": {},
   "source": [
    "## Selecting Rows from a Table\n",
    "\n",
    "The rule with Row and Column access control is that if you can read (select) the data then you can potentially update it. Here is a select statement issued by Dr. Lee and you can see that only patients assigned to him are displayed."
   ]
  },
  {
   "cell_type": "code",
   "execution_count": 16,
   "metadata": {},
   "outputs": [
    {
     "data": {
      "text/html": [
       "<div>\n",
       "<style scoped>\n",
       "    .dataframe tbody tr th:only-of-type {\n",
       "        vertical-align: middle;\n",
       "    }\n",
       "\n",
       "    .dataframe tbody tr th {\n",
       "        vertical-align: top;\n",
       "    }\n",
       "\n",
       "    .dataframe thead th {\n",
       "        text-align: right;\n",
       "    }\n",
       "</style>\n",
       "<table border=\"1\" class=\"dataframe\">\n",
       "  <thead>\n",
       "    <tr style=\"text-align: right;\">\n",
       "      <th></th>\n",
       "      <th>SIN</th>\n",
       "      <th>USERID</th>\n",
       "      <th>NAME</th>\n",
       "      <th>ADDRESS</th>\n",
       "      <th>PHARMACY</th>\n",
       "      <th>ACCT_BALANCE</th>\n",
       "      <th>PCP_ID</th>\n",
       "    </tr>\n",
       "  </thead>\n",
       "  <tbody>\n",
       "    <tr>\n",
       "      <th>0</th>\n",
       "      <td>123 551 234</td>\n",
       "      <td>MAX</td>\n",
       "      <td>Max</td>\n",
       "      <td>First St.</td>\n",
       "      <td>hypertension</td>\n",
       "      <td>89.7</td>\n",
       "      <td>LEE</td>\n",
       "    </tr>\n",
       "    <tr>\n",
       "      <th>1</th>\n",
       "      <td>123 119 856</td>\n",
       "      <td>SAM</td>\n",
       "      <td>Sam</td>\n",
       "      <td>Big St.</td>\n",
       "      <td>Codeine</td>\n",
       "      <td>12.5</td>\n",
       "      <td>LEE</td>\n",
       "    </tr>\n",
       "    <tr>\n",
       "      <th>2</th>\n",
       "      <td>123 456 789</td>\n",
       "      <td>BOB</td>\n",
       "      <td>Bob</td>\n",
       "      <td>123 Some St.</td>\n",
       "      <td>hypertension</td>\n",
       "      <td>9.0</td>\n",
       "      <td>LEE</td>\n",
       "    </tr>\n",
       "  </tbody>\n",
       "</table>\n",
       "</div>"
      ],
      "text/plain": [
       "           SIN USERID NAME       ADDRESS      PHARMACY  ACCT_BALANCE PCP_ID\n",
       "0  123 551 234    MAX  Max     First St.  hypertension          89.7    LEE\n",
       "1  123 119 856    SAM  Sam       Big St.       Codeine          12.5    LEE\n",
       "2  123 456 789    BOB  Bob  123 Some St.  hypertension           9.0    LEE"
      ]
     },
     "execution_count": 16,
     "metadata": {},
     "output_type": "execute_result"
    }
   ],
   "source": [
    "%%sql\n",
    "SET HC.SESSION_USER = 'LEE';\n",
    "\n",
    "SELECT * FROM HC.PATIENTS;"
   ]
  },
  {
   "cell_type": "markdown",
   "metadata": {},
   "source": [
    "Changing the current user to Dr. James will change the results that are displayed."
   ]
  },
  {
   "cell_type": "code",
   "execution_count": 17,
   "metadata": {},
   "outputs": [
    {
     "data": {
      "text/html": [
       "<div>\n",
       "<style scoped>\n",
       "    .dataframe tbody tr th:only-of-type {\n",
       "        vertical-align: middle;\n",
       "    }\n",
       "\n",
       "    .dataframe tbody tr th {\n",
       "        vertical-align: top;\n",
       "    }\n",
       "\n",
       "    .dataframe thead th {\n",
       "        text-align: right;\n",
       "    }\n",
       "</style>\n",
       "<table border=\"1\" class=\"dataframe\">\n",
       "  <thead>\n",
       "    <tr style=\"text-align: right;\">\n",
       "      <th></th>\n",
       "      <th>SIN</th>\n",
       "      <th>USERID</th>\n",
       "      <th>NAME</th>\n",
       "      <th>ADDRESS</th>\n",
       "      <th>PHARMACY</th>\n",
       "      <th>ACCT_BALANCE</th>\n",
       "      <th>PCP_ID</th>\n",
       "    </tr>\n",
       "  </thead>\n",
       "  <tbody>\n",
       "    <tr>\n",
       "      <th>0</th>\n",
       "      <td>123 589 812</td>\n",
       "      <td>MIKE</td>\n",
       "      <td>Mike</td>\n",
       "      <td>Long St.</td>\n",
       "      <td>diabetics</td>\n",
       "      <td>8.30</td>\n",
       "      <td>JAMES</td>\n",
       "    </tr>\n",
       "    <tr>\n",
       "      <th>1</th>\n",
       "      <td>123 191 454</td>\n",
       "      <td>DOUG</td>\n",
       "      <td>Doug</td>\n",
       "      <td>Good St.</td>\n",
       "      <td>influenza</td>\n",
       "      <td>7.68</td>\n",
       "      <td>JAMES</td>\n",
       "    </tr>\n",
       "  </tbody>\n",
       "</table>\n",
       "</div>"
      ],
      "text/plain": [
       "           SIN USERID  NAME   ADDRESS   PHARMACY  ACCT_BALANCE PCP_ID\n",
       "0  123 589 812   MIKE  Mike  Long St.  diabetics          8.30  JAMES\n",
       "1  123 191 454   DOUG  Doug  Good St.  influenza          7.68  JAMES"
      ]
     },
     "execution_count": 17,
     "metadata": {},
     "output_type": "execute_result"
    }
   ],
   "source": [
    "%%sql\n",
    "SET HC.SESSION_USER = 'JAMES';\n",
    "\n",
    "SELECT * FROM HC.PATIENTS;"
   ]
  },
  {
   "cell_type": "markdown",
   "metadata": {},
   "source": [
    "Changing the current user to one of the accounting, research, or fund raising users will result in all records being displayed."
   ]
  },
  {
   "cell_type": "code",
   "execution_count": 18,
   "metadata": {},
   "outputs": [
    {
     "data": {
      "text/html": [
       "<div>\n",
       "<style scoped>\n",
       "    .dataframe tbody tr th:only-of-type {\n",
       "        vertical-align: middle;\n",
       "    }\n",
       "\n",
       "    .dataframe tbody tr th {\n",
       "        vertical-align: top;\n",
       "    }\n",
       "\n",
       "    .dataframe thead th {\n",
       "        text-align: right;\n",
       "    }\n",
       "</style>\n",
       "<table border=\"1\" class=\"dataframe\">\n",
       "  <thead>\n",
       "    <tr style=\"text-align: right;\">\n",
       "      <th></th>\n",
       "      <th>SIN</th>\n",
       "      <th>USERID</th>\n",
       "      <th>NAME</th>\n",
       "      <th>ADDRESS</th>\n",
       "      <th>PHARMACY</th>\n",
       "      <th>ACCT_BALANCE</th>\n",
       "      <th>PCP_ID</th>\n",
       "    </tr>\n",
       "  </thead>\n",
       "  <tbody>\n",
       "    <tr>\n",
       "      <th>0</th>\n",
       "      <td>123 551 234</td>\n",
       "      <td>MAX</td>\n",
       "      <td>Max</td>\n",
       "      <td>First St.</td>\n",
       "      <td>hypertension</td>\n",
       "      <td>89.70</td>\n",
       "      <td>LEE</td>\n",
       "    </tr>\n",
       "    <tr>\n",
       "      <th>1</th>\n",
       "      <td>123 589 812</td>\n",
       "      <td>MIKE</td>\n",
       "      <td>Mike</td>\n",
       "      <td>Long St.</td>\n",
       "      <td>diabetics</td>\n",
       "      <td>8.30</td>\n",
       "      <td>JAMES</td>\n",
       "    </tr>\n",
       "    <tr>\n",
       "      <th>2</th>\n",
       "      <td>123 119 856</td>\n",
       "      <td>SAM</td>\n",
       "      <td>Sam</td>\n",
       "      <td>Big St.</td>\n",
       "      <td>Codeine</td>\n",
       "      <td>12.50</td>\n",
       "      <td>LEE</td>\n",
       "    </tr>\n",
       "    <tr>\n",
       "      <th>3</th>\n",
       "      <td>123 191 454</td>\n",
       "      <td>DOUG</td>\n",
       "      <td>Doug</td>\n",
       "      <td>Good St.</td>\n",
       "      <td>influenza</td>\n",
       "      <td>7.68</td>\n",
       "      <td>JAMES</td>\n",
       "    </tr>\n",
       "    <tr>\n",
       "      <th>4</th>\n",
       "      <td>123 456 789</td>\n",
       "      <td>BOB</td>\n",
       "      <td>Bob</td>\n",
       "      <td>123 Some St.</td>\n",
       "      <td>hypertension</td>\n",
       "      <td>9.00</td>\n",
       "      <td>LEE</td>\n",
       "    </tr>\n",
       "  </tbody>\n",
       "</table>\n",
       "</div>"
      ],
      "text/plain": [
       "           SIN USERID  NAME       ADDRESS      PHARMACY  ACCT_BALANCE PCP_ID\n",
       "0  123 551 234    MAX   Max     First St.  hypertension         89.70    LEE\n",
       "1  123 589 812   MIKE  Mike      Long St.     diabetics          8.30  JAMES\n",
       "2  123 119 856    SAM   Sam       Big St.       Codeine         12.50    LEE\n",
       "3  123 191 454   DOUG  Doug      Good St.     influenza          7.68  JAMES\n",
       "4  123 456 789    BOB   Bob  123 Some St.  hypertension          9.00    LEE"
      ]
     },
     "execution_count": 18,
     "metadata": {},
     "output_type": "execute_result"
    }
   ],
   "source": [
    "%%sql\n",
    "SET HC.SESSION_USER = 'JOHN';\n",
    "\n",
    "SELECT * FROM HC.PATIENTS;"
   ]
  },
  {
   "cell_type": "markdown",
   "metadata": {},
   "source": [
    "Patients are able to see only their row."
   ]
  },
  {
   "cell_type": "code",
   "execution_count": 19,
   "metadata": {},
   "outputs": [
    {
     "data": {
      "text/html": [
       "<div>\n",
       "<style scoped>\n",
       "    .dataframe tbody tr th:only-of-type {\n",
       "        vertical-align: middle;\n",
       "    }\n",
       "\n",
       "    .dataframe tbody tr th {\n",
       "        vertical-align: top;\n",
       "    }\n",
       "\n",
       "    .dataframe thead th {\n",
       "        text-align: right;\n",
       "    }\n",
       "</style>\n",
       "<table border=\"1\" class=\"dataframe\">\n",
       "  <thead>\n",
       "    <tr style=\"text-align: right;\">\n",
       "      <th></th>\n",
       "      <th>SIN</th>\n",
       "      <th>USERID</th>\n",
       "      <th>NAME</th>\n",
       "      <th>ADDRESS</th>\n",
       "      <th>PHARMACY</th>\n",
       "      <th>ACCT_BALANCE</th>\n",
       "      <th>PCP_ID</th>\n",
       "    </tr>\n",
       "  </thead>\n",
       "  <tbody>\n",
       "    <tr>\n",
       "      <th>0</th>\n",
       "      <td>123 456 789</td>\n",
       "      <td>BOB</td>\n",
       "      <td>Bob</td>\n",
       "      <td>123 Some St.</td>\n",
       "      <td>hypertension</td>\n",
       "      <td>9.0</td>\n",
       "      <td>LEE</td>\n",
       "    </tr>\n",
       "  </tbody>\n",
       "</table>\n",
       "</div>"
      ],
      "text/plain": [
       "           SIN USERID NAME       ADDRESS      PHARMACY  ACCT_BALANCE PCP_ID\n",
       "0  123 456 789    BOB  Bob  123 Some St.  hypertension           9.0    LEE"
      ]
     },
     "execution_count": 19,
     "metadata": {},
     "output_type": "execute_result"
    }
   ],
   "source": [
    "%%sql\n",
    "SET HC.SESSION_USER = 'BOB';\n",
    "\n",
    "SELECT * FROM HC.PATIENTS;"
   ]
  },
  {
   "cell_type": "markdown",
   "metadata": {},
   "source": [
    "A DBA (Fred) who is not part of any of these groups will not be able to see any of the records, even though they may performance maintenance on the table itself."
   ]
  },
  {
   "cell_type": "code",
   "execution_count": 20,
   "metadata": {},
   "outputs": [
    {
     "data": {
      "text/html": [
       "<p><p style=\"border:2px; border-style:solid; border-color:#FF0000; background-color:#ffe6e6; padding: 1em;\">No rows found</p>"
      ],
      "text/plain": [
       "<IPython.core.display.HTML object>"
      ]
     },
     "metadata": {},
     "output_type": "display_data"
    },
    {
     "name": "stdout",
     "output_type": "stream",
     "text": [
      "Command completed.\n"
     ]
    }
   ],
   "source": [
    "%%sql\n",
    "SET HC.SESSION_USER = 'FRED';\n",
    "\n",
    "SELECT * FROM HC.PATIENTS;"
   ]
  },
  {
   "cell_type": "markdown",
   "metadata": {},
   "source": [
    "## Column Masks\n",
    "Column access control is implemented in the form of a mask, or lack thereof, on the data.\n",
    "\n",
    "Using our Health-care scenario as the base, we will implement column access control/rules in two forms:\n",
    "\n",
    "- We MASK the account balance column. Only the ACCOUNTING team can see the account balance in the table and all others see a balance of zero.\n",
    "\n",
    "- We MASK the SIN column (Social Insurance Number column). Only the PATIENT themselves can see the full Social Insurance number and all others see only the last three digits of the number.\n",
    "\n",
    "This first MASK is on account balance and sets it to zero for everyone except for those people in accounting."
   ]
  },
  {
   "cell_type": "code",
   "execution_count": 21,
   "metadata": {},
   "outputs": [
    {
     "name": "stdout",
     "output_type": "stream",
     "text": [
      "Command completed.\n"
     ]
    }
   ],
   "source": [
    "%%sql\n",
    "CREATE OR REPLACE MASK HC.ACCT_BALANCE_MASK ON HC.PATIENTS FOR\n",
    "  COLUMN ACCT_BALANCE RETURN\n",
    "     CASE\n",
    "        WHEN HC.VERIFY_ROLE_FOR_USER(HC.SESSION_USER,'ACCOUNTING') = 1\n",
    "           THEN ACCT_BALANCE\n",
    "        ELSE 0.00\n",
    "     END\n",
    "  ENABLE;"
   ]
  },
  {
   "cell_type": "markdown",
   "metadata": {},
   "source": [
    "The second mask will return the entire SIN number for the PATIENT, but only the last three digits of the SIN for all others."
   ]
  },
  {
   "cell_type": "code",
   "execution_count": 22,
   "metadata": {},
   "outputs": [
    {
     "name": "stdout",
     "output_type": "stream",
     "text": [
      "Command completed.\n"
     ]
    }
   ],
   "source": [
    "%%sql\n",
    "CREATE OR REPLACE MASK HC.SIN_MASK ON HC.PATIENTS FOR\n",
    "  COLUMN SIN RETURN\n",
    "     CASE\n",
    "        WHEN HC.VERIFY_ROLE_FOR_USER(HC.SESSION_USER,'PATIENT') = 1\n",
    "          THEN SIN\n",
    "        ELSE\n",
    "         'XXX XXX ' || SUBSTR(SIN,9,3)\n",
    "     END\n",
    "  ENABLE;"
   ]
  },
  {
   "cell_type": "markdown",
   "metadata": {},
   "source": [
    "In order for the MASKS to be effective, they need to be enabled for the table."
   ]
  },
  {
   "cell_type": "code",
   "execution_count": 23,
   "metadata": {},
   "outputs": [
    {
     "name": "stdout",
     "output_type": "stream",
     "text": [
      "Command completed.\n"
     ]
    }
   ],
   "source": [
    "%sql ALTER TABLE HC.PATIENTS ACTIVATE COLUMN ACCESS CONTROL;"
   ]
  },
  {
   "cell_type": "markdown",
   "metadata": {},
   "source": [
    "When someone from accounting now views the records, they will only see the last three digits of the SIN field but they will see all of the accounting data."
   ]
  },
  {
   "cell_type": "code",
   "execution_count": 24,
   "metadata": {},
   "outputs": [
    {
     "data": {
      "text/html": [
       "<div>\n",
       "<style scoped>\n",
       "    .dataframe tbody tr th:only-of-type {\n",
       "        vertical-align: middle;\n",
       "    }\n",
       "\n",
       "    .dataframe tbody tr th {\n",
       "        vertical-align: top;\n",
       "    }\n",
       "\n",
       "    .dataframe thead th {\n",
       "        text-align: right;\n",
       "    }\n",
       "</style>\n",
       "<table border=\"1\" class=\"dataframe\">\n",
       "  <thead>\n",
       "    <tr style=\"text-align: right;\">\n",
       "      <th></th>\n",
       "      <th>SIN</th>\n",
       "      <th>USERID</th>\n",
       "      <th>NAME</th>\n",
       "      <th>ADDRESS</th>\n",
       "      <th>PHARMACY</th>\n",
       "      <th>ACCT_BALANCE</th>\n",
       "      <th>PCP_ID</th>\n",
       "    </tr>\n",
       "  </thead>\n",
       "  <tbody>\n",
       "    <tr>\n",
       "      <th>0</th>\n",
       "      <td>XXX XXX 234</td>\n",
       "      <td>MAX</td>\n",
       "      <td>Max</td>\n",
       "      <td>First St.</td>\n",
       "      <td>hypertension</td>\n",
       "      <td>89.70</td>\n",
       "      <td>LEE</td>\n",
       "    </tr>\n",
       "    <tr>\n",
       "      <th>1</th>\n",
       "      <td>XXX XXX 812</td>\n",
       "      <td>MIKE</td>\n",
       "      <td>Mike</td>\n",
       "      <td>Long St.</td>\n",
       "      <td>diabetics</td>\n",
       "      <td>8.30</td>\n",
       "      <td>JAMES</td>\n",
       "    </tr>\n",
       "    <tr>\n",
       "      <th>2</th>\n",
       "      <td>XXX XXX 856</td>\n",
       "      <td>SAM</td>\n",
       "      <td>Sam</td>\n",
       "      <td>Big St.</td>\n",
       "      <td>Codeine</td>\n",
       "      <td>12.50</td>\n",
       "      <td>LEE</td>\n",
       "    </tr>\n",
       "    <tr>\n",
       "      <th>3</th>\n",
       "      <td>XXX XXX 454</td>\n",
       "      <td>DOUG</td>\n",
       "      <td>Doug</td>\n",
       "      <td>Good St.</td>\n",
       "      <td>influenza</td>\n",
       "      <td>7.68</td>\n",
       "      <td>JAMES</td>\n",
       "    </tr>\n",
       "    <tr>\n",
       "      <th>4</th>\n",
       "      <td>XXX XXX 789</td>\n",
       "      <td>BOB</td>\n",
       "      <td>Bob</td>\n",
       "      <td>123 Some St.</td>\n",
       "      <td>hypertension</td>\n",
       "      <td>9.00</td>\n",
       "      <td>LEE</td>\n",
       "    </tr>\n",
       "  </tbody>\n",
       "</table>\n",
       "</div>"
      ],
      "text/plain": [
       "           SIN USERID  NAME       ADDRESS      PHARMACY  ACCT_BALANCE PCP_ID\n",
       "0  XXX XXX 234    MAX   Max     First St.  hypertension         89.70    LEE\n",
       "1  XXX XXX 812   MIKE  Mike      Long St.     diabetics          8.30  JAMES\n",
       "2  XXX XXX 856    SAM   Sam       Big St.       Codeine         12.50    LEE\n",
       "3  XXX XXX 454   DOUG  Doug      Good St.     influenza          7.68  JAMES\n",
       "4  XXX XXX 789    BOB   Bob  123 Some St.  hypertension          9.00    LEE"
      ]
     },
     "execution_count": 24,
     "metadata": {},
     "output_type": "execute_result"
    }
   ],
   "source": [
    "%%sql\n",
    "SET HC.SESSION_USER = 'JOHN';\n",
    "\n",
    "SELECT * FROM HC.PATIENTS;"
   ]
  },
  {
   "cell_type": "markdown",
   "metadata": {},
   "source": [
    "When a researcher looks at the data, they will also only see the last three digits of the SIN field, but they will get a zero balance in the accounting field."
   ]
  },
  {
   "cell_type": "code",
   "execution_count": 25,
   "metadata": {},
   "outputs": [
    {
     "data": {
      "text/html": [
       "<div>\n",
       "<style scoped>\n",
       "    .dataframe tbody tr th:only-of-type {\n",
       "        vertical-align: middle;\n",
       "    }\n",
       "\n",
       "    .dataframe tbody tr th {\n",
       "        vertical-align: top;\n",
       "    }\n",
       "\n",
       "    .dataframe thead th {\n",
       "        text-align: right;\n",
       "    }\n",
       "</style>\n",
       "<table border=\"1\" class=\"dataframe\">\n",
       "  <thead>\n",
       "    <tr style=\"text-align: right;\">\n",
       "      <th></th>\n",
       "      <th>SIN</th>\n",
       "      <th>USERID</th>\n",
       "      <th>NAME</th>\n",
       "      <th>ADDRESS</th>\n",
       "      <th>PHARMACY</th>\n",
       "      <th>ACCT_BALANCE</th>\n",
       "      <th>PCP_ID</th>\n",
       "    </tr>\n",
       "  </thead>\n",
       "  <tbody>\n",
       "    <tr>\n",
       "      <th>0</th>\n",
       "      <td>XXX XXX 234</td>\n",
       "      <td>MAX</td>\n",
       "      <td>Max</td>\n",
       "      <td>First St.</td>\n",
       "      <td>hypertension</td>\n",
       "      <td>0.0</td>\n",
       "      <td>LEE</td>\n",
       "    </tr>\n",
       "    <tr>\n",
       "      <th>1</th>\n",
       "      <td>XXX XXX 812</td>\n",
       "      <td>MIKE</td>\n",
       "      <td>Mike</td>\n",
       "      <td>Long St.</td>\n",
       "      <td>diabetics</td>\n",
       "      <td>0.0</td>\n",
       "      <td>JAMES</td>\n",
       "    </tr>\n",
       "    <tr>\n",
       "      <th>2</th>\n",
       "      <td>XXX XXX 856</td>\n",
       "      <td>SAM</td>\n",
       "      <td>Sam</td>\n",
       "      <td>Big St.</td>\n",
       "      <td>Codeine</td>\n",
       "      <td>0.0</td>\n",
       "      <td>LEE</td>\n",
       "    </tr>\n",
       "    <tr>\n",
       "      <th>3</th>\n",
       "      <td>XXX XXX 454</td>\n",
       "      <td>DOUG</td>\n",
       "      <td>Doug</td>\n",
       "      <td>Good St.</td>\n",
       "      <td>influenza</td>\n",
       "      <td>0.0</td>\n",
       "      <td>JAMES</td>\n",
       "    </tr>\n",
       "    <tr>\n",
       "      <th>4</th>\n",
       "      <td>XXX XXX 789</td>\n",
       "      <td>BOB</td>\n",
       "      <td>Bob</td>\n",
       "      <td>123 Some St.</td>\n",
       "      <td>hypertension</td>\n",
       "      <td>0.0</td>\n",
       "      <td>LEE</td>\n",
       "    </tr>\n",
       "  </tbody>\n",
       "</table>\n",
       "</div>"
      ],
      "text/plain": [
       "           SIN USERID  NAME       ADDRESS      PHARMACY  ACCT_BALANCE PCP_ID\n",
       "0  XXX XXX 234    MAX   Max     First St.  hypertension           0.0    LEE\n",
       "1  XXX XXX 812   MIKE  Mike      Long St.     diabetics           0.0  JAMES\n",
       "2  XXX XXX 856    SAM   Sam       Big St.       Codeine           0.0    LEE\n",
       "3  XXX XXX 454   DOUG  Doug      Good St.     influenza           0.0  JAMES\n",
       "4  XXX XXX 789    BOB   Bob  123 Some St.  hypertension           0.0    LEE"
      ]
     },
     "execution_count": 25,
     "metadata": {},
     "output_type": "execute_result"
    }
   ],
   "source": [
    "%%sql\n",
    "SET HC.SESSION_USER = 'JANE';\n",
    "\n",
    "SELECT * FROM HC.PATIENTS;"
   ]
  },
  {
   "cell_type": "markdown",
   "metadata": {},
   "source": [
    "Dr. Lee will only see his patients (ROW CONTROL) and will see the last three digits of the SIN field and zero for the account balance (COLUMN MASK)."
   ]
  },
  {
   "cell_type": "code",
   "execution_count": 26,
   "metadata": {},
   "outputs": [
    {
     "data": {
      "text/html": [
       "<div>\n",
       "<style scoped>\n",
       "    .dataframe tbody tr th:only-of-type {\n",
       "        vertical-align: middle;\n",
       "    }\n",
       "\n",
       "    .dataframe tbody tr th {\n",
       "        vertical-align: top;\n",
       "    }\n",
       "\n",
       "    .dataframe thead th {\n",
       "        text-align: right;\n",
       "    }\n",
       "</style>\n",
       "<table border=\"1\" class=\"dataframe\">\n",
       "  <thead>\n",
       "    <tr style=\"text-align: right;\">\n",
       "      <th></th>\n",
       "      <th>SIN</th>\n",
       "      <th>USERID</th>\n",
       "      <th>NAME</th>\n",
       "      <th>ADDRESS</th>\n",
       "      <th>PHARMACY</th>\n",
       "      <th>ACCT_BALANCE</th>\n",
       "      <th>PCP_ID</th>\n",
       "    </tr>\n",
       "  </thead>\n",
       "  <tbody>\n",
       "    <tr>\n",
       "      <th>0</th>\n",
       "      <td>XXX XXX 234</td>\n",
       "      <td>MAX</td>\n",
       "      <td>Max</td>\n",
       "      <td>First St.</td>\n",
       "      <td>hypertension</td>\n",
       "      <td>0.0</td>\n",
       "      <td>LEE</td>\n",
       "    </tr>\n",
       "    <tr>\n",
       "      <th>1</th>\n",
       "      <td>XXX XXX 856</td>\n",
       "      <td>SAM</td>\n",
       "      <td>Sam</td>\n",
       "      <td>Big St.</td>\n",
       "      <td>Codeine</td>\n",
       "      <td>0.0</td>\n",
       "      <td>LEE</td>\n",
       "    </tr>\n",
       "    <tr>\n",
       "      <th>2</th>\n",
       "      <td>XXX XXX 789</td>\n",
       "      <td>BOB</td>\n",
       "      <td>Bob</td>\n",
       "      <td>123 Some St.</td>\n",
       "      <td>hypertension</td>\n",
       "      <td>0.0</td>\n",
       "      <td>LEE</td>\n",
       "    </tr>\n",
       "  </tbody>\n",
       "</table>\n",
       "</div>"
      ],
      "text/plain": [
       "           SIN USERID NAME       ADDRESS      PHARMACY  ACCT_BALANCE PCP_ID\n",
       "0  XXX XXX 234    MAX  Max     First St.  hypertension           0.0    LEE\n",
       "1  XXX XXX 856    SAM  Sam       Big St.       Codeine           0.0    LEE\n",
       "2  XXX XXX 789    BOB  Bob  123 Some St.  hypertension           0.0    LEE"
      ]
     },
     "execution_count": 26,
     "metadata": {},
     "output_type": "execute_result"
    }
   ],
   "source": [
    "%%sql\n",
    "SET HC.SESSION_USER = 'LEE';\n",
    "\n",
    "SELECT * FROM HC.PATIENTS;"
   ]
  },
  {
   "cell_type": "markdown",
   "metadata": {},
   "source": [
    "Finally, the patients will be able to see their own SIN field, but the account balance will show as zero (presumably so they don't get sick over the amount!)."
   ]
  },
  {
   "cell_type": "code",
   "execution_count": 27,
   "metadata": {},
   "outputs": [
    {
     "data": {
      "text/html": [
       "<div>\n",
       "<style scoped>\n",
       "    .dataframe tbody tr th:only-of-type {\n",
       "        vertical-align: middle;\n",
       "    }\n",
       "\n",
       "    .dataframe tbody tr th {\n",
       "        vertical-align: top;\n",
       "    }\n",
       "\n",
       "    .dataframe thead th {\n",
       "        text-align: right;\n",
       "    }\n",
       "</style>\n",
       "<table border=\"1\" class=\"dataframe\">\n",
       "  <thead>\n",
       "    <tr style=\"text-align: right;\">\n",
       "      <th></th>\n",
       "      <th>SIN</th>\n",
       "      <th>USERID</th>\n",
       "      <th>NAME</th>\n",
       "      <th>ADDRESS</th>\n",
       "      <th>PHARMACY</th>\n",
       "      <th>ACCT_BALANCE</th>\n",
       "      <th>PCP_ID</th>\n",
       "    </tr>\n",
       "  </thead>\n",
       "  <tbody>\n",
       "    <tr>\n",
       "      <th>0</th>\n",
       "      <td>123 456 789</td>\n",
       "      <td>BOB</td>\n",
       "      <td>Bob</td>\n",
       "      <td>123 Some St.</td>\n",
       "      <td>hypertension</td>\n",
       "      <td>0.0</td>\n",
       "      <td>LEE</td>\n",
       "    </tr>\n",
       "  </tbody>\n",
       "</table>\n",
       "</div>"
      ],
      "text/plain": [
       "           SIN USERID NAME       ADDRESS      PHARMACY  ACCT_BALANCE PCP_ID\n",
       "0  123 456 789    BOB  Bob  123 Some St.  hypertension           0.0    LEE"
      ]
     },
     "execution_count": 27,
     "metadata": {},
     "output_type": "execute_result"
    }
   ],
   "source": [
    "%%sql\n",
    "SET HC.SESSION_USER = 'BOB';\n",
    "\n",
    "SELECT * FROM HC.PATIENTS;"
   ]
  },
  {
   "cell_type": "markdown",
   "metadata": {},
   "source": [
    "## Catalog Views\n",
    "The information about the ROW and COLUMN permissions can be found in the `SYSCAT.CONTROLS` table. One line is found in this table for each column permission and one for the row permission on a table."
   ]
  },
  {
   "cell_type": "code",
   "execution_count": 28,
   "metadata": {},
   "outputs": [
    {
     "data": {
      "text/html": [
       "<div>\n",
       "<style scoped>\n",
       "    .dataframe tbody tr th:only-of-type {\n",
       "        vertical-align: middle;\n",
       "    }\n",
       "\n",
       "    .dataframe tbody tr th {\n",
       "        vertical-align: top;\n",
       "    }\n",
       "\n",
       "    .dataframe thead th {\n",
       "        text-align: right;\n",
       "    }\n",
       "</style>\n",
       "<table border=\"1\" class=\"dataframe\">\n",
       "  <thead>\n",
       "    <tr style=\"text-align: right;\">\n",
       "      <th></th>\n",
       "      <th>CONTROLSCHEMA</th>\n",
       "      <th>CONTROLNAME</th>\n",
       "      <th>OWNER</th>\n",
       "      <th>OWNERTYPE</th>\n",
       "      <th>TABSCHEMA</th>\n",
       "      <th>TABNAME</th>\n",
       "      <th>COLNAME</th>\n",
       "      <th>CONTROLID</th>\n",
       "      <th>CONTROLTYPE</th>\n",
       "      <th>ENFORCED</th>\n",
       "      <th>...</th>\n",
       "      <th>QUALIFIER</th>\n",
       "      <th>FUNC_PATH</th>\n",
       "      <th>COLLATIONSCHEMA</th>\n",
       "      <th>COLLATIONNAME</th>\n",
       "      <th>COLLATIONSCHEMA_ORDERBY</th>\n",
       "      <th>COLLATIONNAME_ORDERBY</th>\n",
       "      <th>CREATE_TIME</th>\n",
       "      <th>ALTER_TIME</th>\n",
       "      <th>ENVSTRINGUNITS</th>\n",
       "      <th>REMARKS</th>\n",
       "    </tr>\n",
       "  </thead>\n",
       "  <tbody>\n",
       "    <tr>\n",
       "      <th>0</th>\n",
       "      <td>HC</td>\n",
       "      <td>ROW_ACCESS</td>\n",
       "      <td>DB2INST1</td>\n",
       "      <td>U</td>\n",
       "      <td>HC</td>\n",
       "      <td>PATIENTS</td>\n",
       "      <td></td>\n",
       "      <td>1</td>\n",
       "      <td>R</td>\n",
       "      <td>A</td>\n",
       "      <td>...</td>\n",
       "      <td>DB2INST1</td>\n",
       "      <td>\"SYSIBM\",\"SYSFUN\",\"SYSPROC\",\"SYSIBMADM\",\"DB2IN...</td>\n",
       "      <td>SYSIBM</td>\n",
       "      <td>IDENTITY</td>\n",
       "      <td>SYSIBM</td>\n",
       "      <td>IDENTITY</td>\n",
       "      <td>2019-07-16 09:59:34.758108</td>\n",
       "      <td>2019-07-16 09:59:34.758108</td>\n",
       "      <td>SYSTEM</td>\n",
       "      <td>None</td>\n",
       "    </tr>\n",
       "    <tr>\n",
       "      <th>1</th>\n",
       "      <td>HC</td>\n",
       "      <td>SYS_DEFAULT_ROW_PERMISSION__PATIENTS</td>\n",
       "      <td>SYSIBM</td>\n",
       "      <td>S</td>\n",
       "      <td>HC</td>\n",
       "      <td>PATIENTS</td>\n",
       "      <td></td>\n",
       "      <td>2</td>\n",
       "      <td>R</td>\n",
       "      <td>A</td>\n",
       "      <td>...</td>\n",
       "      <td>DB2INST1</td>\n",
       "      <td>\"SYSIBM\",\"SYSFUN\",\"SYSPROC\",\"SYSIBMADM\",\"DB2IN...</td>\n",
       "      <td>SYSIBM</td>\n",
       "      <td>IDENTITY</td>\n",
       "      <td>SYSIBM</td>\n",
       "      <td>IDENTITY</td>\n",
       "      <td>2019-07-16 09:59:38.827338</td>\n",
       "      <td>2019-07-16 09:59:38.827338</td>\n",
       "      <td>SYSTEM</td>\n",
       "      <td>None</td>\n",
       "    </tr>\n",
       "    <tr>\n",
       "      <th>2</th>\n",
       "      <td>HC</td>\n",
       "      <td>ACCT_BALANCE_MASK</td>\n",
       "      <td>DB2INST1</td>\n",
       "      <td>U</td>\n",
       "      <td>HC</td>\n",
       "      <td>PATIENTS</td>\n",
       "      <td>ACCT_BALANCE</td>\n",
       "      <td>3</td>\n",
       "      <td>C</td>\n",
       "      <td>A</td>\n",
       "      <td>...</td>\n",
       "      <td>DB2INST1</td>\n",
       "      <td>\"SYSIBM\",\"SYSFUN\",\"SYSPROC\",\"SYSIBMADM\",\"DB2IN...</td>\n",
       "      <td>SYSIBM</td>\n",
       "      <td>IDENTITY</td>\n",
       "      <td>SYSIBM</td>\n",
       "      <td>IDENTITY</td>\n",
       "      <td>2019-07-16 10:00:29.653371</td>\n",
       "      <td>2019-07-16 10:00:29.653371</td>\n",
       "      <td>SYSTEM</td>\n",
       "      <td>None</td>\n",
       "    </tr>\n",
       "    <tr>\n",
       "      <th>3</th>\n",
       "      <td>HC</td>\n",
       "      <td>SIN_MASK</td>\n",
       "      <td>DB2INST1</td>\n",
       "      <td>U</td>\n",
       "      <td>HC</td>\n",
       "      <td>PATIENTS</td>\n",
       "      <td>SIN</td>\n",
       "      <td>4</td>\n",
       "      <td>C</td>\n",
       "      <td>A</td>\n",
       "      <td>...</td>\n",
       "      <td>DB2INST1</td>\n",
       "      <td>\"SYSIBM\",\"SYSFUN\",\"SYSPROC\",\"SYSIBMADM\",\"DB2IN...</td>\n",
       "      <td>SYSIBM</td>\n",
       "      <td>IDENTITY</td>\n",
       "      <td>SYSIBM</td>\n",
       "      <td>IDENTITY</td>\n",
       "      <td>2019-07-16 10:00:31.948796</td>\n",
       "      <td>2019-07-16 10:00:31.948796</td>\n",
       "      <td>SYSTEM</td>\n",
       "      <td>None</td>\n",
       "    </tr>\n",
       "  </tbody>\n",
       "</table>\n",
       "<p>4 rows × 25 columns</p>\n",
       "</div>"
      ],
      "text/plain": [
       "  CONTROLSCHEMA                           CONTROLNAME     OWNER OWNERTYPE  \\\n",
       "0      HC                                  ROW_ACCESS  DB2INST1         U   \n",
       "1      HC        SYS_DEFAULT_ROW_PERMISSION__PATIENTS    SYSIBM         S   \n",
       "2      HC                           ACCT_BALANCE_MASK  DB2INST1         U   \n",
       "3      HC                                    SIN_MASK  DB2INST1         U   \n",
       "\n",
       "  TABSCHEMA   TABNAME       COLNAME  CONTROLID CONTROLTYPE ENFORCED  ...  \\\n",
       "0  HC        PATIENTS                        1           R        A  ...   \n",
       "1  HC        PATIENTS                        2           R        A  ...   \n",
       "2  HC        PATIENTS  ACCT_BALANCE          3           C        A  ...   \n",
       "3  HC        PATIENTS           SIN          4           C        A  ...   \n",
       "\n",
       "  QUALIFIER                                          FUNC_PATH  \\\n",
       "0  DB2INST1  \"SYSIBM\",\"SYSFUN\",\"SYSPROC\",\"SYSIBMADM\",\"DB2IN...   \n",
       "1  DB2INST1  \"SYSIBM\",\"SYSFUN\",\"SYSPROC\",\"SYSIBMADM\",\"DB2IN...   \n",
       "2  DB2INST1  \"SYSIBM\",\"SYSFUN\",\"SYSPROC\",\"SYSIBMADM\",\"DB2IN...   \n",
       "3  DB2INST1  \"SYSIBM\",\"SYSFUN\",\"SYSPROC\",\"SYSIBMADM\",\"DB2IN...   \n",
       "\n",
       "  COLLATIONSCHEMA COLLATIONNAME COLLATIONSCHEMA_ORDERBY COLLATIONNAME_ORDERBY  \\\n",
       "0          SYSIBM      IDENTITY                  SYSIBM              IDENTITY   \n",
       "1          SYSIBM      IDENTITY                  SYSIBM              IDENTITY   \n",
       "2          SYSIBM      IDENTITY                  SYSIBM              IDENTITY   \n",
       "3          SYSIBM      IDENTITY                  SYSIBM              IDENTITY   \n",
       "\n",
       "                 CREATE_TIME                 ALTER_TIME ENVSTRINGUNITS REMARKS  \n",
       "0 2019-07-16 09:59:34.758108 2019-07-16 09:59:34.758108         SYSTEM    None  \n",
       "1 2019-07-16 09:59:38.827338 2019-07-16 09:59:38.827338         SYSTEM    None  \n",
       "2 2019-07-16 10:00:29.653371 2019-07-16 10:00:29.653371         SYSTEM    None  \n",
       "3 2019-07-16 10:00:31.948796 2019-07-16 10:00:31.948796         SYSTEM    None  \n",
       "\n",
       "[4 rows x 25 columns]"
      ]
     },
     "execution_count": 28,
     "metadata": {},
     "output_type": "execute_result"
    }
   ],
   "source": [
    "%sql -a SELECT * FROM SYSCAT.CONTROLS;"
   ]
  },
  {
   "cell_type": "markdown",
   "metadata": {
    "collapsed": true
   },
   "source": [
    "#### Credits: IBM 2019, George Baklarz [baklarz@ca.ibm.com]"
   ]
  }
 ],
 "metadata": {
  "hide_code_all_hidden": false,
  "kernelspec": {
   "display_name": "Python 3",
   "language": "python",
   "name": "python3"
  },
  "language_info": {
   "codemirror_mode": {
    "name": "ipython",
    "version": 3
   },
   "file_extension": ".py",
   "mimetype": "text/x-python",
   "name": "python",
   "nbconvert_exporter": "python",
   "pygments_lexer": "ipython3",
   "version": "3.7.3"
  }
 },
 "nbformat": 4,
 "nbformat_minor": 2
}
