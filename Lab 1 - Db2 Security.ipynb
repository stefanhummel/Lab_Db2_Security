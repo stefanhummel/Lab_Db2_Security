{
 "cells": [
  {
   "cell_type": "markdown",
   "metadata": {
    "slideshow": {
     "slide_type": "slide"
    }
   },
   "source": [
    "<a id='top'></a>\n",
    "# Db2 Security\n",
    "\n",
    "In this lab, we cover 3 features related to database security:\n",
    " * Db2 Audit\n",
    " * Db2 row and column access control (RCAC)\n",
    " * Trusted context\n",
    " \n",
    "\n",
    "In our scenario, we use different people with different permissions:\n",
    "\n",
    "* **`Alex`**     Chief Security Administrator. He holds the SECADM authority.\n",
    "* **`Peter`**    Database Administrator. He holds the DBADM authority.\n",
    "* **`Paul`**     Database Developer. He has the privileges to create triggers and user-defined functions.\n",
    " \n",
    "The commands to define the user are in the notebook  [define-users.ipynb](define-users.ipynb).\n",
    " \n",
    " \n",
    "Each lab can be done independently. Partly it contains exercises. The answers to the questions and tasks can be found at the end of each chapter.\n",
    "\n",
    "We recommend that you do the exercises in the following order:\n",
    " 1.  [define-users.ipynb](define-users.ipynb)\n",
    " 2.  [Db2 audit](Lab%201.1%20-%20Db2%20Audit.ipynb)\n",
    " 3.  [Trusted context](Lab%201.1%20-%20Db2%20Trusted%20Context.ipynb)\n",
    " 4.  [Db2 row and column access control (RCAC)](Lab%201.2%20-%20Db2%20RCAC.ipynb)\n",
    " \n",
    "\n",
    "\n",
    "The exercises are based on Db2 11.5 or later.\n"
   ]
  },
  {
   "cell_type": "markdown",
   "metadata": {
    "slideshow": {
     "slide_type": "subslide"
    }
   },
   "source": [
    "#### Credits: IBM 2019, Andreas Weininger [andreas.weininger@de.ibm.com], Stefan Hummel [stefan.hummel@de.ibm.com]"
   ]
  }
 ],
 "metadata": {
  "celltoolbar": "Slideshow",
  "kernelspec": {
   "display_name": "Python 3",
   "language": "python",
   "name": "python3"
  },
  "language_info": {
   "codemirror_mode": {
    "name": "ipython",
    "version": 3
   },
   "file_extension": ".py",
   "mimetype": "text/x-python",
   "name": "python",
   "nbconvert_exporter": "python",
   "pygments_lexer": "ipython3",
   "version": "3.7.3"
  }
 },
 "nbformat": 4,
 "nbformat_minor": 2
}
