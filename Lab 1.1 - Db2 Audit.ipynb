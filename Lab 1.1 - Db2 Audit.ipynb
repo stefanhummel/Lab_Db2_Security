{
 "cells": [
  {
   "cell_type": "markdown",
   "metadata": {},
   "source": [
    "<a id='top'></a>\n",
    "# Db2 Audit Facility\n",
    "\n",
    "To manage access to your sensitive data, you can use a variety of authentication and access control mechanisms to establish rules and controls for acceptable data access. But to protect against and discover unknown or unacceptable behaviors you can monitor data access by using the Db2® audit facility."
   ]
  },
  {
   "cell_type": "markdown",
   "metadata": {},
   "source": [
    "<a id='top'></a>\n",
    "## Table of Contents\n",
    "\n",
    "* [Introduction](#intro)\n",
    "* [Audit tables](#tables)\n",
    "* [Categories](#categories)\n",
    "* [Define Auditing Rules](#define)\n",
    "* [Categories](#categories)\n",
    "* [Effect of switching user](#user_switch)\n",
    "<p>\n",
    "* [Catalog Views](#catalog)\n",
    "* [Answers](#answers)\n",
    "* [Clean all](#clean)"
   ]
  },
  {
   "cell_type": "markdown",
   "metadata": {},
   "source": [
    "## Introduction <a id='intro'></a>"
   ]
  },
  {
   "cell_type": "markdown",
   "metadata": {},
   "source": [
    "The audit facility provides the ability to audit at both the instance and the individual database level, independently recording all instance and database level activities with separate logs for each. The system administrator (in our scenario: `Peter` who holds `SYSADM` authority) can use the db2audit tool to configure audit at the instance level as well as to control when such audit information is collected. The system administrator can use the db2audit tool to archive both instance and database audit logs as well as to extract audit data from archived logs of either type.\n",
    "\n",
    "The security administrator (in our scenario: `Alex` who holds `SECADM` authority within a database) can use audit policies in conjunction with the SQL statement, AUDIT, to configure and control the audit requirements for an individual database. The security administrator can use the following audit routines to perform the specified tasks:\n",
    "The SYSPROC.AUDIT_ARCHIVE stored procedure archives audit logs.\n",
    "The SYSPROC.AUDIT_LIST_LOGS table function allows you to locate logs of interest.\n",
    "The SYSPROC.AUDIT_DELIM_EXTRACT stored procedure extracts data into delimited files for analysis.\n",
    "The security administrator can grant EXECUTE privilege on these routines to another user, therefore enabling the security administrator to delegate these tasks, if required."
   ]
  },
  {
   "cell_type": "markdown",
   "metadata": {},
   "source": [
    "## Audit tables <a id='tables'></a>\n",
    "Before you can work with audit data in database tables, you need to create the tables to hold the data. We are creating these tables in a separate schem (here `audit `) to isolate the data in the tables from unauthorized users.\n",
    "\n",
    "After you have created the tables, the security administrator can use the SYSPROC.AUDIT_DELIM_EXTRACT stored procedure, or the system administrator can use the db2audit extract command, to extract the audit records from the archived audit log files into delimited files. You can load the audit data from the delimited files into the database tables you just created."
   ]
  },
  {
   "cell_type": "code",
   "execution_count": null,
   "metadata": {},
   "outputs": [],
   "source": [
    "%run ../db2.ipynb"
   ]
  },
  {
   "cell_type": "code",
   "execution_count": null,
   "metadata": {},
   "outputs": [],
   "source": [
    "%sql CONNECT TO SAMPLE user peter using p123"
   ]
  },
  {
   "cell_type": "code",
   "execution_count": null,
   "metadata": {},
   "outputs": [],
   "source": [
    "%sql SET CURRENT SCHEMA audit"
   ]
  },
  {
   "cell_type": "code",
   "execution_count": null,
   "metadata": {},
   "outputs": [],
   "source": [
    "%run db2audit.ipynb"
   ]
  },
  {
   "cell_type": "code",
   "execution_count": null,
   "metadata": {},
   "outputs": [],
   "source": [
    "%%sql\n",
    "SELECT tabschema,\n",
    "       tabname\n",
    "    FROM syscat.tables\n",
    "    WHERE tabschema = 'AUDIT'"
   ]
  },
  {
   "cell_type": "code",
   "execution_count": null,
   "metadata": {},
   "outputs": [],
   "source": [
    "%sql CONNECT RESET"
   ]
  },
  {
   "cell_type": "markdown",
   "metadata": {},
   "source": [
    "[Back to Top](#top)"
   ]
  },
  {
   "cell_type": "markdown",
   "metadata": {},
   "source": [
    "## Categories of audit records <a id='categories'></a>\n",
    "\n",
    "There are different categories of audit records that may be generated. In the following description of the categories of events available for auditing, you should notice that following the name of each category is a one-word keyword used to identify the category type. "
   ]
  },
  {
   "cell_type": "markdown",
   "metadata": {},
   "source": [
    "#### AUDIT\n",
    "Generates records when audit settings are changed or when the audit log is accessed. Following is an example how to define an audit policy."
   ]
  },
  {
   "cell_type": "code",
   "execution_count": null,
   "metadata": {},
   "outputs": [],
   "source": [
    "%sql CONNECT TO SAMPLE user alex using p123"
   ]
  },
  {
   "cell_type": "code",
   "execution_count": null,
   "metadata": {},
   "outputs": [],
   "source": [
    "%%sql\n",
    "CREATE AUDIT POLICY Policy_Audit\n",
    "     CATEGORIES AUDIT STATUS BOTH\n",
    "     ERROR TYPE NORMAL;"
   ]
  },
  {
   "cell_type": "code",
   "execution_count": null,
   "metadata": {},
   "outputs": [],
   "source": [
    "%sql DROP AUDIT POLICY Policy_Audit"
   ]
  },
  {
   "cell_type": "markdown",
   "metadata": {},
   "source": [
    "#### Authorization Checking (CHECKING)\n",
    "Generates records during authorization checking of attempts to access or manipulate Db2 database objects or functions.\n",
    "\n",
    "#### Object Maintenance (OBJMAINT)\n",
    "Generates records when creating or dropping data objects, and when altering certain objects.\n",
    "\n",
    "#### Security Maintenance (SECMAINT). Generates records when:\n",
    "Granting or revoking object privileges or database authorities\n",
    "Granting or revoking security labels or exemptions\n",
    "Altering the group authorization, role authorization, or override or restrict attributes of an LBAC security policy\n",
    "Granting or revoking the SETSESSIONUSER privilege\n",
    "Modifying any of the SYSADM_GROUP, SYSCTRL_GROUP, SYSMAINT_GROUP, or SYSMON_GROUP configuration parameters.\n",
    "#### System Administration (SYSADMIN)\n",
    "Generates records when operations requiring SYSADM, SYSMAINT, or SYSCTRL authority are performed.\n",
    "#### User Validation (VALIDATE)\n",
    "Generates records when authenticating users or retrieving system security information.\n",
    "#### Operation Context (CONTEXT)\n",
    "Generates records to show the operation context when a database operation is performed. This category allows for better interpretation of the audit log file. When used with the log's event correlator field, a group of events can be associated back to a single database operation. For example, a query statement for dynamic queries, a package identifier for static queries, or an indicator of the type of operation being performed, such as CONNECT, can provide needed context when analyzing audit results.\n",
    "#### Execute (EXECUTE)\n",
    "Generates records during the execution of SQL statements."
   ]
  },
  {
   "cell_type": "markdown",
   "metadata": {},
   "source": [
    "## Define Auditing Rules <a id='define'></a>"
   ]
  },
  {
   "cell_type": "markdown",
   "metadata": {},
   "source": [
    "#### Auditing any actions by SYSADM or DBADM\n",
    "In order to complete their security compliance certification, a company must show that any and all activities within the database by those people holding system administration (SYSADM) or database administrative (DBADM) authority can be monitored.\n",
    "\n",
    "To capture all actions within the database, both the EXECUTE and SYSADMIN categories should be audited. The security administrator creates an audit policy that audits these two categories. The security administrator can use the AUDIT statement to associate this audit policy with the SYSADM and DBADM authorities. Any user that holds either SYSADM or DBADM authority will then have any auditable events logged. The following example shows how to create such an audit policy and associate it with the SYSADM and DBADM authorities:"
   ]
  },
  {
   "cell_type": "code",
   "execution_count": null,
   "metadata": {},
   "outputs": [],
   "source": [
    "%%sql\n",
    "CREATE AUDIT POLICY AdminsPolicy \n",
    "    CATEGORIES EXECUTE STATUS BOTH,\n",
    "    SYSADMIN STATUS BOTH \n",
    "    ERROR TYPE AUDIT\n"
   ]
  },
  {
   "cell_type": "markdown",
   "metadata": {},
   "source": [
    "Activate audit policy"
   ]
  },
  {
   "cell_type": "code",
   "execution_count": null,
   "metadata": {},
   "outputs": [],
   "source": [
    "%sql AUDIT SYSADM, DBADM USING POLICY ADMINSPOLICY"
   ]
  },
  {
   "cell_type": "markdown",
   "metadata": {},
   "source": [
    "Check the policies in the Db2 catalog tables."
   ]
  },
  {
   "cell_type": "code",
   "execution_count": null,
   "metadata": {},
   "outputs": [],
   "source": [
    "%sql -grid SELECT * FROM SYSCAT.AUDITPOLICIES"
   ]
  },
  {
   "cell_type": "code",
   "execution_count": null,
   "metadata": {},
   "outputs": [],
   "source": [
    "%sql -grid SELECT * FROM SYSCAT.AUDITUSE"
   ]
  },
  {
   "cell_type": "markdown",
   "metadata": {},
   "source": [
    "#### Auditing any access to a specific table\n",
    "Consider a company where the EMPLOYEE table contains extremely sensitive information and the company wants to audit any and all SQL access to the data in that table. The EXECUTE category can be used to track all access to a table; it audits the SQL statement, and optionally the input data value provided at execution time for that statement.\n",
    "\n",
    "There are two steps to track activity on the table. First, the security administrator creates an audit policy that specifies the EXECUTE category, and then the security administrator associates that policy with the table:\n"
   ]
  },
  {
   "cell_type": "code",
   "execution_count": null,
   "metadata": {
    "scrolled": true
   },
   "outputs": [],
   "source": [
    "%%sql\n",
    "CREATE AUDIT POLICY SensitiveDataPolicy\n",
    "    CATEGORIES EXECUTE \n",
    "    STATUS BOTH \n",
    "    ERROR TYPE AUDIT"
   ]
  },
  {
   "cell_type": "code",
   "execution_count": null,
   "metadata": {},
   "outputs": [],
   "source": [
    "%sql AUDIT TABLE HMO.PATIENT USING POLICY SensitiveDataPolicy\n"
   ]
  },
  {
   "cell_type": "markdown",
   "metadata": {},
   "source": [
    "#### SECMAINT\n",
    "The SECMAINT category generates records when:\n",
    "* Granting or revoking object privileges or database authorities\n",
    "* Granting or revoking security labels or exemptions\n",
    "* Altering the group authorization, role authorization, or override or restrict attributes of an LBAC security policy\n",
    "* Granting or revoking the SETSESSIONUSER privilege\n",
    "* Modifying any of the SYSADM_GROUP, SYSCTRL_GROUP, SYSMAINT_GROUP, or SYSMON_GROUP configuration parameters.\n",
    "\n",
    "Here as well, there are two steps to track SECMAINT activity on the table."
   ]
  },
  {
   "cell_type": "code",
   "execution_count": null,
   "metadata": {},
   "outputs": [],
   "source": [
    "%%sql\n",
    "CREATE AUDIT POLICY SensitiveDataPolicy\n",
    "    CATEGORIES SECMAINT \n",
    "    STATUS BOTH \n",
    "    ERROR TYPE AUDIT"
   ]
  },
  {
   "cell_type": "code",
   "execution_count": null,
   "metadata": {},
   "outputs": [],
   "source": []
  },
  {
   "cell_type": "code",
   "execution_count": null,
   "metadata": {},
   "outputs": [],
   "source": []
  },
  {
   "cell_type": "markdown",
   "metadata": {},
   "source": [
    "#### Auditing for a database"
   ]
  },
  {
   "cell_type": "code",
   "execution_count": null,
   "metadata": {},
   "outputs": [],
   "source": [
    "%%sql\n",
    "CREATE AUDIT POLICY ALTPOLICY \n",
    "  CATEGORIES \n",
    "    AUDIT STATUS BOTH, \n",
    "    OBJMAINT STATUS BOTH,  \n",
    "    CHECKING STATUS BOTH, \n",
    "    EXECUTE STATUS BOTH \n",
    "  ERROR TYPE NORMAL;\n",
    "\n"
   ]
  },
  {
   "cell_type": "code",
   "execution_count": null,
   "metadata": {},
   "outputs": [],
   "source": [
    "%sql AUDIT DATABASE USING POLICY ALTPOLICY"
   ]
  },
  {
   "cell_type": "markdown",
   "metadata": {},
   "source": [
    "## Inspect audit logs"
   ]
  },
  {
   "cell_type": "markdown",
   "metadata": {},
   "source": [
    "Before we inspact the audit logs we have to flush any pending audit records from the instance and write them to the audit log. Then we archive audit records from the current audit log and extract them to a file on disk.\n",
    "Run the following three commands in a command shell. \n",
    "\n",
    "<font color=\"blue\" size=\"+1\"><b>Question:</b></font> <a id='exercise_1'></a><br>\n",
    "Think about it. Which user do you log in as?\n",
    "\n",
    "_________________________\n",
    "\n",
    "\n",
    "`db2audit flush`\n",
    "\n",
    "`db2audit archive database sample to ./auditarchive`\n",
    "\n",
    "Look at the output and complete the following command with the name of the archive file. Then execute the `extract` command.\n",
    "\n",
    "`db2audit extract delasc to ./audit_del_files/ from files db2audit.db.SAMPLE.log.?????.bk `\n",
    "\n",
    "\n"
   ]
  },
  {
   "cell_type": "markdown",
   "metadata": {},
   "source": [
    "The next step is to load the audit data into the audit tables in our database. Let's use SQL for this job."
   ]
  },
  {
   "cell_type": "code",
   "execution_count": null,
   "metadata": {},
   "outputs": [],
   "source": [
    "%sql CONNECT TO SAMPLE user peter using p123"
   ]
  },
  {
   "cell_type": "code",
   "execution_count": null,
   "metadata": {},
   "outputs": [],
   "source": [
    "%sql CALL ADMIN_CMD('LOAD FROM /home/db2inst1/sqllib/security/auditdata/audit_del_files/audit.del OF DEL MODIFIED BY DELPRIORITYCHAR  LOBSINFILE INSERT INTO audit.AUDIT');"
   ]
  },
  {
   "cell_type": "code",
   "execution_count": null,
   "metadata": {},
   "outputs": [],
   "source": [
    "%sql CALL ADMIN_CMD('LOAD FROM /home/db2inst1/sqllib/security/auditdata/audit_del_files/checking.del OF DEL MODIFIED BY DELPRIORITYCHAR  LOBSINFILE INSERT INTO audit.CHECKING');"
   ]
  },
  {
   "cell_type": "code",
   "execution_count": null,
   "metadata": {},
   "outputs": [],
   "source": [
    "%sql CALL ADMIN_CMD('LOAD FROM /home/db2inst1/sqllib/security/auditdata/audit_del_files/context.del OF DEL MODIFIED BY DELPRIORITYCHAR  LOBSINFILE INSERT INTO audit.CONTEXT');\n"
   ]
  },
  {
   "cell_type": "code",
   "execution_count": null,
   "metadata": {},
   "outputs": [],
   "source": [
    "%sql CALL ADMIN_CMD('LOAD FROM /home/db2inst1/sqllib/security/auditdata/audit_del_files/execute.del OF DEL MODIFIED BY DELPRIORITYCHAR  LOBSINFILE INSERT INTO audit.EXECUTE');\n"
   ]
  },
  {
   "cell_type": "code",
   "execution_count": null,
   "metadata": {},
   "outputs": [],
   "source": [
    "%sql CALL ADMIN_CMD('LOAD FROM /home/db2inst1/sqllib/security/auditdata/audit_del_files/objmaint.del OF DEL MODIFIED BY DELPRIORITYCHAR  LOBSINFILE INSERT INTO audit.OBJMAINT');\n"
   ]
  },
  {
   "cell_type": "code",
   "execution_count": null,
   "metadata": {},
   "outputs": [],
   "source": [
    "%sql CALL ADMIN_CMD('LOAD FROM /home/db2inst1/sqllib/security/auditdata/audit_del_files/secmaint.del OF DEL MODIFIED BY DELPRIORITYCHAR  LOBSINFILE INSERT INTO audit.SECMAINT');\n"
   ]
  },
  {
   "cell_type": "code",
   "execution_count": null,
   "metadata": {},
   "outputs": [],
   "source": [
    "%sql CALL ADMIN_CMD('LOAD FROM /home/db2inst1/sqllib/security/auditdata/audit_del_files/sysadmin.del OF DEL MODIFIED BY DELPRIORITYCHAR  LOBSINFILE INSERT INTO audit.SYSADMIN');\n"
   ]
  },
  {
   "cell_type": "code",
   "execution_count": null,
   "metadata": {},
   "outputs": [],
   "source": [
    "%sql CALL ADMIN_CMD('LOAD FROM /home/db2inst1/sqllib/security/auditdata/audit_del_files/validate.del OF DEL MODIFIED BY DELPRIORITYCHAR  LOBSINFILE INSERT INTO audit.VALIDATE');\n"
   ]
  },
  {
   "cell_type": "code",
   "execution_count": null,
   "metadata": {},
   "outputs": [],
   "source": [
    "%%sql -grid\n",
    "SELECT * \n",
    "    FROM audit.execute\n",
    "    WHERE event = 'STATEMENT'\n",
    "    AND activitytype = 'WRITE_DML'"
   ]
  },
  {
   "cell_type": "code",
   "execution_count": null,
   "metadata": {},
   "outputs": [],
   "source": [
    "%%sql -grid\n",
    "SELECT * \n",
    "    FROM audit.checking\n",
    "    "
   ]
  },
  {
   "cell_type": "code",
   "execution_count": null,
   "metadata": {},
   "outputs": [],
   "source": [
    "%sql -- delete from audit.execute"
   ]
  },
  {
   "cell_type": "code",
   "execution_count": null,
   "metadata": {},
   "outputs": [],
   "source": [
    "%sql CONNECT RESET"
   ]
  },
  {
   "cell_type": "markdown",
   "metadata": {},
   "source": [
    "[Back to Top](#top)"
   ]
  },
  {
   "cell_type": "markdown",
   "metadata": {},
   "source": [
    "## Effect of switching user <a id='user_switch'></a>"
   ]
  },
  {
   "cell_type": "markdown",
   "metadata": {},
   "source": [
    "If a user is switched within a trusted connection, no remnants of the original user are left behind. In this case, the audit policies associated with the original user are no longer considered, and the applicable audit policies are re-evaluated according to the new user. Any audit policy associated with the trusted connection is still in effect.\n",
    "\n",
    "If a SET SESSION USER statement is used, only the session authorization ID is switched. The audit policy of the authorization ID of the original user (the system authorization ID) remains in effect and the audit policy of the new user is used as well. If multiple SET SESSION USER statements are issued within a session, only the audit policies associated with the original user (the system authorization ID) and the current user (the session authorization ID) are considered.\n",
    "\n",
    "In our HMO scenario we often used the `SET SESSION USER ` statement. Have a look into the audit tables and see the effects."
   ]
  },
  {
   "cell_type": "code",
   "execution_count": null,
   "metadata": {},
   "outputs": [],
   "source": []
  },
  {
   "cell_type": "code",
   "execution_count": null,
   "metadata": {},
   "outputs": [],
   "source": []
  },
  {
   "cell_type": "markdown",
   "metadata": {},
   "source": [
    "[Back to Top](#top)"
   ]
  },
  {
   "cell_type": "markdown",
   "metadata": {},
   "source": [
    "## Clean all <a id='clean'></a>"
   ]
  },
  {
   "cell_type": "code",
   "execution_count": null,
   "metadata": {},
   "outputs": [],
   "source": [
    "%sql CONNECT TO SAMPLE user peter using p123"
   ]
  },
  {
   "cell_type": "code",
   "execution_count": null,
   "metadata": {},
   "outputs": [],
   "source": [
    "%sql SET CURRENT SCHEMA audit"
   ]
  },
  {
   "cell_type": "code",
   "execution_count": null,
   "metadata": {},
   "outputs": [],
   "source": [
    "%%sql\n",
    "DROP TABLE AUDIT;\n",
    "DROP TABLE CHECKING;\n",
    "DROP TABLE OBJMAINT;\n",
    "DROP TABLE SECMAINT;\n",
    "DROP TABLE SYSADMIN;\n",
    "DROP TABLE VALIDATE;\n",
    "DROP TABLE CONTEXT;\n",
    "DROP TABLE EXECUTE;"
   ]
  },
  {
   "cell_type": "code",
   "execution_count": null,
   "metadata": {},
   "outputs": [],
   "source": [
    "%sql CONNECT RESET"
   ]
  },
  {
   "cell_type": "code",
   "execution_count": null,
   "metadata": {},
   "outputs": [],
   "source": [
    "%sql CONNECT TO SAMPLE user alex using p123"
   ]
  },
  {
   "cell_type": "code",
   "execution_count": null,
   "metadata": {},
   "outputs": [],
   "source": [
    "%%sql \n",
    "AUDIT DATABASE REMOVE POLICY"
   ]
  },
  {
   "cell_type": "code",
   "execution_count": null,
   "metadata": {},
   "outputs": [],
   "source": [
    "%%sql \n",
    "AUDIT SYSADM REMOVE POLICY;\n",
    "AUDIT DBADM REMOVE POLICY;"
   ]
  },
  {
   "cell_type": "code",
   "execution_count": null,
   "metadata": {},
   "outputs": [],
   "source": [
    "%sql AUDIT TABLE HMO.PATIENT REMOVE POLICY "
   ]
  },
  {
   "cell_type": "code",
   "execution_count": null,
   "metadata": {},
   "outputs": [],
   "source": [
    "%%sql \n",
    "DROP AUDIT POLICY AdminsPolicy;\n",
    "DROP AUDIT POLICY AltPolicy;\n",
    "DROP AUDIT POLICY SensitiveDataPolicy;"
   ]
  },
  {
   "cell_type": "code",
   "execution_count": null,
   "metadata": {},
   "outputs": [],
   "source": [
    "%sql CONNECT RESET"
   ]
  },
  {
   "cell_type": "markdown",
   "metadata": {},
   "source": [
    "[Back to Top](#top)\n",
    "<p></p>\n"
   ]
  },
  {
   "cell_type": "markdown",
   "metadata": {},
   "source": [
    "#### Credits: IBM 2019, Andreas Weininger [andreas.weininger@de.ibm.com], Stefan Hummel [stefan.hummel@de.ibm.com]"
   ]
  }
 ],
 "metadata": {
  "kernelspec": {
   "display_name": "Python 3",
   "language": "python",
   "name": "python3"
  },
  "language_info": {
   "codemirror_mode": {
    "name": "ipython",
    "version": 3
   },
   "file_extension": ".py",
   "mimetype": "text/x-python",
   "name": "python",
   "nbconvert_exporter": "python",
   "pygments_lexer": "ipython3",
   "version": "3.7.3"
  }
 },
 "nbformat": 4,
 "nbformat_minor": 2
}
