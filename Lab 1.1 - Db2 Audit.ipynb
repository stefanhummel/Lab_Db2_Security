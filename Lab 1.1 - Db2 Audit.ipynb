{
 "cells": [
  {
   "cell_type": "markdown",
   "metadata": {},
   "source": [
    "<a id='top'></a>\n",
    "# Db2 Audit Facility\n",
    "\n",
    "To manage access to your sensitive data, you can use a variety of authentication and access control mechanisms to establish rules and controls for acceptable data access. But to protect against and discover unknown or unacceptable behaviors you can monitor data access by using the Db2® audit facility."
   ]
  },
  {
   "cell_type": "markdown",
   "metadata": {},
   "source": [
    "<a id='top'></a>\n",
    "## Table of Contents\n",
    "\n",
    "* [Introduction](#intro)\n",
    "* [Audit tables](#tables)\n",
    "* [Categories](#categories)\n",
    "* [Define Auditing Rules](#define)\n",
    "* [Categories](#categories)\n",
    "* [Effect of switching user](#user_switch)\n",
    "<p>\n",
    "* [Catalog Views](#catalog)\n",
    "* [Answers](#answers)\n",
    "* [Clean all](#clean)"
   ]
  },
  {
   "cell_type": "code",
   "execution_count": null,
   "metadata": {},
   "outputs": [],
   "source": [
    "%run db2.ipynb"
   ]
  },
  {
   "cell_type": "markdown",
   "metadata": {},
   "source": [
    "## Introduction <a id='intro'></a>"
   ]
  },
  {
   "cell_type": "markdown",
   "metadata": {},
   "source": [
    "The audit facility provides the ability to audit at both the instance and the individual database level, independently recording all instance and database level activities with separate logs for each. The system administrator (in our scenario: `Peter` who holds `SYSADM` authority) can use the db2audit tool to configure audit at the instance level as well as to control when such audit information is collected. The system administrator can use the db2audit tool to archive both instance and database audit logs as well as to extract audit data from archived logs of either type.\n",
    "\n",
    "The security administrator (in our scenario: `Alex` who holds `SECADM` authority within a database) can use audit policies in conjunction with the SQL statement, AUDIT, to configure and control the audit requirements for an individual database. The security administrator can use the following audit routines to perform the specified tasks:\n",
    "The SYSPROC.AUDIT_ARCHIVE stored procedure archives audit logs.\n",
    "The SYSPROC.AUDIT_LIST_LOGS table function allows you to locate logs of interest.\n",
    "The SYSPROC.AUDIT_DELIM_EXTRACT stored procedure extracts data into delimited files for analysis.\n",
    "The security administrator can grant EXECUTE privilege on these routines to another user, therefore enabling the security administrator to delegate these tasks, if required."
   ]
  },
  {
   "cell_type": "markdown",
   "metadata": {},
   "source": [
    "## Audit tables <a id='tables'></a>\n",
    "Before you can work with audit data in database tables, you need to create the tables to hold the data. We are creating these tables in a separate schem (here `audit `) to isolate the data in the tables from unauthorized users.\n",
    "\n",
    "After you have created the tables, the security administrator can use the SYSPROC.AUDIT_DELIM_EXTRACT stored procedure, or the system administrator can use the db2audit extract command, to extract the audit records from the archived audit log files into delimited files. You can load the audit data from the delimited files into the database tables you just created."
   ]
  },
  {
   "cell_type": "code",
   "execution_count": 3,
   "metadata": {},
   "outputs": [
    {
     "name": "stdout",
     "output_type": "stream",
     "text": [
      "DB2 Extensions Loaded.\n"
     ]
    },
    {
     "data": {
      "text/html": [
       "<style>\n",
       "  table {margin-left: 0 !important; text-align: left;}\n",
       "</style>\n"
      ],
      "text/plain": [
       "<IPython.core.display.HTML object>"
      ]
     },
     "metadata": {},
     "output_type": "display_data"
    }
   ],
   "source": [
    "%run ../db2.ipynb"
   ]
  },
  {
   "cell_type": "code",
   "execution_count": 14,
   "metadata": {},
   "outputs": [
    {
     "name": "stdout",
     "output_type": "stream",
     "text": [
      "Connection successful.\n"
     ]
    }
   ],
   "source": [
    "%sql CONNECT TO SAMPLE user peter using p123"
   ]
  },
  {
   "cell_type": "code",
   "execution_count": 29,
   "metadata": {},
   "outputs": [
    {
     "name": "stdout",
     "output_type": "stream",
     "text": [
      "Command completed.\n"
     ]
    }
   ],
   "source": [
    "%sql SET CURRENT SCHEMA audit"
   ]
  },
  {
   "cell_type": "code",
   "execution_count": 32,
   "metadata": {},
   "outputs": [
    {
     "name": "stdout",
     "output_type": "stream",
     "text": [
      "Command completed.\n"
     ]
    }
   ],
   "source": [
    "%run db2audit.ipynb"
   ]
  },
  {
   "cell_type": "code",
   "execution_count": 33,
   "metadata": {},
   "outputs": [
    {
     "data": {
      "text/html": [
       "<div>\n",
       "<style scoped>\n",
       "    .dataframe tbody tr th:only-of-type {\n",
       "        vertical-align: middle;\n",
       "    }\n",
       "\n",
       "    .dataframe tbody tr th {\n",
       "        vertical-align: top;\n",
       "    }\n",
       "\n",
       "    .dataframe thead th {\n",
       "        text-align: right;\n",
       "    }\n",
       "</style>\n",
       "<table border=\"1\" class=\"dataframe\">\n",
       "  <thead>\n",
       "    <tr style=\"text-align: right;\">\n",
       "      <th></th>\n",
       "      <th>TABSCHEMA</th>\n",
       "      <th>TABNAME</th>\n",
       "    </tr>\n",
       "  </thead>\n",
       "  <tbody>\n",
       "    <tr>\n",
       "      <th>0</th>\n",
       "      <td>AUDIT</td>\n",
       "      <td>AUDIT</td>\n",
       "    </tr>\n",
       "    <tr>\n",
       "      <th>1</th>\n",
       "      <td>AUDIT</td>\n",
       "      <td>CHECKING</td>\n",
       "    </tr>\n",
       "    <tr>\n",
       "      <th>2</th>\n",
       "      <td>AUDIT</td>\n",
       "      <td>CONTEXT</td>\n",
       "    </tr>\n",
       "    <tr>\n",
       "      <th>3</th>\n",
       "      <td>AUDIT</td>\n",
       "      <td>EXECUTE</td>\n",
       "    </tr>\n",
       "    <tr>\n",
       "      <th>4</th>\n",
       "      <td>AUDIT</td>\n",
       "      <td>OBJMAINT</td>\n",
       "    </tr>\n",
       "    <tr>\n",
       "      <th>5</th>\n",
       "      <td>AUDIT</td>\n",
       "      <td>SECMAINT</td>\n",
       "    </tr>\n",
       "    <tr>\n",
       "      <th>6</th>\n",
       "      <td>AUDIT</td>\n",
       "      <td>SYSADMIN</td>\n",
       "    </tr>\n",
       "    <tr>\n",
       "      <th>7</th>\n",
       "      <td>AUDIT</td>\n",
       "      <td>VALIDATE</td>\n",
       "    </tr>\n",
       "  </tbody>\n",
       "</table>\n",
       "</div>"
      ],
      "text/plain": [
       "  TABSCHEMA   TABNAME\n",
       "0  AUDIT        AUDIT\n",
       "1  AUDIT     CHECKING\n",
       "2  AUDIT      CONTEXT\n",
       "3  AUDIT      EXECUTE\n",
       "4  AUDIT     OBJMAINT\n",
       "5  AUDIT     SECMAINT\n",
       "6  AUDIT     SYSADMIN\n",
       "7  AUDIT     VALIDATE"
      ]
     },
     "execution_count": 33,
     "metadata": {},
     "output_type": "execute_result"
    }
   ],
   "source": [
    "%%sql\n",
    "SELECT tabschema,\n",
    "       tabname\n",
    "    FROM syscat.tables\n",
    "    WHERE tabschema = 'AUDIT'"
   ]
  },
  {
   "cell_type": "code",
   "execution_count": 34,
   "metadata": {},
   "outputs": [
    {
     "name": "stdout",
     "output_type": "stream",
     "text": [
      "Connection closed.\n"
     ]
    }
   ],
   "source": [
    "%sql CONNECT RESET"
   ]
  },
  {
   "cell_type": "markdown",
   "metadata": {},
   "source": [
    "[Back to Top](#top)"
   ]
  },
  {
   "cell_type": "markdown",
   "metadata": {},
   "source": [
    "## Categories of audit records <a id='categories'></a>\n",
    "\n",
    "There are different categories of audit records that may be generated. In the following description of the categories of events available for auditing, you should notice that following the name of each category is a one-word keyword used to identify the category type. "
   ]
  },
  {
   "cell_type": "markdown",
   "metadata": {},
   "source": [
    "#### AUDIT\n",
    "Generates records when audit settings are changed or when the audit log is accessed. Following is an example how to define an audit policy."
   ]
  },
  {
   "cell_type": "code",
   "execution_count": 102,
   "metadata": {},
   "outputs": [
    {
     "name": "stdout",
     "output_type": "stream",
     "text": [
      "Connection successful.\n"
     ]
    }
   ],
   "source": [
    "%sql CONNECT TO SAMPLE user alex using p123"
   ]
  },
  {
   "cell_type": "code",
   "execution_count": 48,
   "metadata": {},
   "outputs": [
    {
     "name": "stdout",
     "output_type": "stream",
     "text": [
      "Command completed.\n"
     ]
    }
   ],
   "source": [
    "%%sql\n",
    "CREATE AUDIT POLICY Policy_Audit\n",
    "     CATEGORIES AUDIT STATUS BOTH\n",
    "     ERROR TYPE NORMAL;"
   ]
  },
  {
   "cell_type": "code",
   "execution_count": 49,
   "metadata": {},
   "outputs": [
    {
     "name": "stdout",
     "output_type": "stream",
     "text": [
      "Command completed.\n"
     ]
    }
   ],
   "source": [
    "%sql DROP AUDIT POLICY Policy_Audit"
   ]
  },
  {
   "cell_type": "markdown",
   "metadata": {},
   "source": [
    "#### Authorization Checking (CHECKING)\n",
    "Generates records during authorization checking of attempts to access or manipulate Db2 database objects or functions.\n",
    "\n",
    "#### Object Maintenance (OBJMAINT)\n",
    "Generates records when creating or dropping data objects, and when altering certain objects.\n",
    "\n",
    "#### Security Maintenance (SECMAINT). Generates records when:\n",
    "Granting or revoking object privileges or database authorities\n",
    "Granting or revoking security labels or exemptions\n",
    "Altering the group authorization, role authorization, or override or restrict attributes of an LBAC security policy\n",
    "Granting or revoking the SETSESSIONUSER privilege\n",
    "Modifying any of the SYSADM_GROUP, SYSCTRL_GROUP, SYSMAINT_GROUP, or SYSMON_GROUP configuration parameters.\n",
    "#### System Administration (SYSADMIN)\n",
    "Generates records when operations requiring SYSADM, SYSMAINT, or SYSCTRL authority are performed.\n",
    "#### User Validation (VALIDATE)\n",
    "Generates records when authenticating users or retrieving system security information.\n",
    "#### Operation Context (CONTEXT)\n",
    "Generates records to show the operation context when a database operation is performed. This category allows for better interpretation of the audit log file. When used with the log's event correlator field, a group of events can be associated back to a single database operation. For example, a query statement for dynamic queries, a package identifier for static queries, or an indicator of the type of operation being performed, such as CONNECT, can provide needed context when analyzing audit results.\n",
    "#### Execute (EXECUTE)\n",
    "Generates records during the execution of SQL statements."
   ]
  },
  {
   "cell_type": "markdown",
   "metadata": {},
   "source": [
    "## Define Auditing Rules <a id='define'></a>"
   ]
  },
  {
   "cell_type": "markdown",
   "metadata": {},
   "source": [
    "#### Auditing any actions by SYSADM or DBADM\n",
    "In order to complete their security compliance certification, a company must show that any and all activities within the database by those people holding system administration (SYSADM) or database administrative (DBADM) authority can be monitored.\n",
    "\n",
    "To capture all actions within the database, both the EXECUTE and SYSADMIN categories should be audited. The security administrator creates an audit policy that audits these two categories. The security administrator can use the AUDIT statement to associate this audit policy with the SYSADM and DBADM authorities. Any user that holds either SYSADM or DBADM authority will then have any auditable events logged. The following example shows how to create such an audit policy and associate it with the SYSADM and DBADM authorities:"
   ]
  },
  {
   "cell_type": "code",
   "execution_count": 51,
   "metadata": {},
   "outputs": [
    {
     "name": "stdout",
     "output_type": "stream",
     "text": [
      "Command completed.\n"
     ]
    }
   ],
   "source": [
    "%%sql\n",
    "CREATE AUDIT POLICY AdminsPolicy \n",
    "    CATEGORIES EXECUTE STATUS BOTH,\n",
    "    SYSADMIN STATUS BOTH \n",
    "    ERROR TYPE AUDIT\n"
   ]
  },
  {
   "cell_type": "markdown",
   "metadata": {},
   "source": [
    "Activate audit policy"
   ]
  },
  {
   "cell_type": "code",
   "execution_count": 58,
   "metadata": {},
   "outputs": [
    {
     "name": "stdout",
     "output_type": "stream",
     "text": [
      "Command completed.\n"
     ]
    }
   ],
   "source": [
    "%sql AUDIT SYSADM, DBADM USING POLICY ADMINSPOLICY"
   ]
  },
  {
   "cell_type": "markdown",
   "metadata": {},
   "source": [
    "Check the policies in the Db2 catalog tables."
   ]
  },
  {
   "cell_type": "code",
   "execution_count": 62,
   "metadata": {},
   "outputs": [
    {
     "data": {
      "application/vnd.jupyter.widget-view+json": {
       "model_id": "f01235ccb1de43219860cf91c1f58c87",
       "version_major": 2,
       "version_minor": 0
      },
      "text/plain": [
       "QgridWidget(grid_options={'fullWidthRows': True, 'syncColumnCellResize': True, 'forceFitColumns': False, 'defa…"
      ]
     },
     "metadata": {},
     "output_type": "display_data"
    }
   ],
   "source": [
    "%sql -grid SELECT * FROM SYSCAT.AUDITPOLICIES"
   ]
  },
  {
   "cell_type": "code",
   "execution_count": 63,
   "metadata": {},
   "outputs": [
    {
     "data": {
      "application/vnd.jupyter.widget-view+json": {
       "model_id": "35ebd84df44b4f01b8b768a6632b3232",
       "version_major": 2,
       "version_minor": 0
      },
      "text/plain": [
       "QgridWidget(grid_options={'fullWidthRows': True, 'syncColumnCellResize': True, 'forceFitColumns': False, 'defa…"
      ]
     },
     "metadata": {},
     "output_type": "display_data"
    }
   ],
   "source": [
    "%sql -grid SELECT * FROM SYSCAT.AUDITUSE"
   ]
  },
  {
   "cell_type": "markdown",
   "metadata": {},
   "source": [
    "#### Auditing any access to a specific table\n",
    "Consider a company where the EMPLOYEE table contains extremely sensitive information and the company wants to audit any and all SQL access to the data in that table. The EXECUTE category can be used to track all access to a table; it audits the SQL statement, and optionally the input data value provided at execution time for that statement.\n",
    "\n",
    "There are two steps to track activity on the table. First, the security administrator creates an audit policy that specifies the EXECUTE category, and then the security administrator associates that policy with the table:\n"
   ]
  },
  {
   "cell_type": "code",
   "execution_count": 60,
   "metadata": {},
   "outputs": [
    {
     "name": "stdout",
     "output_type": "stream",
     "text": [
      "Command completed.\n"
     ]
    }
   ],
   "source": [
    "%%sql\n",
    "CREATE AUDIT POLICY SensitiveDataPolicy\n",
    "    CATEGORIES EXECUTE \n",
    "    STATUS BOTH \n",
    "    ERROR TYPE AUDIT"
   ]
  },
  {
   "cell_type": "code",
   "execution_count": 61,
   "metadata": {},
   "outputs": [
    {
     "name": "stdout",
     "output_type": "stream",
     "text": [
      "Command completed.\n"
     ]
    }
   ],
   "source": [
    "%sql AUDIT TABLE HMO.PATIENT USING POLICY SensitiveDataPolicy\n"
   ]
  },
  {
   "cell_type": "markdown",
   "metadata": {},
   "source": [
    "#### SECMAINT\n",
    "...\n"
   ]
  },
  {
   "cell_type": "code",
   "execution_count": null,
   "metadata": {},
   "outputs": [],
   "source": [
    "%%sql\n",
    "CREATE AUDIT POLICY SensitiveDataPolicy\n",
    "    CATEGORIES SECMAINT \n",
    "    STATUS BOTH \n",
    "    ERROR TYPE AUDIT"
   ]
  },
  {
   "cell_type": "code",
   "execution_count": null,
   "metadata": {},
   "outputs": [],
   "source": []
  },
  {
   "cell_type": "code",
   "execution_count": null,
   "metadata": {},
   "outputs": [],
   "source": []
  },
  {
   "cell_type": "markdown",
   "metadata": {},
   "source": [
    "#### auditing for a database"
   ]
  },
  {
   "cell_type": "code",
   "execution_count": 103,
   "metadata": {},
   "outputs": [
    {
     "name": "stdout",
     "output_type": "stream",
     "text": [
      "Command completed.\n"
     ]
    }
   ],
   "source": [
    "%%sql\n",
    "CREATE AUDIT POLICY ALTPOLICY \n",
    "  CATEGORIES \n",
    "    AUDIT STATUS BOTH, \n",
    "    OBJMAINT STATUS BOTH,  \n",
    "    CHECKING STATUS BOTH, \n",
    "    EXECUTE STATUS BOTH \n",
    "  ERROR TYPE NORMAL;\n",
    "\n"
   ]
  },
  {
   "cell_type": "code",
   "execution_count": 105,
   "metadata": {},
   "outputs": [
    {
     "name": "stdout",
     "output_type": "stream",
     "text": [
      "Command completed.\n"
     ]
    }
   ],
   "source": [
    "%sql AUDIT DATABASE USING POLICY ALTPOLICY"
   ]
  },
  {
   "cell_type": "markdown",
   "metadata": {},
   "source": [
    "## Inspect audit logs"
   ]
  },
  {
   "cell_type": "code",
   "execution_count": null,
   "metadata": {},
   "outputs": [],
   "source": [
    "db2audit flush\n",
    "\n",
    "db2audit archive database sample to ./auditarchive\n",
    "\n",
    "db2audit extract delasc to ./audit_del_files/ from files db2audit.db.SAMPLE.log.0.20190809104637135267.bk \n",
    "\n",
    "\n",
    "\n",
    "CALL SYSPROC.AUDIT_ARCHIVE( '/auditarchive', -2 )\n",
    "\n",
    "CALL SYSPROC.AUDIT_DELIM_EXTRACT(\n",
    "     '', '', '/auditarchive',  'db2audit.%.200604%', '' ) \n",
    "\n",
    "CALL SYSPROC.AUDIT_DELIM_EXTRACT( '', '', '/auditarchive', \n",
    "    'db2audit.%.20060419034937', 'category \n",
    "     execute status success, checking status failure );\n",
    "\n",
    "LOAD FROM audit.del OF DEL MODIFIED BY DELPRIORITYCHAR LOBSINFILE\n",
    "             INSERT INTO audit.AUDIT\n"
   ]
  },
  {
   "cell_type": "code",
   "execution_count": 107,
   "metadata": {},
   "outputs": [
    {
     "name": "stdout",
     "output_type": "stream",
     "text": [
      "Connection successful.\n"
     ]
    }
   ],
   "source": [
    "%sql CONNECT TO SAMPLE user peter using p123"
   ]
  },
  {
   "cell_type": "code",
   "execution_count": 114,
   "metadata": {},
   "outputs": [
    {
     "data": {
      "text/html": [
       "<div>\n",
       "<style scoped>\n",
       "    .dataframe tbody tr th:only-of-type {\n",
       "        vertical-align: middle;\n",
       "    }\n",
       "\n",
       "    .dataframe tbody tr th {\n",
       "        vertical-align: top;\n",
       "    }\n",
       "\n",
       "    .dataframe thead th {\n",
       "        text-align: right;\n",
       "    }\n",
       "</style>\n",
       "<table border=\"1\" class=\"dataframe\">\n",
       "  <thead>\n",
       "    <tr style=\"text-align: right;\">\n",
       "      <th></th>\n",
       "      <th>ROWS_READ</th>\n",
       "      <th>ROWS_SKIPPED</th>\n",
       "      <th>ROWS_LOADED</th>\n",
       "      <th>ROWS_REJECTED</th>\n",
       "      <th>ROWS_DELETED</th>\n",
       "      <th>ROWS_COMMITTED</th>\n",
       "      <th>ROWS_PARTITIONED</th>\n",
       "      <th>NUM_AGENTINFO_ENTRIES</th>\n",
       "      <th>MSG_RETRIEVAL</th>\n",
       "      <th>MSG_REMOVAL</th>\n",
       "    </tr>\n",
       "  </thead>\n",
       "  <tbody>\n",
       "    <tr>\n",
       "      <th>0</th>\n",
       "      <td>0</td>\n",
       "      <td>0</td>\n",
       "      <td>0</td>\n",
       "      <td>0</td>\n",
       "      <td>0</td>\n",
       "      <td>0</td>\n",
       "      <td>None</td>\n",
       "      <td>None</td>\n",
       "      <td>None</td>\n",
       "      <td>None</td>\n",
       "    </tr>\n",
       "  </tbody>\n",
       "</table>\n",
       "</div>"
      ],
      "text/plain": [
       "   ROWS_READ  ROWS_SKIPPED  ROWS_LOADED  ROWS_REJECTED  ROWS_DELETED  \\\n",
       "0          0             0            0              0             0   \n",
       "\n",
       "   ROWS_COMMITTED ROWS_PARTITIONED NUM_AGENTINFO_ENTRIES MSG_RETRIEVAL  \\\n",
       "0               0             None                  None          None   \n",
       "\n",
       "  MSG_REMOVAL  \n",
       "0        None  "
      ]
     },
     "execution_count": 114,
     "metadata": {},
     "output_type": "execute_result"
    }
   ],
   "source": [
    "%sql CALL ADMIN_CMD('LOAD FROM /home/db2inst1/sqllib/security/auditdata/audit_del_files/audit.del OF DEL MODIFIED BY DELPRIORITYCHAR  LOBSINFILE INSERT INTO audit.AUDIT');"
   ]
  },
  {
   "cell_type": "code",
   "execution_count": 115,
   "metadata": {},
   "outputs": [
    {
     "data": {
      "text/html": [
       "<div>\n",
       "<style scoped>\n",
       "    .dataframe tbody tr th:only-of-type {\n",
       "        vertical-align: middle;\n",
       "    }\n",
       "\n",
       "    .dataframe tbody tr th {\n",
       "        vertical-align: top;\n",
       "    }\n",
       "\n",
       "    .dataframe thead th {\n",
       "        text-align: right;\n",
       "    }\n",
       "</style>\n",
       "<table border=\"1\" class=\"dataframe\">\n",
       "  <thead>\n",
       "    <tr style=\"text-align: right;\">\n",
       "      <th></th>\n",
       "      <th>ROWS_READ</th>\n",
       "      <th>ROWS_SKIPPED</th>\n",
       "      <th>ROWS_LOADED</th>\n",
       "      <th>ROWS_REJECTED</th>\n",
       "      <th>ROWS_DELETED</th>\n",
       "      <th>ROWS_COMMITTED</th>\n",
       "      <th>ROWS_PARTITIONED</th>\n",
       "      <th>NUM_AGENTINFO_ENTRIES</th>\n",
       "      <th>MSG_RETRIEVAL</th>\n",
       "      <th>MSG_REMOVAL</th>\n",
       "    </tr>\n",
       "  </thead>\n",
       "  <tbody>\n",
       "    <tr>\n",
       "      <th>0</th>\n",
       "      <td>17</td>\n",
       "      <td>0</td>\n",
       "      <td>17</td>\n",
       "      <td>0</td>\n",
       "      <td>0</td>\n",
       "      <td>17</td>\n",
       "      <td>None</td>\n",
       "      <td>None</td>\n",
       "      <td>None</td>\n",
       "      <td>None</td>\n",
       "    </tr>\n",
       "  </tbody>\n",
       "</table>\n",
       "</div>"
      ],
      "text/plain": [
       "   ROWS_READ  ROWS_SKIPPED  ROWS_LOADED  ROWS_REJECTED  ROWS_DELETED  \\\n",
       "0         17             0           17              0             0   \n",
       "\n",
       "   ROWS_COMMITTED ROWS_PARTITIONED NUM_AGENTINFO_ENTRIES MSG_RETRIEVAL  \\\n",
       "0              17             None                  None          None   \n",
       "\n",
       "  MSG_REMOVAL  \n",
       "0        None  "
      ]
     },
     "execution_count": 115,
     "metadata": {},
     "output_type": "execute_result"
    }
   ],
   "source": [
    "%sql CALL ADMIN_CMD('LOAD FROM /home/db2inst1/sqllib/security/auditdata/audit_del_files/checking.del OF DEL MODIFIED BY DELPRIORITYCHAR  LOBSINFILE INSERT INTO audit.CHECKING');"
   ]
  },
  {
   "cell_type": "code",
   "execution_count": 116,
   "metadata": {},
   "outputs": [
    {
     "data": {
      "text/html": [
       "<div>\n",
       "<style scoped>\n",
       "    .dataframe tbody tr th:only-of-type {\n",
       "        vertical-align: middle;\n",
       "    }\n",
       "\n",
       "    .dataframe tbody tr th {\n",
       "        vertical-align: top;\n",
       "    }\n",
       "\n",
       "    .dataframe thead th {\n",
       "        text-align: right;\n",
       "    }\n",
       "</style>\n",
       "<table border=\"1\" class=\"dataframe\">\n",
       "  <thead>\n",
       "    <tr style=\"text-align: right;\">\n",
       "      <th></th>\n",
       "      <th>ROWS_READ</th>\n",
       "      <th>ROWS_SKIPPED</th>\n",
       "      <th>ROWS_LOADED</th>\n",
       "      <th>ROWS_REJECTED</th>\n",
       "      <th>ROWS_DELETED</th>\n",
       "      <th>ROWS_COMMITTED</th>\n",
       "      <th>ROWS_PARTITIONED</th>\n",
       "      <th>NUM_AGENTINFO_ENTRIES</th>\n",
       "      <th>MSG_RETRIEVAL</th>\n",
       "      <th>MSG_REMOVAL</th>\n",
       "    </tr>\n",
       "  </thead>\n",
       "  <tbody>\n",
       "    <tr>\n",
       "      <th>0</th>\n",
       "      <td>0</td>\n",
       "      <td>0</td>\n",
       "      <td>0</td>\n",
       "      <td>0</td>\n",
       "      <td>0</td>\n",
       "      <td>0</td>\n",
       "      <td>None</td>\n",
       "      <td>None</td>\n",
       "      <td>None</td>\n",
       "      <td>None</td>\n",
       "    </tr>\n",
       "  </tbody>\n",
       "</table>\n",
       "</div>"
      ],
      "text/plain": [
       "   ROWS_READ  ROWS_SKIPPED  ROWS_LOADED  ROWS_REJECTED  ROWS_DELETED  \\\n",
       "0          0             0            0              0             0   \n",
       "\n",
       "   ROWS_COMMITTED ROWS_PARTITIONED NUM_AGENTINFO_ENTRIES MSG_RETRIEVAL  \\\n",
       "0               0             None                  None          None   \n",
       "\n",
       "  MSG_REMOVAL  \n",
       "0        None  "
      ]
     },
     "execution_count": 116,
     "metadata": {},
     "output_type": "execute_result"
    }
   ],
   "source": [
    "%sql CALL ADMIN_CMD('LOAD FROM /home/db2inst1/sqllib/security/auditdata/audit_del_files/context.del OF DEL MODIFIED BY DELPRIORITYCHAR  LOBSINFILE INSERT INTO audit.CONTEXT');\n"
   ]
  },
  {
   "cell_type": "code",
   "execution_count": 117,
   "metadata": {},
   "outputs": [
    {
     "data": {
      "text/html": [
       "<div>\n",
       "<style scoped>\n",
       "    .dataframe tbody tr th:only-of-type {\n",
       "        vertical-align: middle;\n",
       "    }\n",
       "\n",
       "    .dataframe tbody tr th {\n",
       "        vertical-align: top;\n",
       "    }\n",
       "\n",
       "    .dataframe thead th {\n",
       "        text-align: right;\n",
       "    }\n",
       "</style>\n",
       "<table border=\"1\" class=\"dataframe\">\n",
       "  <thead>\n",
       "    <tr style=\"text-align: right;\">\n",
       "      <th></th>\n",
       "      <th>ROWS_READ</th>\n",
       "      <th>ROWS_SKIPPED</th>\n",
       "      <th>ROWS_LOADED</th>\n",
       "      <th>ROWS_REJECTED</th>\n",
       "      <th>ROWS_DELETED</th>\n",
       "      <th>ROWS_COMMITTED</th>\n",
       "      <th>ROWS_PARTITIONED</th>\n",
       "      <th>NUM_AGENTINFO_ENTRIES</th>\n",
       "      <th>MSG_RETRIEVAL</th>\n",
       "      <th>MSG_REMOVAL</th>\n",
       "    </tr>\n",
       "  </thead>\n",
       "  <tbody>\n",
       "    <tr>\n",
       "      <th>0</th>\n",
       "      <td>2123</td>\n",
       "      <td>0</td>\n",
       "      <td>2123</td>\n",
       "      <td>0</td>\n",
       "      <td>0</td>\n",
       "      <td>2123</td>\n",
       "      <td>None</td>\n",
       "      <td>None</td>\n",
       "      <td>None</td>\n",
       "      <td>None</td>\n",
       "    </tr>\n",
       "  </tbody>\n",
       "</table>\n",
       "</div>"
      ],
      "text/plain": [
       "   ROWS_READ  ROWS_SKIPPED  ROWS_LOADED  ROWS_REJECTED  ROWS_DELETED  \\\n",
       "0       2123             0         2123              0             0   \n",
       "\n",
       "   ROWS_COMMITTED ROWS_PARTITIONED NUM_AGENTINFO_ENTRIES MSG_RETRIEVAL  \\\n",
       "0            2123             None                  None          None   \n",
       "\n",
       "  MSG_REMOVAL  \n",
       "0        None  "
      ]
     },
     "execution_count": 117,
     "metadata": {},
     "output_type": "execute_result"
    }
   ],
   "source": [
    "%sql CALL ADMIN_CMD('LOAD FROM /home/db2inst1/sqllib/security/auditdata/audit_del_files/execute.del OF DEL MODIFIED BY DELPRIORITYCHAR  LOBSINFILE INSERT INTO audit.EXECUTE');\n"
   ]
  },
  {
   "cell_type": "code",
   "execution_count": 118,
   "metadata": {},
   "outputs": [
    {
     "data": {
      "text/html": [
       "<div>\n",
       "<style scoped>\n",
       "    .dataframe tbody tr th:only-of-type {\n",
       "        vertical-align: middle;\n",
       "    }\n",
       "\n",
       "    .dataframe tbody tr th {\n",
       "        vertical-align: top;\n",
       "    }\n",
       "\n",
       "    .dataframe thead th {\n",
       "        text-align: right;\n",
       "    }\n",
       "</style>\n",
       "<table border=\"1\" class=\"dataframe\">\n",
       "  <thead>\n",
       "    <tr style=\"text-align: right;\">\n",
       "      <th></th>\n",
       "      <th>ROWS_READ</th>\n",
       "      <th>ROWS_SKIPPED</th>\n",
       "      <th>ROWS_LOADED</th>\n",
       "      <th>ROWS_REJECTED</th>\n",
       "      <th>ROWS_DELETED</th>\n",
       "      <th>ROWS_COMMITTED</th>\n",
       "      <th>ROWS_PARTITIONED</th>\n",
       "      <th>NUM_AGENTINFO_ENTRIES</th>\n",
       "      <th>MSG_RETRIEVAL</th>\n",
       "      <th>MSG_REMOVAL</th>\n",
       "    </tr>\n",
       "  </thead>\n",
       "  <tbody>\n",
       "    <tr>\n",
       "      <th>0</th>\n",
       "      <td>1</td>\n",
       "      <td>0</td>\n",
       "      <td>1</td>\n",
       "      <td>0</td>\n",
       "      <td>0</td>\n",
       "      <td>1</td>\n",
       "      <td>None</td>\n",
       "      <td>None</td>\n",
       "      <td>None</td>\n",
       "      <td>None</td>\n",
       "    </tr>\n",
       "  </tbody>\n",
       "</table>\n",
       "</div>"
      ],
      "text/plain": [
       "   ROWS_READ  ROWS_SKIPPED  ROWS_LOADED  ROWS_REJECTED  ROWS_DELETED  \\\n",
       "0          1             0            1              0             0   \n",
       "\n",
       "   ROWS_COMMITTED ROWS_PARTITIONED NUM_AGENTINFO_ENTRIES MSG_RETRIEVAL  \\\n",
       "0               1             None                  None          None   \n",
       "\n",
       "  MSG_REMOVAL  \n",
       "0        None  "
      ]
     },
     "execution_count": 118,
     "metadata": {},
     "output_type": "execute_result"
    }
   ],
   "source": [
    "%sql CALL ADMIN_CMD('LOAD FROM /home/db2inst1/sqllib/security/auditdata/audit_del_files/objmaint.del OF DEL MODIFIED BY DELPRIORITYCHAR  LOBSINFILE INSERT INTO audit.OBJMAINT');\n"
   ]
  },
  {
   "cell_type": "code",
   "execution_count": 119,
   "metadata": {},
   "outputs": [
    {
     "data": {
      "text/html": [
       "<div>\n",
       "<style scoped>\n",
       "    .dataframe tbody tr th:only-of-type {\n",
       "        vertical-align: middle;\n",
       "    }\n",
       "\n",
       "    .dataframe tbody tr th {\n",
       "        vertical-align: top;\n",
       "    }\n",
       "\n",
       "    .dataframe thead th {\n",
       "        text-align: right;\n",
       "    }\n",
       "</style>\n",
       "<table border=\"1\" class=\"dataframe\">\n",
       "  <thead>\n",
       "    <tr style=\"text-align: right;\">\n",
       "      <th></th>\n",
       "      <th>ROWS_READ</th>\n",
       "      <th>ROWS_SKIPPED</th>\n",
       "      <th>ROWS_LOADED</th>\n",
       "      <th>ROWS_REJECTED</th>\n",
       "      <th>ROWS_DELETED</th>\n",
       "      <th>ROWS_COMMITTED</th>\n",
       "      <th>ROWS_PARTITIONED</th>\n",
       "      <th>NUM_AGENTINFO_ENTRIES</th>\n",
       "      <th>MSG_RETRIEVAL</th>\n",
       "      <th>MSG_REMOVAL</th>\n",
       "    </tr>\n",
       "  </thead>\n",
       "  <tbody>\n",
       "    <tr>\n",
       "      <th>0</th>\n",
       "      <td>0</td>\n",
       "      <td>0</td>\n",
       "      <td>0</td>\n",
       "      <td>0</td>\n",
       "      <td>0</td>\n",
       "      <td>0</td>\n",
       "      <td>None</td>\n",
       "      <td>None</td>\n",
       "      <td>None</td>\n",
       "      <td>None</td>\n",
       "    </tr>\n",
       "  </tbody>\n",
       "</table>\n",
       "</div>"
      ],
      "text/plain": [
       "   ROWS_READ  ROWS_SKIPPED  ROWS_LOADED  ROWS_REJECTED  ROWS_DELETED  \\\n",
       "0          0             0            0              0             0   \n",
       "\n",
       "   ROWS_COMMITTED ROWS_PARTITIONED NUM_AGENTINFO_ENTRIES MSG_RETRIEVAL  \\\n",
       "0               0             None                  None          None   \n",
       "\n",
       "  MSG_REMOVAL  \n",
       "0        None  "
      ]
     },
     "execution_count": 119,
     "metadata": {},
     "output_type": "execute_result"
    }
   ],
   "source": [
    "%sql CALL ADMIN_CMD('LOAD FROM /home/db2inst1/sqllib/security/auditdata/audit_del_files/secmaint.del OF DEL MODIFIED BY DELPRIORITYCHAR  LOBSINFILE INSERT INTO audit.SECMAINT');\n"
   ]
  },
  {
   "cell_type": "code",
   "execution_count": 120,
   "metadata": {},
   "outputs": [
    {
     "data": {
      "text/html": [
       "<div>\n",
       "<style scoped>\n",
       "    .dataframe tbody tr th:only-of-type {\n",
       "        vertical-align: middle;\n",
       "    }\n",
       "\n",
       "    .dataframe tbody tr th {\n",
       "        vertical-align: top;\n",
       "    }\n",
       "\n",
       "    .dataframe thead th {\n",
       "        text-align: right;\n",
       "    }\n",
       "</style>\n",
       "<table border=\"1\" class=\"dataframe\">\n",
       "  <thead>\n",
       "    <tr style=\"text-align: right;\">\n",
       "      <th></th>\n",
       "      <th>ROWS_READ</th>\n",
       "      <th>ROWS_SKIPPED</th>\n",
       "      <th>ROWS_LOADED</th>\n",
       "      <th>ROWS_REJECTED</th>\n",
       "      <th>ROWS_DELETED</th>\n",
       "      <th>ROWS_COMMITTED</th>\n",
       "      <th>ROWS_PARTITIONED</th>\n",
       "      <th>NUM_AGENTINFO_ENTRIES</th>\n",
       "      <th>MSG_RETRIEVAL</th>\n",
       "      <th>MSG_REMOVAL</th>\n",
       "    </tr>\n",
       "  </thead>\n",
       "  <tbody>\n",
       "    <tr>\n",
       "      <th>0</th>\n",
       "      <td>16</td>\n",
       "      <td>0</td>\n",
       "      <td>16</td>\n",
       "      <td>0</td>\n",
       "      <td>0</td>\n",
       "      <td>16</td>\n",
       "      <td>None</td>\n",
       "      <td>None</td>\n",
       "      <td>None</td>\n",
       "      <td>None</td>\n",
       "    </tr>\n",
       "  </tbody>\n",
       "</table>\n",
       "</div>"
      ],
      "text/plain": [
       "   ROWS_READ  ROWS_SKIPPED  ROWS_LOADED  ROWS_REJECTED  ROWS_DELETED  \\\n",
       "0         16             0           16              0             0   \n",
       "\n",
       "   ROWS_COMMITTED ROWS_PARTITIONED NUM_AGENTINFO_ENTRIES MSG_RETRIEVAL  \\\n",
       "0              16             None                  None          None   \n",
       "\n",
       "  MSG_REMOVAL  \n",
       "0        None  "
      ]
     },
     "execution_count": 120,
     "metadata": {},
     "output_type": "execute_result"
    }
   ],
   "source": [
    "%sql CALL ADMIN_CMD('LOAD FROM /home/db2inst1/sqllib/security/auditdata/audit_del_files/sysadmin.del OF DEL MODIFIED BY DELPRIORITYCHAR  LOBSINFILE INSERT INTO audit.SYSADMIN');\n"
   ]
  },
  {
   "cell_type": "code",
   "execution_count": 121,
   "metadata": {},
   "outputs": [
    {
     "data": {
      "text/html": [
       "<div>\n",
       "<style scoped>\n",
       "    .dataframe tbody tr th:only-of-type {\n",
       "        vertical-align: middle;\n",
       "    }\n",
       "\n",
       "    .dataframe tbody tr th {\n",
       "        vertical-align: top;\n",
       "    }\n",
       "\n",
       "    .dataframe thead th {\n",
       "        text-align: right;\n",
       "    }\n",
       "</style>\n",
       "<table border=\"1\" class=\"dataframe\">\n",
       "  <thead>\n",
       "    <tr style=\"text-align: right;\">\n",
       "      <th></th>\n",
       "      <th>ROWS_READ</th>\n",
       "      <th>ROWS_SKIPPED</th>\n",
       "      <th>ROWS_LOADED</th>\n",
       "      <th>ROWS_REJECTED</th>\n",
       "      <th>ROWS_DELETED</th>\n",
       "      <th>ROWS_COMMITTED</th>\n",
       "      <th>ROWS_PARTITIONED</th>\n",
       "      <th>NUM_AGENTINFO_ENTRIES</th>\n",
       "      <th>MSG_RETRIEVAL</th>\n",
       "      <th>MSG_REMOVAL</th>\n",
       "    </tr>\n",
       "  </thead>\n",
       "  <tbody>\n",
       "    <tr>\n",
       "      <th>0</th>\n",
       "      <td>0</td>\n",
       "      <td>0</td>\n",
       "      <td>0</td>\n",
       "      <td>0</td>\n",
       "      <td>0</td>\n",
       "      <td>0</td>\n",
       "      <td>None</td>\n",
       "      <td>None</td>\n",
       "      <td>None</td>\n",
       "      <td>None</td>\n",
       "    </tr>\n",
       "  </tbody>\n",
       "</table>\n",
       "</div>"
      ],
      "text/plain": [
       "   ROWS_READ  ROWS_SKIPPED  ROWS_LOADED  ROWS_REJECTED  ROWS_DELETED  \\\n",
       "0          0             0            0              0             0   \n",
       "\n",
       "   ROWS_COMMITTED ROWS_PARTITIONED NUM_AGENTINFO_ENTRIES MSG_RETRIEVAL  \\\n",
       "0               0             None                  None          None   \n",
       "\n",
       "  MSG_REMOVAL  \n",
       "0        None  "
      ]
     },
     "execution_count": 121,
     "metadata": {},
     "output_type": "execute_result"
    }
   ],
   "source": [
    "%sql CALL ADMIN_CMD('LOAD FROM /home/db2inst1/sqllib/security/auditdata/audit_del_files/validate.del OF DEL MODIFIED BY DELPRIORITYCHAR  LOBSINFILE INSERT INTO audit.VALIDATE');\n"
   ]
  },
  {
   "cell_type": "code",
   "execution_count": 122,
   "metadata": {},
   "outputs": [
    {
     "data": {
      "application/vnd.jupyter.widget-view+json": {
       "model_id": "9e92d3d1df1842dd910eb935c42b0ec9",
       "version_major": 2,
       "version_minor": 0
      },
      "text/plain": [
       "QgridWidget(grid_options={'fullWidthRows': True, 'syncColumnCellResize': True, 'forceFitColumns': False, 'defa…"
      ]
     },
     "metadata": {},
     "output_type": "display_data"
    }
   ],
   "source": [
    "%%sql -grid\n",
    "SELECT * \n",
    "    FROM audit.execute\n",
    "    WHERE event = 'STATEMENT'\n",
    "    AND activitytype = 'WRITE_DML'"
   ]
  },
  {
   "cell_type": "code",
   "execution_count": 112,
   "metadata": {},
   "outputs": [
    {
     "data": {
      "application/vnd.jupyter.widget-view+json": {
       "model_id": "43396fcda5314c32921e13bd08a4752d",
       "version_major": 2,
       "version_minor": 0
      },
      "text/plain": [
       "QgridWidget(grid_options={'fullWidthRows': True, 'syncColumnCellResize': True, 'forceFitColumns': False, 'defa…"
      ]
     },
     "metadata": {},
     "output_type": "display_data"
    }
   ],
   "source": [
    "%%sql -grid\n",
    "SELECT * \n",
    "    FROM audit.checking\n",
    "    "
   ]
  },
  {
   "cell_type": "code",
   "execution_count": 81,
   "metadata": {},
   "outputs": [
    {
     "name": "stdout",
     "output_type": "stream",
     "text": [
      "Command completed.\n"
     ]
    }
   ],
   "source": [
    "%sql delete from audit.execute"
   ]
  },
  {
   "cell_type": "code",
   "execution_count": 72,
   "metadata": {},
   "outputs": [
    {
     "name": "stdout",
     "output_type": "stream",
     "text": [
      "Connection closed.\n"
     ]
    }
   ],
   "source": [
    "%sql CONNECT RESET"
   ]
  },
  {
   "cell_type": "markdown",
   "metadata": {},
   "source": [
    "[Back to Top](#top)"
   ]
  },
  {
   "cell_type": "markdown",
   "metadata": {},
   "source": [
    "## Effect of switching user <a id='user_switch'></a>"
   ]
  },
  {
   "cell_type": "markdown",
   "metadata": {},
   "source": [
    "If a user is switched within a trusted connection, no remnants of the original user are left behind. In this case, the audit policies associated with the original user are no longer considered, and the applicable audit policies are re-evaluated according to the new user. Any audit policy associated with the trusted connection is still in effect.\n",
    "\n",
    "If a SET SESSION USER statement is used, only the session authorization ID is switched. The audit policy of the authorization ID of the original user (the system authorization ID) remains in effect and the audit policy of the new user is used as well. If multiple SET SESSION USER statements are issued within a session, only the audit policies associated with the original user (the system authorization ID) and the current user (the session authorization ID) are considered.\n",
    "\n",
    "In our HMO scenario we often used the `SET SESSION USER ` statement. Have a look into the audit tables and see the effects."
   ]
  },
  {
   "cell_type": "code",
   "execution_count": null,
   "metadata": {},
   "outputs": [],
   "source": []
  },
  {
   "cell_type": "code",
   "execution_count": null,
   "metadata": {},
   "outputs": [],
   "source": []
  },
  {
   "cell_type": "markdown",
   "metadata": {},
   "source": [
    "[Back to Top](#top)"
   ]
  },
  {
   "cell_type": "markdown",
   "metadata": {},
   "source": [
    "## Clean all <a id='clean'></a>"
   ]
  },
  {
   "cell_type": "code",
   "execution_count": 30,
   "metadata": {},
   "outputs": [
    {
     "name": "stdout",
     "output_type": "stream",
     "text": [
      "Command completed.\n"
     ]
    }
   ],
   "source": [
    "%%sql\n",
    "DROP TABLE AUDIT;\n",
    "DROP TABLE CHECKING;\n",
    "DROP TABLE OBJMAINT;\n",
    "DROP TABLE SECMAINT;\n",
    "DROP TABLE SYSADMIN;\n",
    "DROP TABLE VALIDATE;\n",
    "DROP TABLE CONTEXT;\n",
    "DROP TABLE EXECUTE;"
   ]
  },
  {
   "cell_type": "code",
   "execution_count": 55,
   "metadata": {},
   "outputs": [
    {
     "name": "stdout",
     "output_type": "stream",
     "text": [
      "Command completed.\n"
     ]
    }
   ],
   "source": [
    "%%sql \n",
    "AUDIT SYSADM REMOVE POLICY;\n",
    "AUDIT DBADM REMOVE POLICY;"
   ]
  }
 ],
 "metadata": {
  "kernelspec": {
   "display_name": "Python 3",
   "language": "python",
   "name": "python3"
  },
  "language_info": {
   "codemirror_mode": {
    "name": "ipython",
    "version": 3
   },
   "file_extension": ".py",
   "mimetype": "text/x-python",
   "name": "python",
   "nbconvert_exporter": "python",
   "pygments_lexer": "ipython3",
   "version": "3.7.3"
  }
 },
 "nbformat": 4,
 "nbformat_minor": 2
}
